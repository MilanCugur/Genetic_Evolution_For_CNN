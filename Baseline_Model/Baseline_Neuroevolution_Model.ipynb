{
  "nbformat": 4,
  "nbformat_minor": 0,
  "metadata": {
    "colab": {
      "name": "Baseline_Neuroevolution_Model.ipynb",
      "provenance": [],
      "collapsed_sections": [
        "CuXJhy_ieyQ0",
        "hVp4A8xQU-fb"
      ],
      "toc_visible": true,
      "include_colab_link": true
    },
    "kernelspec": {
      "name": "python3",
      "display_name": "Python 3"
    },
    "accelerator": "GPU"
  },
  "cells": [
    {
      "cell_type": "markdown",
      "metadata": {
        "id": "view-in-github",
        "colab_type": "text"
      },
      "source": [
        "<a href=\"https://colab.research.google.com/github/MilanCugur/Neuroevolution-LocalSearch/blob/master/Baseline_Model/Baseline_Neuroevolution_Model.ipynb\" target=\"_parent\"><img src=\"https://colab.research.google.com/assets/colab-badge.svg\" alt=\"Open In Colab\"/></a>"
      ]
    },
    {
      "cell_type": "markdown",
      "metadata": {
        "id": "FfJ-fn_XLnLU",
        "colab_type": "text"
      },
      "source": [
        "# Data Loading"
      ]
    },
    {
      "cell_type": "code",
      "metadata": {
        "id": "8DoSLvx2LdSl",
        "colab_type": "code",
        "outputId": "ccaad05c-a3d4-4f79-d952-48ba85c96fb4",
        "colab": {
          "base_uri": "https://localhost:8080/",
          "height": 122
        }
      },
      "source": [
        "from google.colab import drive\n",
        "drive.mount('/content/drive')"
      ],
      "execution_count": 1,
      "outputs": [
        {
          "output_type": "stream",
          "text": [
            "Go to this URL in a browser: https://accounts.google.com/o/oauth2/auth?client_id=947318989803-6bn6qk8qdgf4n4g3pfee6491hc0brc4i.apps.googleusercontent.com&redirect_uri=urn%3aietf%3awg%3aoauth%3a2.0%3aoob&response_type=code&scope=email%20https%3a%2f%2fwww.googleapis.com%2fauth%2fdocs.test%20https%3a%2f%2fwww.googleapis.com%2fauth%2fdrive%20https%3a%2f%2fwww.googleapis.com%2fauth%2fdrive.photos.readonly%20https%3a%2f%2fwww.googleapis.com%2fauth%2fpeopleapi.readonly\n",
            "\n",
            "Enter your authorization code:\n",
            "··········\n",
            "Mounted at /content/drive\n"
          ],
          "name": "stdout"
        }
      ]
    },
    {
      "cell_type": "code",
      "metadata": {
        "id": "cfoTzVEoMfV6",
        "colab_type": "code",
        "colab": {
          "base_uri": "https://localhost:8080/",
          "height": 80
        },
        "outputId": "fa1ceb42-323c-421d-a221-7d9f2062666a"
      },
      "source": [
        "import numpy as np\n",
        "from keras.models import Model\n",
        "from keras.layers import Input, Conv2D, MaxPool2D, Add, Activation, Flatten, Concatenate, Dense, Dropout, BatchNormalization\n",
        "from keras.optimizers import Adam  \n",
        "from keras.losses import categorical_crossentropy\n",
        "from keras.layers import LeakyReLU, concatenate\n",
        "from keras.layers.advanced_activations import ReLU\n",
        "from keras.initializers import glorot_normal\n",
        "import keras.backend as K\n",
        "from keras.models import load_model  # Save model params\n",
        "\n",
        "def extract_dataset(path):\n",
        "  \"\"\"\n",
        "  extract DoubledMNIST dataset\n",
        "  Argument: path to .zip file with the dataset\n",
        "  Return value: x_train, y_train, x_test, y_test lists of numpy arrays \n",
        "  \n",
        "  (DoubledMNIST dataset: train size 120k images 56x56, test size 20k images 56x56)\n",
        "  \"\"\"\n",
        "  # import libraries\n",
        "  import os                     # for basic os operations\n",
        "  from zipfile import ZipFile \n",
        "  from skimage import io\n",
        "  import shutil\n",
        "  \n",
        "  if not path.endswith('.zip'):\n",
        "    raise ValueError(\"Error: path is not '.zip' file\")\n",
        "  \n",
        "  archive = ZipFile(path, 'r')  # extract\n",
        "  archive.extractall('./DoubledMNIST')\n",
        "  archive.close()\n",
        "  del archive\n",
        "  \n",
        "  x_train = []\n",
        "  y_train = []\n",
        "  x_test = []\n",
        "  y_test = []\n",
        "  \n",
        "  for file in os.listdir('./DoubledMNIST/train'):\n",
        "    img = io.imread(os.path.join('./DoubledMNIST/train', file))\n",
        "    x_train.append(np.array(img))\n",
        "    y_train.append(int(file.split('_')[1]))\n",
        "  \n",
        "  for file in os.listdir('./DoubledMNIST/test'):\n",
        "    img = io.imread(os.path.join('./DoubledMNIST/test', file))\n",
        "    x_test.append(np.array(img))\n",
        "    y_test.append(int(file.split('_')[1]))\n",
        "    \n",
        "  shutil.rmtree('./DoubledMNIST')\n",
        "  return np.array(x_train), np.array(y_train), np.array(x_test), np.array(y_test)"
      ],
      "execution_count": 2,
      "outputs": [
        {
          "output_type": "stream",
          "text": [
            "Using TensorFlow backend.\n"
          ],
          "name": "stderr"
        },
        {
          "output_type": "display_data",
          "data": {
            "text/html": [
              "<p style=\"color: red;\">\n",
              "The default version of TensorFlow in Colab will soon switch to TensorFlow 2.x.<br>\n",
              "We recommend you <a href=\"https://www.tensorflow.org/guide/migrate\" target=\"_blank\">upgrade</a> now \n",
              "or ensure your notebook will continue to use TensorFlow 1.x via the <code>%tensorflow_version 1.x</code> magic:\n",
              "<a href=\"https://colab.research.google.com/notebooks/tensorflow_version.ipynb\" target=\"_blank\">more info</a>.</p>\n"
            ],
            "text/plain": [
              "<IPython.core.display.HTML object>"
            ]
          },
          "metadata": {
            "tags": []
          }
        }
      ]
    },
    {
      "cell_type": "code",
      "metadata": {
        "id": "2bKQ505PMxBn",
        "colab_type": "code",
        "colab": {}
      },
      "source": [
        "def load_mnist(doubled=0, ntrain=None, ntest=None):\n",
        "    \"\"\"\n",
        "    doubled==0 -> load MNIST; doubled==1-> load DoubledMNIST\n",
        "    ntrain - number of train samples\n",
        "    ntest - number of test samples\n",
        "    \"\"\"\n",
        "\n",
        "    from keras.utils import to_categorical\n",
        "    import numpy as np\n",
        "\n",
        "    if doubled==0:\n",
        "        # load mnist\n",
        "        from keras.datasets import mnist\n",
        "\n",
        "        (_x_train, _y_train), (_x_test, _y_test) = mnist.load_data()\n",
        "        if ntrain==None:\n",
        "            ntrain = _x_train.shape[0]\n",
        "        if ntest==None:\n",
        "            ntest = _x_test.shape[0]\n",
        "        assert ntrain<=_x_train.shape[0] and ntest<=_x_test.shape[0]\n",
        "    else:\n",
        "        # load doubled mnist\n",
        "        _x_train, _y_train, _x_test, _y_test = extract_dataset('./drive/My Drive/ni_sem/DoubledMNIST.zip')\n",
        "\n",
        "    # Prepare images\n",
        "    box_size = _x_train.shape[1]\n",
        "    y_train = to_categorical(_y_train)[:ntrain]\n",
        "    y_test = to_categorical(_y_test)[:ntest]\n",
        "    x_train = np.array(_x_train).astype('float32')[:ntrain]\n",
        "    x_train /= 255\n",
        "    x_train = np.reshape(x_train,[-1, box_size, box_size, 1])\n",
        "    x_test = np.array(_x_test).astype('float32')[:ntest]\n",
        "    x_test /= 255\n",
        "    x_test = np.reshape(x_test, [-1, box_size, box_size, 1])\n",
        "    return x_train, y_train, x_test, y_test, box_size"
      ],
      "execution_count": 0,
      "outputs": []
    },
    {
      "cell_type": "code",
      "metadata": {
        "id": "P5K7U7oOg4_4",
        "colab_type": "code",
        "colab": {}
      },
      "source": [
        "%%time\n",
        "x_train, y_train, x_test, y_test, box_size = load_mnist(doubled=0, ntrain=10000, ntest=1000)"
      ],
      "execution_count": 0,
      "outputs": []
    },
    {
      "cell_type": "code",
      "metadata": {
        "id": "V8PNO4_WwR-E",
        "colab_type": "code",
        "colab": {}
      },
      "source": [
        "x_train.shape, y_train.shape, x_test.shape, y_test.shape"
      ],
      "execution_count": 0,
      "outputs": []
    },
    {
      "cell_type": "code",
      "metadata": {
        "id": "DA_twWHcP-71",
        "colab_type": "code",
        "colab": {}
      },
      "source": [
        "from matplotlib import pyplot as plt  # smal demonstration\n",
        "\n",
        "plt.imshow(x_test[19].reshape((x_test.shape[1], x_test.shape[2])))\n",
        "plt.show()\n",
        "\n",
        "print(y_test[19])"
      ],
      "execution_count": 0,
      "outputs": []
    },
    {
      "cell_type": "markdown",
      "metadata": {
        "id": "8uungJ3ZiczL",
        "colab_type": "text"
      },
      "source": [
        "# CNN tools"
      ]
    },
    {
      "cell_type": "code",
      "metadata": {
        "id": "1HDESDezifHo",
        "colab_type": "code",
        "colab": {}
      },
      "source": [
        "STAGES = np.array([\"s1\",\"s2\",\"s3\"]) # S\n",
        "NUM_NODES = np.array([3,4,5])       # K\n",
        "FILTERS = np.array([32, 48, 64])\n",
        "sampleIndividual = [1, 0, 1,   1, 1, 0, 1, 0, 0,  1, 0, 1, 0, 0, 1, 0, 0, 0, 1]\n",
        "\n",
        "# sampleIndividual = [1, 0, 1,   1, 0, 1, 0, 0, 1,  1, 0, 1, 0, 0, 1, 0, 0, 0, 1]; radi klasicna CNN\n",
        "# stage1 examples\n",
        "# sampleIndividual = [1, 0, 0,   1, 0, 1, 0, 0, 1,  1, 0, 1, 0, 0, 1, 0, 0, 0, 1]; radi; trojka eliminisana\n",
        "# sampleIndividual = [0, 1, 0,   1, 0, 1, 0, 0, 1,  1, 0, 1, 0, 0, 1, 0, 0, 0, 1]; radi; dvojka eliminisana\n",
        "# sampleIndividual = [0, 0, 1,   1, 0, 1, 0, 0, 1,  1, 0, 1, 0, 0, 1, 0, 0, 0, 1]; radi; jedinica eliminisana\n",
        "# sampleIndividual = [0, 0, 0,   1, 0, 1, 0, 0, 1,  1, 0, 1, 0, 0, 1, 0, 0, 0, 1]; radi; samo jedna konv.\n",
        "# stage2 examples\n",
        "# sampleIndividual = [1, 0, 1,   0, 0, 0, 0, 0, 1,  1, 0, 1, 0, 0, 1, 0, 0, 0, 1]; radi 0->3->4->5\n",
        "# sampleIndividual = [1, 0, 1,   0, 1, 0, 0, 0, 0,  1, 0, 1, 0, 0, 1, 0, 0, 0, 1]; radi 0->1->3->5\n",
        "# sampleIndividual = [1, 0, 1,   1, 1, 0, 1, 0, 0,  1, 0, 1, 0, 0, 1, 0, 0, 0, 1]; radi; 0->1->2,3,4->5"
      ],
      "execution_count": 0,
      "outputs": []
    },
    {
      "cell_type": "code",
      "metadata": {
        "id": "Mbp0WjNmifCP",
        "colab_type": "code",
        "colab": {}
      },
      "source": [
        "def __create_indices(num_nodes):\n",
        "  \"\"\"\n",
        "  num_nodes - number of nodes per each stage\n",
        "\n",
        "  Calculate bits indices (startindex, length) for each stage \n",
        "  \"\"\"\n",
        "  l =  0                              # genome length\n",
        "  bits_indices, i = np.empty((0,2),dtype = np.int32), 0 \n",
        "  for Ks in num_nodes:\n",
        "    length = Ks * (Ks - 1)\n",
        "    bits_indices = np.vstack([bits_indices,[i, i + int(0.5 * length)]])\n",
        "    i += int(0.5 * length)\n",
        "    l += length\n",
        "  l = int(0.5 * l)\n",
        "  return bits_indices, l\n",
        "\n",
        "def CNN_build(stages, num_nodes, n_filters, individual, box_size, n_classes, verbose=0):\n",
        "  \"\"\"\n",
        "  stages - array of stage names\n",
        "  num_nodes - number of conv nodes per each stage\n",
        "  n_filters - number of filters per stage\n",
        "  individual - binary list representing individual architecture\n",
        "  box_size - expect input images like (box_size, box_size)\n",
        "  n_classes - number of output clasees\n",
        "\n",
        "  Build CNN architecture from the given list\n",
        "  \"\"\"\n",
        "\n",
        "  L = len(individual)\n",
        "  bits_indices, _L= __create_indices(num_nodes)\n",
        "  assert(L==_L)  # small check of the input individual connections info\n",
        "\n",
        "  if(verbose):\n",
        "    print('Starting network building..')\n",
        "  image_shape = (box_size, box_size, 1) \n",
        "  x_input = Input(shape=image_shape)  \n",
        "  previous = None # output from previous stage (initially input of CNN)\n",
        "  # Build stage by stage\n",
        "  for i, (s, Ks, n_filter) in enumerate(zip(stages, num_nodes, n_filters)):\n",
        "    if i==0:\n",
        "      previous = x_input\n",
        "    if(verbose):\n",
        "        print('\\nBuild layer', s, ':', Ks, 'nodes,', n_filter, 'filters.')\n",
        "    stage_indices = individual[bits_indices[i][0]:bits_indices[i][1]]                  # connection indices for current stage nodes; ex. [1, 0, 1, 0, 0, 1, 0, 0, 0, 1]\n",
        "    stage_indexes = np.split(range(int(Ks*(Ks-1)/2)),np.cumsum(range(Ks - 1)))[1:]     # connection indexes for current stage nodes; ex. [array([0]), array([1, 2]), array([3, 4, 5]), array([6, 7, 8, 9])]\n",
        "    stage_nodes = []                                                                   # nodes in a stage; ex. [vs1_1, vs1_2, vs1_3] (0, 4 are dummy)\n",
        "    to_him = list(np.zeros(Ks))                                                              # number of nodes to which i-th node points to\n",
        "    from_him = list(np.zeros(Ks))  \n",
        "    if(verbose):                                                          # number of nodes from i-th node to others\n",
        "        print('Stage indices:', stage_indices)\n",
        "        print('Stage indexes:', stage_indexes)\n",
        "\n",
        "    # default stage input node\n",
        "    if(verbose):\n",
        "        print('Building '+'v'+str(s)+'_0')\n",
        "    vs0 = Conv2D(filters=n_filter, kernel_size=(3,3), strides=(1,1), activation='relu', padding='same', name='v'+str(s)+'_0')(previous)  # TODO\n",
        "    if(verbose):\n",
        "        print('Builded '+'v'+str(s)+'_0')\n",
        "\n",
        "    # first node and trivial vs0->vs1\n",
        "    if(verbose):\n",
        "        print('Building '+'v'+str(s)+'_1')\n",
        "    vs1 = Conv2D(filters=n_filter, kernel_size=(3,3), strides=(1,1), activation='relu', padding='same', name='v'+str(s)+'_1')(vs0) \n",
        "    stage_nodes += [vs1]\n",
        "    if(verbose):\n",
        "        print('Builded '+'v'+str(s)+'_1')\n",
        "\n",
        "    for j in range(2, Ks+1):\n",
        "      name = 'v'+str(s)+'_'+str(j)  # name of the current node\n",
        "      if(verbose):\n",
        "        print('Building '+name)\n",
        "      tonode = stage_indices[stage_indexes[j-2][0]:stage_indexes[j-2][-1]+1]  # slice from stage_indices\n",
        "      input = None  # Input to current node\n",
        "      if sum(tonode)==0:  # empty input, connect to vs0\n",
        "        input = vs0\n",
        "      else:  # have some input\n",
        "        for k, connection in enumerate(tonode):\n",
        "          if connection==1:\n",
        "            from_him[k] += 1\n",
        "            to_him[j-1] += 1\n",
        "            if input is None:\n",
        "              input = stage_nodes[k]\n",
        "            else:\n",
        "              input = Add()([input, stage_nodes[k]])\n",
        "      v = Conv2D(filters=n_filter, kernel_size=(3,3), strides=(1,1), activation='relu', padding='same', name='v'+str(s)+'_'+str(j))(input) \n",
        "      stage_nodes += [v]\n",
        "      if(verbose):\n",
        "        print('Builded node '+name)\n",
        "\n",
        "    if(verbose):\n",
        "        print('from_him: ', from_him)\n",
        "        print('to_him: ', to_him)\n",
        "        print('stage_nodes: ', stage_nodes)\n",
        "\n",
        "    if sum(from_him)==sum(to_him)==0:  # only one convolution vs0\n",
        "        previous = MaxPool2D(pool_size=(2,2), padding='same')(vs0)\n",
        "    else:  # have some of the ordinary nodes\n",
        "        if(verbose):\n",
        "            print('Building '+'v'+str(s)+'_'+str(Ks+1))\n",
        "        input = None  # last node no output definitelly\n",
        "        for k in range(len(stage_nodes)):\n",
        "            if from_him[k]==0 and to_him[k]!=0:  # no connections from that node\n",
        "                if(verbose):\n",
        "                    print('Connect to last node node', k, ' ', stage_nodes[k])\n",
        "                if input is None:\n",
        "                    input = stage_nodes[k]\n",
        "                else:\n",
        "                    input = Add()([input, stage_nodes[k]])\n",
        "        vsKs = Conv2D(filters=n_filter, kernel_size=(3,3), strides=(1,1), activation='relu', padding='same', name='v'+str(s)+'_'+str(Ks+1))(input) # defaul stage output node\n",
        "        if(verbose):\n",
        "            print('Builded '+'v'+str(s)+str(Ks+1))\n",
        "        previous = MaxPool2D(pool_size=(2,2), padding='same')(vsKs)\n",
        "  \n",
        "  # Adding FC part of NN\n",
        "  x = Flatten(name='flatten')(previous)                                                                                       \n",
        "  x = Dense(units=32, activation='relu', name='next_to_last')(x)         \n",
        "  x = Dense(units=n_classes, activation='softmax', name='last')(x)\n",
        "\n",
        "  # Creaate Model\n",
        "  model = Model(inputs=x_input, outputs=x, name='individual')\n",
        "  if(verbose):\n",
        "    print('Created Network builded.')\n",
        "  return model"
      ],
      "execution_count": 0,
      "outputs": []
    },
    {
      "cell_type": "code",
      "metadata": {
        "id": "FND-j48Zie1-",
        "colab_type": "code",
        "colab": {}
      },
      "source": [
        "model = CNN_build(STAGES, NUM_NODES, FILTERS, sampleIndividual, box_size, 10, 0)"
      ],
      "execution_count": 0,
      "outputs": []
    },
    {
      "cell_type": "code",
      "metadata": {
        "id": "X3hhN7e_SZwZ",
        "colab_type": "code",
        "colab": {}
      },
      "source": [
        "def compile_model(model):\n",
        "  \"\"\"\n",
        "  model - created Keras model\n",
        "\n",
        "  Compile forwarded model, and return it compiled\n",
        "  \"\"\"\n",
        "\n",
        "  model.compile(optimizer=Adam(lr=1e-3), loss=categorical_crossentropy, metrics=['accuracy'])\n",
        "  return model"
      ],
      "execution_count": 0,
      "outputs": []
    },
    {
      "cell_type": "code",
      "metadata": {
        "id": "BmFypCPpShN2",
        "colab_type": "code",
        "colab": {}
      },
      "source": [
        "model = compile_model(model)"
      ],
      "execution_count": 0,
      "outputs": []
    },
    {
      "cell_type": "code",
      "metadata": {
        "id": "8_TzENOzS2vu",
        "colab_type": "code",
        "colab": {}
      },
      "source": [
        "def visualize_model(model):\n",
        "  \"\"\"\n",
        "  model - created Keras model\n",
        "\n",
        "  plot forwarded model architecture\n",
        "  \"\"\"\n",
        "  from keras.utils import plot_model\n",
        "\n",
        "  print('Model summary: ')\n",
        "  model.summary()\n",
        "  plot_model(model, to_file='model.png')\n",
        "  return"
      ],
      "execution_count": 0,
      "outputs": []
    },
    {
      "cell_type": "code",
      "metadata": {
        "id": "1rA6YX8CTMcF",
        "colab_type": "code",
        "colab": {}
      },
      "source": [
        "visualize_model(model)"
      ],
      "execution_count": 0,
      "outputs": []
    },
    {
      "cell_type": "code",
      "metadata": {
        "id": "FAH-z7QeUFqt",
        "colab_type": "code",
        "colab": {}
      },
      "source": [
        "def train_model(model, x_train, y_train, x_test, y_test, epochs, batch_size, verbose=1, validation_split=0.0, callbacks=[]):\n",
        "    \"\"\"\n",
        "    model - compiled CNN model\n",
        "    x_train - input images\n",
        "    y_train - input labels (one hot encoded)\n",
        "    x_test - test images\n",
        "    y_test - test labels (one hot encoded)\n",
        "    epochs - number of epochs\n",
        "    batch_size - mini batch size of training\n",
        "    verbose - verbose of training\n",
        "    validation_split - data split used for validation\n",
        "\n",
        "    Train forwrded model. Returns (train history, model obtained test accuracy)\n",
        "    \"\"\"\n",
        "    if (epochs == 0):\n",
        "        # for faster testing\n",
        "        # print('only eval, without training')\n",
        "        return None, model.evaluate(x_test, y_test)\n",
        "    # print('training and eval')\n",
        "    history = model.fit(x_train, y_train, epochs=epochs, batch_size=batch_size, verbose=verbose, validation_split=validation_split, callbacks=callbacks)\n",
        "    return history, model.evaluate(x_test, y_test)"
      ],
      "execution_count": 0,
      "outputs": []
    },
    {
      "cell_type": "code",
      "metadata": {
        "id": "Vv7hRnZHWK9J",
        "colab_type": "code",
        "colab": {}
      },
      "source": [
        "history, result = train_model(model, x_train, y_train, x_test, y_test, 1, 1024, 1)\n",
        "result"
      ],
      "execution_count": 0,
      "outputs": []
    },
    {
      "cell_type": "code",
      "metadata": {
        "id": "rWrFN-yTkW2W",
        "colab_type": "code",
        "colab": {}
      },
      "source": [
        "result"
      ],
      "execution_count": 0,
      "outputs": []
    },
    {
      "cell_type": "code",
      "metadata": {
        "id": "dYRxJ53XkYwr",
        "colab_type": "code",
        "colab": {}
      },
      "source": [
        "history"
      ],
      "execution_count": 0,
      "outputs": []
    },
    {
      "cell_type": "code",
      "metadata": {
        "id": "qKOiF1-tx74y",
        "colab_type": "code",
        "colab": {}
      },
      "source": [
        "def loadWeights(toModel, fromModel, numSameStages, numNodesPerStage):\n",
        "    '''\n",
        "    toModel: keras model for which to load weights\n",
        "    fromModel: keras model from which to load weights\n",
        "    numSameStages: number of first same stages; can be 0, 1, 2, 3; trivial cases 0 and 3\n",
        "    numNodesPerStage: number of nodes per stage; ex. [3,4,5]\n",
        "\n",
        "    You need to call model.compile. This can be done either before or after the model.load_weights \n",
        "    call but must be after the model architecture is specified and before the model.predict call.\n",
        "    returns the model with loaded weights from file\n",
        "\n",
        "    IMPORTANT: toModel and fromModel MUST HAVE exactly the same architecture on first numSameStages! (same indices eqvivalently)\n",
        "    TODO: add critical pool if want more pooling operations in architecture\n",
        "    '''\n",
        "    assert numSameStages<=len(numNodesPerStage)\n",
        "    allflag = (numSameStages==len(numNodesPerStage))  # to load all weights\n",
        "    for i, layer in enumerate(fromModel.layers):\n",
        "        #print(i, layer.name, layer) \n",
        "\n",
        "        layer_name = layer.get_config()['name']\n",
        "        if numSameStages==0:\n",
        "            if not allflag:\n",
        "                break\n",
        "\n",
        "        toModel.layers[i].set_weights(layer.get_weights())\n",
        "\n",
        "        if 'max_pooling' in layer_name:\n",
        "            numSameStages-=1"
      ],
      "execution_count": 0,
      "outputs": []
    },
    {
      "cell_type": "markdown",
      "metadata": {
        "id": "_kdgjBhwRq2c",
        "colab_type": "text"
      },
      "source": [
        "# Genetic Algorithm"
      ]
    },
    {
      "cell_type": "code",
      "metadata": {
        "id": "iEWPhebDtHe5",
        "colab_type": "code",
        "colab": {}
      },
      "source": [
        "# Dimitrijevic kuca kod\n",
        "import numpy as np\n",
        "from random import random, seed"
      ],
      "execution_count": 0,
      "outputs": []
    },
    {
      "cell_type": "code",
      "metadata": {
        "id": "KxC3nzA0tajA",
        "colab_type": "code",
        "colab": {}
      },
      "source": [
        "STAGES = np.array([\"s1\",\"s2\",\"s3\"]) # S\n",
        "NUM_NODES = np.array([3,4,5])       # K\n",
        "\n",
        "L =  0                              # genome length\n",
        "BITS_INDICES, l_bpi = np.empty((0,2),dtype = np.int32), 0 # to keep track of bits for each stage S\n",
        "for Ks in NUM_NODES:\n",
        "    t = Ks * (Ks - 1)\n",
        "    BITS_INDICES = np.vstack([BITS_INDICES,[l_bpi, l_bpi + int(0.5 * t)]])\n",
        "    l_bpi += int(0.5 * t)\n",
        "    L += t\n",
        "L = int(0.5 * L)"
      ],
      "execution_count": 0,
      "outputs": []
    },
    {
      "cell_type": "code",
      "metadata": {
        "id": "60yF_tVWDKI3",
        "colab_type": "code",
        "colab": {}
      },
      "source": [
        "TRAINING_EPOCHS = 10 # T\n",
        "BATCH_SIZE = 20\n",
        "TOTAL_BATCHES = x_train.shape[0] // BATCH_SIZE"
      ],
      "execution_count": 0,
      "outputs": []
    },
    {
      "cell_type": "code",
      "metadata": {
        "id": "zFU56u2otadr",
        "colab_type": "code",
        "outputId": "dd75bcf2-af6a-49db-ec80-31cb6b45c07c",
        "colab": {
          "base_uri": "https://localhost:8080/",
          "height": 34
        }
      },
      "source": [
        "np.random.seed(42) # reproducible\n",
        "class Genetic:\n",
        "    def __init__(self, pc, qc, pm, qm, numGen, numInd, geneLength, bitIndices):\n",
        "        ''' \n",
        "        pc: probability of crossover - whether crossover process begins\n",
        "        qc: probability of stages being exchanged - while in crossover process\n",
        "        pm: probability of mutation - whether mutation process begins\n",
        "        qm: probability of a per bit mutation - while in mutation process\n",
        "        numGen: number of generations\n",
        "        numInd: number of individuals\n",
        "        bitIndices: 2d matrix where each row has two columns - first is the index, and second is the length of bits in gene that code each segment\n",
        "        '''\n",
        "        self.pc = pc\n",
        "        self.qc = qc\n",
        "        self.pm = pm\n",
        "        self.qm = qm\n",
        "        self.numGen = numGen\n",
        "        self.currNumGen = 0\n",
        "        self.numInd = numInd\n",
        "        self.geneLength = geneLength\n",
        "        self.bitIndices = bitIndices\n",
        "        self.oldGen = None\n",
        "        self.initFirstGeneration()\n",
        "    \n",
        "    def initFirstGeneration(self):\n",
        "        ''' \n",
        "        initializes the first generation\n",
        "        '''\n",
        "        self.currNumGen = 1\n",
        "        self.currGen = np.random.randint(0, 2, (self.numInd, self.geneLength))\n",
        "\n",
        "    def getCurrentGeneration(self):\n",
        "        return self.currGen\n",
        "\n",
        "    def selection(self, fitness):\n",
        "        '''\n",
        "        returns indices of individuals that survived the selection\n",
        "        '''\n",
        "        npfit = np.array(fitness)\n",
        "        proba = npfit - np.min(npfit) # removes the worst ones\n",
        "        proba = proba / np.sum(proba)\n",
        "\n",
        "        return np.random.choice(self.numInd, replace=True, size=self.numInd, p=proba)\n",
        "\n",
        "    def mutate(self, newGen, indices):\n",
        "        '''\n",
        "        mutates individuals in newGen on positions where indices are 0 (because those individuals didn't mate)\n",
        "        '''\n",
        "        for i, had in enumerate(indices):\n",
        "            if had == 0 and np.random.random() <= pm:\n",
        "                newGen[i] = self.mutateIndividual(self.currGen[i])\n",
        "            else:\n",
        "                newGen[i] = np.copy(self.currGen[i])\n",
        "\n",
        "    def mutateIndividual(self, individual):\n",
        "        '''\n",
        "        returns a new individual by mutating the given one\n",
        "        '''\n",
        "        mut = np.copy(individual)\n",
        "        for i, val in enumerate(mut):\n",
        "            if np.random.random() <= self.qm:\n",
        "                mut[i] = 1 - mut[i]\n",
        "\n",
        "        return mut\n",
        "\n",
        "    def crossover(self, individualA, individualB):\n",
        "        '''\n",
        "        returns two new individuals by performing crossover on two given individuals.\n",
        "        it takes care to only swap the whole segments, and not bits within segments\n",
        "        '''\n",
        "        a = np.copy(individualA)\n",
        "        b = np.copy(individualB)\n",
        "\n",
        "        for segment in self.bitIndices:\n",
        "            if np.random.random() <= qc:\n",
        "                start = segment[0]\n",
        "                end = segment[1]\n",
        "                # print(f'start {start}, end {end}')\n",
        "                # print('a should now have', b[start:end])\n",
        "                # print('b should now have', a[start:end])\n",
        "                tmpa = np.copy(a[start:end])\n",
        "                a[start:end] = b[start:end]\n",
        "                b[start:end] = tmpa\n",
        "\n",
        "        return a, b\n",
        "\n",
        "    def newGeneration(self, fitness, verbose=False):\n",
        "        '''\n",
        "        creates a new generation of individuals by selection, crossover, and mutation \n",
        "        of previous generation. Selection is based on the rulet method\n",
        "\n",
        "        fitness - np array of fitness metrics for all individuals, based on which to construct rulet\n",
        "        '''\n",
        "        self.currNumGen += 1\n",
        "        if self.currNumGen > self.numGen:\n",
        "            raise Exception(f\"currNumGen > numGen, {self.currNumGen} > {self.numGen}\")\n",
        "        newGenIdx = self.selection(fitness)\n",
        "        if verbose:\n",
        "            print(f'survived selection: {newGenIdx}')\n",
        "        newGen = np.zeros((self.numInd, self.geneLength)) # np matrix of new generation\n",
        "        hadCrossoverIdx = np.zeros(self.numInd) # tracks if an individial had a crossover\n",
        "\n",
        "        # for each pair of neighbours, try crossover\n",
        "        for i in range(0, len(newGen), 2):\n",
        "            if np.random.random() <= pc:\n",
        "                newGen[i], newGen[i+1] = self.crossover(self.currGen[newGenIdx[i]], self.currGen[newGenIdx[i+1]])\n",
        "                hadCrossoverIdx[i] = 1\n",
        "                hadCrossoverIdx[i+1] = 1\n",
        "\n",
        "        self.mutate(newGen, hadCrossoverIdx)\n",
        "        \n",
        "        self.oldGen = self.currGen\n",
        "        self.currGen = newGen\n",
        "\n",
        "    def findIndividualsWithSameRoots(self, verbose=False):\n",
        "        '''\n",
        "        for each individual in a new generation finds the indices of individuals in the old generation \n",
        "        which had the same firts n segments\n",
        "\n",
        "        returns a list, where i-th element has a touple (listOfParentsWithSameSegment, numberOfSameSegments)\n",
        "        '''\n",
        "        parentsAndNumSegments = []\n",
        "        for indiv in self.currGen:\n",
        "            parents, numSameSegments = self.hasSameRoots(indiv)\n",
        "            parentsAndNumSegments.append((parents, numSameSegments))\n",
        "            if numSameSegments > 0 and verbose:\n",
        "                print('individual:',indiv)\n",
        "                print(f'has the same {numSameSegments} first segments as:')\n",
        "                print(parents)\n",
        "                print(f'e.g: {self.oldGen[parents[0]]}')\n",
        "\n",
        "        return parentsAndNumSegments\n",
        "\n",
        "\n",
        "    def hasSameRoots(self, individual):\n",
        "        '''\n",
        "        returns indices of individuals from last generations which have the biggest same root as the\n",
        "        given individual, and returns the number of segments which are the same (starting from the first)\n",
        "        '''\n",
        "        for i, segment in reversed(list(enumerate(self.bitIndices))):\n",
        "            nColumns = segment[1]\n",
        "            # print('bools',(self.oldGen[:,:nColumns] == individual[:nColumns]))\n",
        "            # print('oldgen:',self.oldGen)\n",
        "            # print('ind:', individual)\n",
        "            # find rows which have the individual (only look at the part of the colums)\n",
        "            matchedRows = (self.oldGen[:,:nColumns] == individual[:nColumns]).all(axis=1)\n",
        "            sameRootIndividuals = np.where(matchedRows)[0]\n",
        "            if sameRootIndividuals.size > 0:\n",
        "                return sameRootIndividuals, i+1\n",
        "\n",
        "        return np.empty(0), 0\n",
        "\n",
        "pc, pm = 0.2, 0.8\n",
        "qc, qm = 0.3, 0.1\n",
        "geneLength = L\n",
        "numGenerations, numIndividuals = 10, 10 # they take 50 rounds with 20 individuals\n",
        "gen = Genetic(pc, qc, pm, qm, numGenerations, numIndividuals, geneLength, BITS_INDICES)\n",
        "np.mean(gen.getCurrentGeneration())"
      ],
      "execution_count": 39,
      "outputs": [
        {
          "output_type": "execute_result",
          "data": {
            "text/plain": [
              "0.5105263157894737"
            ]
          },
          "metadata": {
            "tags": []
          },
          "execution_count": 39
        }
      ]
    },
    {
      "cell_type": "code",
      "metadata": {
        "id": "B0jKFnXSuzcQ",
        "colab_type": "code",
        "colab": {}
      },
      "source": [
        "# gen.findIndividualsWithSameRoots()\n",
        "# gen.newGeneration(np.ones(numIndividuals))\n",
        "# np.mean(gen.getCurrentGeneration())"
      ],
      "execution_count": 0,
      "outputs": []
    },
    {
      "cell_type": "code",
      "metadata": {
        "id": "R5onkJV5pZ4e",
        "colab_type": "code",
        "colab": {}
      },
      "source": [
        "import types\n",
        "params = types.SimpleNamespace()\n",
        "params.pc, params.pm = pc, pm\n",
        "params.qc, params.qm = qc, qm\n",
        "params.geneLength = L\n",
        "params.numGenerations = 5 # 10\n",
        "params.numIndividuals = 10 # 10\n",
        "params.bitIndices = BITS_INDICES\n",
        "params.boxSize = box_size\n",
        "params.numClasses = 10\n",
        "params.stageNames = STAGES\n",
        "params.numFilters = FILTERS\n",
        "params.numNodes = NUM_NODES\n",
        "params.xTrain = x_train\n",
        "params.yTrain = y_train\n",
        "params.xTest = x_test\n",
        "params.yTest = y_test\n",
        "params.epochs = 1 #1\n",
        "params.batchSize = 256"
      ],
      "execution_count": 0,
      "outputs": []
    },
    {
      "cell_type": "code",
      "metadata": {
        "id": "Wx7G8lmn0Tso",
        "colab_type": "code",
        "colab": {}
      },
      "source": [
        "def createModelsFromIndividuals(params, individuals):\n",
        "    '''\n",
        "    params: contains all needed properties (same as in executeGenetic)\n",
        "\n",
        "    returns a list of newly constructed models from given individuals\n",
        "    '''\n",
        "    newNetworks = []\n",
        "    for ind in individuals:\n",
        "        cnn = CNN_build(params.stageNames, params.numNodes, params.numFilters, ind, params.boxSize, params.numClasses, verbose=0)\n",
        "        cnn = compile_model(cnn)\n",
        "        newNetworks.append(cnn)\n",
        "    return newNetworks\n",
        "\n",
        "def inheritWeightsFromOldModels(models, params, parentSegmentTuples, lastGenModels):\n",
        "    '''\n",
        "    tries to inherit weights from last generation for all new models\n",
        "\n",
        "    models: list of new models\n",
        "    params: object containing all needed parameters,\n",
        "    parentSAegmentTuples: list of tuples, each containing list of parents that share segments with individual, and number of shared segments\n",
        "    lastGenModels: list of models of the last generation\n",
        "    '''\n",
        "    modelsWithWeights = []\n",
        "    for model, parentAndSegment in zip(models, parentSegmentTuples):\n",
        "        parents = parentAndSegment[0] \n",
        "        numSegments = parentAndSegment[1]\n",
        "        if numSegments > 0:\n",
        "            parent = parents[0] # TODO this is a list, might take the parent with the best fitness\n",
        "            # TODO UNCOMMMENT model = loadWeights(model, lastGenModels[parent], numSegments)\n",
        "            pass\n",
        "        \n",
        "        modelsWithWeights.append(model)\n",
        "\n",
        "    return modelsWithWeights\n",
        "\n",
        "def trainModelsToGetFitness(models, params, verbose):  # TODO: ukljuci info koga koliko treniras\n",
        "    '''\n",
        "    trains the given models, and returns their fitness - which is accuracy of each model\n",
        "    '''\n",
        "    fitness = []\n",
        "    for i, model in enumerate(models):\n",
        "        print(f'starting to train net num: {i}')\n",
        "        history, lossAndAcc = train_model(model, params.xTrain, params.yTrain, params.xTest,\n",
        "                    params.yTest, params.epochs,\n",
        "                    params.batchSize, verbose=verbose, validation_split=0.0)  # all: 0epoch, 1stage: 4epoch, 2stage: 3epoch\n",
        "        fitness.append(lossAndAcc[1])\n",
        "\n",
        "    return np.array(fitness)\n",
        "\n",
        "def executeSelectionWithGeneticAlgorithm(params):\n",
        "    ''' \n",
        "    params contains the following properties:\n",
        "        pc: probability of crossover - whether crossover process begins\n",
        "        qc: probability of stages being exchanged - while in crossover process\n",
        "        pm: probability of mutation - whether mutation process begins\n",
        "        qm: probability of a per bit mutation - while in mutation process\n",
        "        numGen: number of generations\n",
        "        numInd: number of individuals\n",
        "        bitIndices: 2d matrix where each row has two columns - first is the index, and second is the length of bits in gene that code each segment\n",
        "        boxSize: width and height of the input\n",
        "        numClasses: number of output classes\n",
        "        stageNames: list containing names of staegs\n",
        "        numFilters: list containing number of filters per stage\n",
        "        numNodes: number of nodes within each stage\n",
        "        xTrain: training set data\n",
        "        yTrain: training set labels\n",
        "        xTest: test set data\n",
        "        yTest: test set labels\n",
        "\n",
        "        returns individuals in the last generation, index of the best individual, and their fitnesses, and np matrix of all fitnesses\n",
        "    '''\n",
        "    genetic = Genetic(params.pc, params.qc, params.pm, params.qm, params.numGenerations, params.numIndividuals, params.geneLength, params.bitIndices)\n",
        "    oldNetworks = None\n",
        "    allFitnesses = np.zeros((params.numGenerations, params.numIndividuals))\n",
        "    for i in range(params.numGenerations):\n",
        "        nthGen = i+1\n",
        "        print(f'\\t\\t\\tStarting generation {nthGen}...')\n",
        "        print(f'Creating models from individuals...')\n",
        "        individuals = genetic.getCurrentGeneration()\n",
        "        newNetworks = createModelsFromIndividuals(params, individuals)\n",
        "        if i > 0:\n",
        "            print(f'inheritWeightsFromOldModels...')\n",
        "            parentSegmentTuples = genetic.findIndividualsWithSameRoots()\n",
        "            inheritWeightsFromOldModels(newNetworks, params, parentSegmentTuples, oldNetworks)\n",
        "        \n",
        "        print(f'Starting trainModelsToGetFitness...')\n",
        "        fitness = trainModelsToGetFitness(newNetworks, params, verbose=True)\n",
        "        allFitnesses[i] = fitness\n",
        "        print(f'all fitness: {fitness}')\n",
        "        if i < params.numGenerations - 1:\n",
        "            genetic.newGeneration(fitness=fitness)\n",
        "            oldNetworks = newNetworks\n",
        "\n",
        "    bestIdx = np.argmax(fitness)\n",
        "    print(f'The best individual {individuals[bestIdx]} had fitness (accuracy): {fitness[bestIdx]}')\n",
        "\n",
        "    return individuals, bestIdx, fitness, allFitnesses"
      ],
      "execution_count": 0,
      "outputs": []
    },
    {
      "cell_type": "markdown",
      "metadata": {
        "id": "QdSVY0xOnvKS",
        "colab_type": "text"
      },
      "source": [
        "## Baseline"
      ]
    },
    {
      "cell_type": "code",
      "metadata": {
        "id": "THqXfftoHnfM",
        "colab_type": "code",
        "outputId": "1af32d2a-2ffa-4921-83dc-f89c5ae96cb4",
        "colab": {
          "base_uri": "https://localhost:8080/",
          "height": 1000
        }
      },
      "source": [
        "%%time\n",
        "lastGenIndividuals, bestIdx, lastGenFitness, allFitnesses = executeSelectionWithGeneticAlgorithm(params)"
      ],
      "execution_count": 0,
      "outputs": [
        {
          "output_type": "stream",
          "text": [
            "\t\t\tStarting generation 1...\n",
            "Creating models from individuals...\n",
            "Starting trainModelsToGetFitness...\n",
            "starting to train net num: 0\n",
            "Epoch 1/1\n",
            "10000/10000 [==============================] - 4s 354us/step - loss: 1.1356 - acc: 0.6181\n",
            "1000/1000 [==============================] - 1s 518us/step\n",
            "starting to train net num: 1\n",
            "Epoch 1/1\n",
            "10000/10000 [==============================] - 2s 227us/step - loss: 1.2828 - acc: 0.5748\n",
            "1000/1000 [==============================] - 1s 571us/step\n",
            "starting to train net num: 2\n",
            "Epoch 1/1\n",
            "10000/10000 [==============================] - 3s 306us/step - loss: 1.4256 - acc: 0.5145\n",
            "1000/1000 [==============================] - 1s 699us/step\n",
            "starting to train net num: 3\n",
            "Epoch 1/1\n",
            "10000/10000 [==============================] - 3s 264us/step - loss: 1.6733 - acc: 0.4188\n",
            "1000/1000 [==============================] - 1s 734us/step\n",
            "starting to train net num: 4\n",
            "Epoch 1/1\n",
            "10000/10000 [==============================] - 4s 356us/step - loss: 1.3236 - acc: 0.5286\n",
            "1000/1000 [==============================] - 1s 842us/step\n",
            "starting to train net num: 5\n",
            "Epoch 1/1\n",
            "10000/10000 [==============================] - 3s 308us/step - loss: 1.2130 - acc: 0.5852\n",
            "1000/1000 [==============================] - 1s 908us/step\n",
            "starting to train net num: 6\n",
            "Epoch 1/1\n",
            "10000/10000 [==============================] - 4s 402us/step - loss: 1.3041 - acc: 0.5589\n",
            "1000/1000 [==============================] - 1s 1ms/step\n",
            "starting to train net num: 7\n",
            "Epoch 1/1\n",
            "10000/10000 [==============================] - 4s 421us/step - loss: 1.4422 - acc: 0.4979\n",
            "1000/1000 [==============================] - 1s 1ms/step\n",
            "starting to train net num: 8\n",
            "Epoch 1/1\n",
            "10000/10000 [==============================] - 4s 424us/step - loss: 1.5265 - acc: 0.4789\n",
            "1000/1000 [==============================] - 1s 1ms/step\n",
            "starting to train net num: 9\n",
            "Epoch 1/1\n",
            "10000/10000 [==============================] - 5s 451us/step - loss: 1.7359 - acc: 0.3938\n",
            "1000/1000 [==============================] - 1s 1ms/step\n",
            "all fitness: [0.85  0.854 0.813 0.736 0.781 0.879 0.829 0.759 0.84  0.684]\n",
            "\t\t\tStarting generation 2...\n",
            "Creating models from individuals...\n",
            "inheritWeightsFromOldModels...\n",
            "Starting trainModelsToGetFitness...\n",
            "starting to train net num: 0\n",
            "Epoch 1/1\n",
            "10000/10000 [==============================] - 6s 580us/step - loss: 1.2692 - acc: 0.5545\n",
            "1000/1000 [==============================] - 2s 2ms/step\n",
            "starting to train net num: 1\n",
            "Epoch 1/1\n",
            "10000/10000 [==============================] - 5s 473us/step - loss: 1.5613 - acc: 0.4573\n",
            "1000/1000 [==============================] - 2s 2ms/step\n",
            "starting to train net num: 2\n",
            "Epoch 1/1\n",
            "10000/10000 [==============================] - 5s 503us/step - loss: 1.2557 - acc: 0.5780\n",
            "1000/1000 [==============================] - 2s 2ms/step\n",
            "starting to train net num: 3\n",
            "Epoch 1/1\n",
            "10000/10000 [==============================] - 6s 561us/step - loss: 1.2089 - acc: 0.5906\n",
            "1000/1000 [==============================] - 2s 2ms/step\n",
            "starting to train net num: 4\n",
            "Epoch 1/1\n",
            "10000/10000 [==============================] - 6s 629us/step - loss: 1.6114 - acc: 0.4515\n",
            "1000/1000 [==============================] - 2s 2ms/step\n",
            "starting to train net num: 5\n",
            "Epoch 1/1\n",
            "10000/10000 [==============================] - 6s 557us/step - loss: 1.8056 - acc: 0.3478\n",
            "1000/1000 [==============================] - 2s 2ms/step\n",
            "starting to train net num: 6\n",
            "Epoch 1/1\n",
            "10000/10000 [==============================] - 7s 665us/step - loss: 1.3972 - acc: 0.5255\n",
            "1000/1000 [==============================] - 2s 2ms/step\n",
            "starting to train net num: 7\n",
            "Epoch 1/1\n",
            "10000/10000 [==============================] - 7s 684us/step - loss: 1.1613 - acc: 0.6108\n",
            "1000/1000 [==============================] - 2s 2ms/step\n",
            "starting to train net num: 8\n",
            "Epoch 1/1\n",
            "10000/10000 [==============================] - 7s 694us/step - loss: 1.2916 - acc: 0.5562\n",
            "1000/1000 [==============================] - 2s 2ms/step\n",
            "starting to train net num: 9\n",
            "Epoch 1/1\n",
            "10000/10000 [==============================] - 7s 709us/step - loss: 1.3999 - acc: 0.5201\n",
            "1000/1000 [==============================] - 2s 2ms/step\n",
            "all fitness: [0.835 0.828 0.822 0.811 0.721 0.532 0.799 0.751 0.819 0.797]\n",
            "\t\t\tStarting generation 3...\n",
            "Creating models from individuals...\n",
            "inheritWeightsFromOldModels...\n",
            "Starting trainModelsToGetFitness...\n",
            "starting to train net num: 0\n",
            "Epoch 1/1\n",
            "10000/10000 [==============================] - 9s 885us/step - loss: 1.5514 - acc: 0.4680\n",
            "1000/1000 [==============================] - 3s 3ms/step\n",
            "starting to train net num: 1\n",
            "Epoch 1/1\n",
            "10000/10000 [==============================] - 7s 743us/step - loss: 1.2243 - acc: 0.5773\n",
            "1000/1000 [==============================] - 3s 3ms/step\n",
            "starting to train net num: 2\n",
            "Epoch 1/1\n",
            "10000/10000 [==============================] - 8s 775us/step - loss: 1.0821 - acc: 0.6540\n",
            "1000/1000 [==============================] - 3s 3ms/step\n",
            "starting to train net num: 3\n",
            "Epoch 1/1\n",
            "10000/10000 [==============================] - 8s 818us/step - loss: 1.2877 - acc: 0.5542\n",
            "1000/1000 [==============================] - 3s 3ms/step\n",
            "starting to train net num: 4\n",
            "Epoch 1/1\n",
            "10000/10000 [==============================] - 9s 874us/step - loss: 1.3102 - acc: 0.5661\n",
            "1000/1000 [==============================] - 3s 3ms/step\n",
            "starting to train net num: 5\n",
            "Epoch 1/1\n",
            "10000/10000 [==============================] - 8s 845us/step - loss: 1.3443 - acc: 0.5473\n",
            "1000/1000 [==============================] - 3s 3ms/step\n",
            "starting to train net num: 6\n",
            "Epoch 1/1\n",
            "10000/10000 [==============================] - 9s 931us/step - loss: 1.2806 - acc: 0.5606\n",
            "1000/1000 [==============================] - 3s 3ms/step\n",
            "starting to train net num: 7\n",
            "Epoch 1/1\n",
            "10000/10000 [==============================] - 9s 949us/step - loss: 1.4779 - acc: 0.4898\n",
            "1000/1000 [==============================] - 3s 3ms/step\n",
            "starting to train net num: 8\n",
            "Epoch 1/1\n",
            "10000/10000 [==============================] - 9s 947us/step - loss: 1.2559 - acc: 0.5669\n",
            "1000/1000 [==============================] - 3s 3ms/step\n",
            "starting to train net num: 9\n",
            "Epoch 1/1\n",
            "10000/10000 [==============================] - 10s 977us/step - loss: 1.2774 - acc: 0.5591\n",
            "1000/1000 [==============================] - 3s 3ms/step\n",
            "all fitness: [0.835 0.886 0.871 0.874 0.834 0.815 0.86  0.801 0.831 0.754]\n",
            "\t\t\tStarting generation 4...\n",
            "Creating models from individuals...\n",
            "inheritWeightsFromOldModels...\n",
            "Starting trainModelsToGetFitness...\n",
            "starting to train net num: 0\n",
            "Epoch 1/1\n",
            "10000/10000 [==============================] - 11s 1ms/step - loss: 1.1868 - acc: 0.5973\n",
            "1000/1000 [==============================] - 4s 4ms/step\n",
            "starting to train net num: 1\n",
            "Epoch 1/1\n",
            "10000/10000 [==============================] - 10s 1ms/step - loss: 1.3313 - acc: 0.5451\n",
            "1000/1000 [==============================] - 4s 4ms/step\n",
            "starting to train net num: 2\n",
            "Epoch 1/1\n",
            "10000/10000 [==============================] - 10s 1ms/step - loss: 1.0855 - acc: 0.6335\n",
            "1000/1000 [==============================] - 4s 4ms/step\n",
            "starting to train net num: 3\n",
            "Epoch 1/1\n",
            "10000/10000 [==============================] - 11s 1ms/step - loss: 1.5992 - acc: 0.4096\n",
            "1000/1000 [==============================] - 4s 4ms/step\n",
            "starting to train net num: 4\n",
            "Epoch 1/1\n",
            "10000/10000 [==============================] - 11s 1ms/step - loss: 1.2696 - acc: 0.5658\n",
            "1000/1000 [==============================] - 4s 4ms/step\n",
            "starting to train net num: 5\n",
            "Epoch 1/1\n",
            "10000/10000 [==============================] - 11s 1ms/step - loss: 1.3086 - acc: 0.5460\n",
            "1000/1000 [==============================] - 4s 4ms/step\n",
            "starting to train net num: 6\n",
            "Epoch 1/1\n",
            "10000/10000 [==============================] - 12s 1ms/step - loss: 1.8029 - acc: 0.3657\n",
            "1000/1000 [==============================] - 4s 4ms/step\n",
            "starting to train net num: 7\n",
            "Epoch 1/1\n",
            "10000/10000 [==============================] - 12s 1ms/step - loss: 1.1978 - acc: 0.6051\n",
            "1000/1000 [==============================] - 4s 4ms/step\n",
            "starting to train net num: 8\n",
            "Epoch 1/1\n",
            "10000/10000 [==============================] - 12s 1ms/step - loss: 1.2729 - acc: 0.5580\n",
            "1000/1000 [==============================] - 4s 4ms/step\n",
            "starting to train net num: 9\n",
            "Epoch 1/1\n",
            "10000/10000 [==============================] - 12s 1ms/step - loss: 1.3620 - acc: 0.5246\n",
            "1000/1000 [==============================] - 5s 5ms/step\n",
            "all fitness: [0.86  0.715 0.896 0.655 0.803 0.721 0.668 0.817 0.848 0.708]\n",
            "\t\t\tStarting generation 5...\n",
            "Creating models from individuals...\n",
            "inheritWeightsFromOldModels...\n",
            "Starting trainModelsToGetFitness...\n",
            "starting to train net num: 0\n",
            "Epoch 1/1\n",
            "10000/10000 [==============================] - 14s 1ms/step - loss: 1.1806 - acc: 0.5910\n",
            "1000/1000 [==============================] - 5s 5ms/step\n",
            "starting to train net num: 1\n",
            "Epoch 1/1\n",
            "10000/10000 [==============================] - 12s 1ms/step - loss: 1.3892 - acc: 0.5316\n",
            "1000/1000 [==============================] - 5s 5ms/step\n",
            "starting to train net num: 2\n",
            "Epoch 1/1\n",
            "10000/10000 [==============================] - 13s 1ms/step - loss: 1.3482 - acc: 0.5453\n",
            "1000/1000 [==============================] - 5s 5ms/step\n",
            "starting to train net num: 3\n",
            "Epoch 1/1\n",
            "10000/10000 [==============================] - 13s 1ms/step - loss: 1.1288 - acc: 0.6318\n",
            "1000/1000 [==============================] - 5s 5ms/step\n",
            "starting to train net num: 4\n",
            "Epoch 1/1\n",
            "10000/10000 [==============================] - 14s 1ms/step - loss: 1.6422 - acc: 0.4053\n",
            "1000/1000 [==============================] - 5s 5ms/step\n",
            "starting to train net num: 5\n",
            "Epoch 1/1\n",
            "10000/10000 [==============================] - 13s 1ms/step - loss: 1.1818 - acc: 0.5937\n",
            "1000/1000 [==============================] - 5s 5ms/step\n",
            "starting to train net num: 6\n",
            "Epoch 1/1\n",
            "10000/10000 [==============================] - 14s 1ms/step - loss: 1.4508 - acc: 0.4891\n",
            "1000/1000 [==============================] - 5s 5ms/step\n",
            "starting to train net num: 7\n",
            "Epoch 1/1\n",
            "10000/10000 [==============================] - 15s 1ms/step - loss: 1.1329 - acc: 0.6161\n",
            "1000/1000 [==============================] - 6s 6ms/step\n",
            "starting to train net num: 8\n",
            "Epoch 1/1\n",
            "10000/10000 [==============================] - 15s 2ms/step - loss: 1.5405 - acc: 0.4494\n",
            "1000/1000 [==============================] - 6s 6ms/step\n",
            "starting to train net num: 9\n",
            "Epoch 1/1\n",
            "10000/10000 [==============================] - 15s 1ms/step - loss: 1.4000 - acc: 0.5054\n",
            "1000/1000 [==============================] - 6s 6ms/step\n",
            "all fitness: [0.751 0.737 0.796 0.793 0.735 0.788 0.74  0.876 0.791 0.837]\n",
            "The best individual [1. 1. 0. 0. 0. 0. 0. 0. 1. 0. 1. 0. 1. 0. 0. 1. 1. 1. 1.] had fitness (accuracy): 0.876\n",
            "CPU times: user 10min 26s, sys: 13.5 s, total: 10min 40s\n",
            "Wall time: 10min 46s\n"
          ],
          "name": "stdout"
        }
      ]
    },
    {
      "cell_type": "code",
      "metadata": {
        "id": "YhAAN4N9PnlE",
        "colab_type": "code",
        "outputId": "653482de-ef53-430c-d6a5-946cbbf1f78c",
        "colab": {
          "base_uri": "https://localhost:8080/",
          "height": 282
        }
      },
      "source": [
        "def plotEvolutionProgress(allFit, takeBestN):\n",
        "    topn = np.zeros((params.numGenerations, takeBestN))\n",
        "    for i, row in enumerate(allFit):\n",
        "        row.sort()\n",
        "        topn[i] = row[-takeBestN:]\n",
        "\n",
        "    for i, col in reversed(list(enumerate(topn.T))):\n",
        "        plt.plot(range(1, params.numGenerations+1), col, label=f'#{takeBestN - i}')\n",
        "    plt.legend()\n",
        "    plt.show()\n",
        "# plotEvolutionProgress(np.random.randn(params.numGenerations, params.numIndividuals), takeBestN = 2)\n",
        "plotEvolutionProgress(allFitnesses, takeBestN = 10)\n",
        "allFitnesses.shape"
      ],
      "execution_count": 0,
      "outputs": [
        {
          "output_type": "display_data",
          "data": {
            "image/png": "[encoded data removed]",
            "text/plain": [
              "<Figure size 432x288 with 1 Axes>"
            ]
          },
          "metadata": {
            "tags": []
          }
        },
        {
          "output_type": "execute_result",
          "data": {
            "text/plain": [
              "(5, 10)"
            ]
          },
          "metadata": {
            "tags": []
          },
          "execution_count": 62
        }
      ]
    },
    {
      "cell_type": "markdown",
      "metadata": {
        "id": "bs1lDrRlnywQ",
        "colab_type": "text"
      },
      "source": [
        "## Modification"
      ]
    },
    {
      "cell_type": "code",
      "metadata": {
        "id": "htL82ZwSn1cC",
        "colab_type": "code",
        "colab": {}
      },
      "source": [
        "def inheritWeightsFromOldModels(models, params, parentSegmentTuples, lastGenModels):\n",
        "    '''\n",
        "    tries to inherit weights from last generation for all new models\n",
        "\n",
        "    models: list of new models\n",
        "    params: object containing all needed parameters,\n",
        "    parentSAegmentTuples: list of tuples, each containing list of parents that share segments with individual, and number of shared segments\n",
        "    lastGenModels: list of models of the last generation\n",
        "    '''\n",
        "    modelsWithWeights = []\n",
        "    for model, parentAndSegment in zip(models, parentSegmentTuples):\n",
        "        parents = parentAndSegment[0] \n",
        "        numSegments = parentAndSegment[1]\n",
        "        if numSegments > 0:\n",
        "            parent = parents[0] # TODO this is a list, might take the parent with the best fitness\n",
        "            model = loadWeights(model, lastGenModels[parent], numSegments, params.numNodes)  # uncommented|\n",
        "            pass\n",
        "        \n",
        "        modelsWithWeights.append(model)\n",
        "\n",
        "    return modelsWithWeights"
      ],
      "execution_count": 0,
      "outputs": []
    },
    {
      "cell_type": "code",
      "metadata": {
        "id": "Lipy3OCxoaX_",
        "colab_type": "code",
        "colab": {}
      },
      "source": [
        "import types\n",
        "params = types.SimpleNamespace()\n",
        "params.pc, params.pm = pc, pm\n",
        "params.qc, params.qm = qc, qm\n",
        "params.geneLength = L\n",
        "params.numGenerations = 3 # 10\n",
        "params.numIndividuals = 3 # 10\n",
        "params.bitIndices = BITS_INDICES\n",
        "params.boxSize = box_size\n",
        "params.numClasses = 10\n",
        "params.stageNames = STAGES\n",
        "params.numFilters = FILTERS\n",
        "params.numNodes = NUM_NODES\n",
        "params.xTrain = x_train\n",
        "params.yTrain = y_train\n",
        "params.xTest = x_test\n",
        "params.yTest = y_test\n",
        "params.epochs = 1 #1\n",
        "params.batchSize = 256"
      ],
      "execution_count": 0,
      "outputs": []
    },
    {
      "cell_type": "code",
      "metadata": {
        "id": "LVHdNEUGn1HP",
        "colab_type": "code",
        "colab": {
          "base_uri": "https://localhost:8080/",
          "height": 918
        },
        "outputId": "1c8ba503-e05d-4f5c-b97a-94c113757397"
      },
      "source": [
        "%%time\n",
        "lastGenIndividuals, bestIdx, lastGenFitness, allFitnesses = executeSelectionWithGeneticAlgorithm(params)"
      ],
      "execution_count": 50,
      "outputs": [
        {
          "output_type": "stream",
          "text": [
            "\t\t\tStarting generation 1...\n",
            "Creating models from individuals...\n",
            "Starting trainModelsToGetFitness...\n",
            "starting to train net num: 0\n",
            "Epoch 1/1\n",
            "60000/60000 [==============================] - 11s 186us/step - loss: 0.3170 - acc: 0.8955\n",
            "10000/10000 [==============================] - 3s 264us/step\n",
            "starting to train net num: 1\n",
            "Epoch 1/1\n",
            "60000/60000 [==============================] - 17s 276us/step - loss: 0.3786 - acc: 0.8700\n",
            "10000/10000 [==============================] - 3s 305us/step\n",
            "starting to train net num: 2\n",
            "Epoch 1/1\n",
            "60000/60000 [==============================] - 16s 269us/step - loss: 0.2922 - acc: 0.9044\n",
            "10000/10000 [==============================] - 3s 328us/step\n",
            "all fitness: [0.9799 0.9828 0.9794]\n",
            "\t\t\tStarting generation 2...\n",
            "Creating models from individuals...\n",
            "inheritWeightsFromOldModels...\n",
            "Starting trainModelsToGetFitness...\n",
            "starting to train net num: 0\n",
            "Epoch 1/1\n",
            "60000/60000 [==============================] - 12s 195us/step - loss: 0.2979 - acc: 0.9036\n",
            "10000/10000 [==============================] - 3s 340us/step\n",
            "starting to train net num: 1\n",
            "Epoch 1/1\n",
            "60000/60000 [==============================] - 18s 296us/step - loss: 0.2508 - acc: 0.9191\n",
            "10000/10000 [==============================] - 4s 367us/step\n",
            "starting to train net num: 2\n",
            "Epoch 1/1\n",
            "60000/60000 [==============================] - 18s 300us/step - loss: 0.2371 - acc: 0.9240\n",
            "10000/10000 [==============================] - 4s 387us/step\n",
            "all fitness: [0.9791 0.9831 0.9822]\n",
            "\t\t\tStarting generation 3...\n",
            "Creating models from individuals...\n",
            "inheritWeightsFromOldModels...\n",
            "Starting trainModelsToGetFitness...\n",
            "starting to train net num: 0\n",
            "Epoch 1/1\n",
            "60000/60000 [==============================] - 13s 220us/step - loss: 0.2965 - acc: 0.9030\n",
            "10000/10000 [==============================] - 4s 393us/step\n",
            "starting to train net num: 1\n",
            "Epoch 1/1\n",
            "60000/60000 [==============================] - 19s 312us/step - loss: 0.3303 - acc: 0.8927\n",
            "10000/10000 [==============================] - 4s 433us/step\n",
            "starting to train net num: 2\n",
            "Epoch 1/1\n",
            "60000/60000 [==============================] - 19s 321us/step - loss: 0.3347 - acc: 0.8890\n",
            "10000/10000 [==============================] - 4s 444us/step\n",
            "all fitness: [0.9766 0.9801 0.9803]\n",
            "The best individual [1. 1. 0. 0. 1. 1. 1. 1. 1. 1. 1. 0. 0. 1. 0. 1. 1. 1. 0.] had fitness (accuracy): 0.9803\n",
            "CPU times: user 3min 56s, sys: 18 s, total: 4min 14s\n",
            "Wall time: 4min 30s\n"
          ],
          "name": "stdout"
        }
      ]
    },
    {
      "cell_type": "code",
      "metadata": {
        "id": "XNd7V9ajqPkw",
        "colab_type": "code",
        "colab": {
          "base_uri": "https://localhost:8080/",
          "height": 282
        },
        "outputId": "7e545837-f075-4969-de7e-7c1f39bc8907"
      },
      "source": [
        "plotEvolutionProgress(allFitnesses, takeBestN = 3)\n",
        "allFitnesses.shape"
      ],
      "execution_count": 53,
      "outputs": [
        {
          "output_type": "display_data",
          "data": {
            "image/png": "[encoded data removed]",
            "text/plain": [
              "<Figure size 432x288 with 1 Axes>"
            ]
          },
          "metadata": {
            "tags": []
          }
        },
        {
          "output_type": "execute_result",
          "data": {
            "text/plain": [
              "(3, 3)"
            ]
          },
          "metadata": {
            "tags": []
          },
          "execution_count": 53
        }
      ]
    },
    {
      "cell_type": "markdown",
      "metadata": {
        "id": "CuXJhy_ieyQ0",
        "colab_type": "text"
      },
      "source": [
        "# Manually"
      ]
    },
    {
      "cell_type": "code",
      "metadata": {
        "id": "FaIZak9OZnqx",
        "colab_type": "code",
        "colab": {
          "base_uri": "https://localhost:8080/",
          "height": 85
        },
        "outputId": "48fbf769-f115-47bc-c0b0-16d245912205"
      },
      "source": [
        "%%time\n",
        "x_train, y_train, x_test, y_test, box_size = load_mnist(doubled=0)"
      ],
      "execution_count": 10,
      "outputs": [
        {
          "output_type": "stream",
          "text": [
            "Downloading data from https://s3.amazonaws.com/img-datasets/mnist.npz\n",
            "11493376/11490434 [==============================] - 1s 0us/step\n",
            "CPU times: user 369 ms, sys: 156 ms, total: 525 ms\n",
            "Wall time: 1.72 s\n"
          ],
          "name": "stdout"
        }
      ]
    },
    {
      "cell_type": "code",
      "metadata": {
        "id": "UwTVIW1He7kO",
        "colab_type": "code",
        "colab": {}
      },
      "source": [
        "STAGES = np.array([\"s1\",\"s2\",\"s3\"]) # S\n",
        "NUM_NODES = np.array([3,4,5])       # K\n",
        "FILTERS = np.array([32, 48, 64])\n",
        "sampleIndividual = [1, 1, 0, 0, 0, 0, 0, 0, 1, 0, 1, 0, 1, 0, 0, 1, 1, 1, 1]"
      ],
      "execution_count": 0,
      "outputs": []
    },
    {
      "cell_type": "code",
      "metadata": {
        "id": "BqSY8vpXfM8B",
        "colab_type": "code",
        "colab": {}
      },
      "source": [
        "model = CNN_build(STAGES, NUM_NODES, FILTERS, sampleIndividual, box_size, 10, 0)"
      ],
      "execution_count": 0,
      "outputs": []
    },
    {
      "cell_type": "code",
      "metadata": {
        "id": "nAOeVitcfOyI",
        "colab_type": "code",
        "colab": {}
      },
      "source": [
        "model = compile_model(model)"
      ],
      "execution_count": 0,
      "outputs": []
    },
    {
      "cell_type": "code",
      "metadata": {
        "id": "C_90wxfdfRXF",
        "colab_type": "code",
        "colab": {}
      },
      "source": [
        "visualize_model(model)"
      ],
      "execution_count": 0,
      "outputs": []
    },
    {
      "cell_type": "code",
      "metadata": {
        "id": "zGteF_JxgBak",
        "colab_type": "code",
        "colab": {}
      },
      "source": [
        "from keras.callbacks import ReduceLROnPlateau, EarlyStopping\n",
        "reducelr = ReduceLROnPlateau(monitor='val_loss', factor=0.5, patience=1, verbose=1, mode='min', cooldown=1)\n",
        "estop = EarlyStopping(monitor='val_loss', min_delta=0, patience=5, verbose=1, mode='min')"
      ],
      "execution_count": 0,
      "outputs": []
    },
    {
      "cell_type": "code",
      "metadata": {
        "id": "LRmqrhD9fbnX",
        "colab_type": "code",
        "colab": {
          "base_uri": "https://localhost:8080/",
          "height": 646
        },
        "outputId": "648816a3-c608-4888-a1f8-fd475b0145bc"
      },
      "source": [
        "%%time\n",
        "history, result = train_model(model, x_train, y_train, x_test, y_test, 20, 256, 1, 0.2, [reducelr, estop])"
      ],
      "execution_count": 32,
      "outputs": [
        {
          "output_type": "stream",
          "text": [
            "Train on 48000 samples, validate on 12000 samples\n",
            "Epoch 1/20\n",
            "48000/48000 [==============================] - 11s 220us/step - loss: 0.4362 - acc: 0.8560 - val_loss: 0.0875 - val_acc: 0.9751\n",
            "Epoch 2/20\n",
            "48000/48000 [==============================] - 9s 186us/step - loss: 0.0686 - acc: 0.9800 - val_loss: 0.0523 - val_acc: 0.9843\n",
            "Epoch 3/20\n",
            "48000/48000 [==============================] - 9s 188us/step - loss: 0.0453 - acc: 0.9864 - val_loss: 0.0512 - val_acc: 0.9837\n",
            "Epoch 4/20\n",
            "48000/48000 [==============================] - 9s 188us/step - loss: 0.0369 - acc: 0.9886 - val_loss: 0.0385 - val_acc: 0.9890\n",
            "Epoch 5/20\n",
            "48000/48000 [==============================] - 9s 186us/step - loss: 0.0300 - acc: 0.9906 - val_loss: 0.0313 - val_acc: 0.9904\n",
            "Epoch 6/20\n",
            "48000/48000 [==============================] - 9s 186us/step - loss: 0.0215 - acc: 0.9934 - val_loss: 0.0324 - val_acc: 0.9894\n",
            "\n",
            "Epoch 00006: ReduceLROnPlateau reducing learning rate to 0.0005000000237487257.\n",
            "Epoch 7/20\n",
            "48000/48000 [==============================] - 9s 184us/step - loss: 0.0104 - acc: 0.9965 - val_loss: 0.0268 - val_acc: 0.9924\n",
            "Epoch 8/20\n",
            "48000/48000 [==============================] - 9s 184us/step - loss: 0.0069 - acc: 0.9977 - val_loss: 0.0307 - val_acc: 0.9922\n",
            "\n",
            "Epoch 00008: ReduceLROnPlateau reducing learning rate to 0.0002500000118743628.\n",
            "Epoch 9/20\n",
            "48000/48000 [==============================] - 9s 184us/step - loss: 0.0027 - acc: 0.9992 - val_loss: 0.0294 - val_acc: 0.9928\n",
            "\n",
            "Epoch 00009: ReduceLROnPlateau reducing learning rate to 0.0001250000059371814.\n",
            "Epoch 10/20\n",
            "48000/48000 [==============================] - 9s 184us/step - loss: 8.3924e-04 - acc: 0.9998 - val_loss: 0.0312 - val_acc: 0.9933\n",
            "\n",
            "Epoch 00010: ReduceLROnPlateau reducing learning rate to 6.25000029685907e-05.\n",
            "Epoch 11/20\n",
            "48000/48000 [==============================] - 9s 185us/step - loss: 3.9299e-04 - acc: 0.9999 - val_loss: 0.0314 - val_acc: 0.9936\n",
            "\n",
            "Epoch 00011: ReduceLROnPlateau reducing learning rate to 3.125000148429535e-05.\n",
            "Epoch 00011: early stopping\n",
            "10000/10000 [==============================] - 1s 97us/step\n",
            "CPU times: user 1min 2s, sys: 17.5 s, total: 1min 20s\n",
            "Wall time: 1min 41s\n"
          ],
          "name": "stdout"
        }
      ]
    },
    {
      "cell_type": "code",
      "metadata": {
        "id": "YMYjil9fjP13",
        "colab_type": "code",
        "colab": {
          "base_uri": "https://localhost:8080/",
          "height": 34
        },
        "outputId": "ead9aefc-fdbb-47c9-c2cb-aff86f5cf141"
      },
      "source": [
        "result"
      ],
      "execution_count": 33,
      "outputs": [
        {
          "output_type": "execute_result",
          "data": {
            "text/plain": [
              "[0.030240075355330374, 0.9934]"
            ]
          },
          "metadata": {
            "tags": []
          },
          "execution_count": 33
        }
      ]
    },
    {
      "cell_type": "code",
      "metadata": {
        "id": "Dq26Lc0ujT2Y",
        "colab_type": "code",
        "colab": {
          "base_uri": "https://localhost:8080/",
          "height": 295
        },
        "outputId": "b0c4652e-6602-4bb3-dd44-d296437f86cc"
      },
      "source": [
        "from matplotlib import pyplot as plt\n",
        "epochs = history.epoch\n",
        "loss = history.history['loss']\n",
        "val_loss = history.history['val_loss']\n",
        "\n",
        "plt.title('Loss/Val loss curve')\n",
        "plt.xlabel('epochs')\n",
        "plt.ylabel('loss')\n",
        "plt.plot(epochs, loss, color='red', label='training')\n",
        "plt.plot(epochs, val_loss, color='orange', label='validation')\n",
        "plt.legend()\n",
        "plt.show()"
      ],
      "execution_count": 34,
      "outputs": [
        {
          "output_type": "display_data",
          "data": {
            "image/png": "[encoded data removed]",
            "text/plain": [
              "<Figure size 432x288 with 1 Axes>"
            ]
          },
          "metadata": {
            "tags": []
          }
        }
      ]
    },
    {
      "cell_type": "code",
      "metadata": {
        "id": "3K8N0nlVjZYp",
        "colab_type": "code",
        "colab": {
          "base_uri": "https://localhost:8080/",
          "height": 295
        },
        "outputId": "46caa929-e4e7-4f7c-eb70-b47f5b29f983"
      },
      "source": [
        "acc = history.history['acc']\n",
        "val_acc = history.history['val_acc']\n",
        "\n",
        "plt.title('Acc/Val acc curve')\n",
        "plt.xlabel('epochs')\n",
        "plt.ylabel('accuracy')\n",
        "plt.plot(epochs, acc, color='red', label='training')\n",
        "plt.plot(epochs, val_acc, color='orange', label='validation')\n",
        "plt.legend()\n",
        "plt.show()"
      ],
      "execution_count": 35,
      "outputs": [
        {
          "output_type": "display_data",
          "data": {
            "image/png": "[encoded data removed]",
            "text/plain": [
              "<Figure size 432x288 with 1 Axes>"
            ]
          },
          "metadata": {
            "tags": []
          }
        }
      ]
    },
    {
      "cell_type": "markdown",
      "metadata": {
        "id": "hVp4A8xQU-fb",
        "colab_type": "text"
      },
      "source": [
        "# Resources"
      ]
    },
    {
      "cell_type": "markdown",
      "metadata": {
        "id": "MZObn4NLVDK0",
        "colab_type": "text"
      },
      "source": [
        "* Google Schoolar Searches: [link](https://scholar.google.com/scholar?hl=sr&as_sdt=0%2C5&q=genetic+cnn+handwritting&btnG=)\n",
        "\n",
        "* Fokus na rad: \n",
        " * .pdf: [link](https://arxiv.org/abs/1703.01513)\n",
        " * github: [link](https://arxiv.org/abs/1703.01513)\n",
        "* Dodatno rad:\n",
        " *  .pdf: [link](https://arxiv.org/pdf/1710.10741.pdf)\n",
        " * Clanak na netu: [link](https://blog.coast.ai/lets-evolve-a-neural-network-with-a-genetic-algorithm-code-included-8809bece164)\n",
        "* Ako sami implementiramo: [link](https://github.com/joeddav/devol/blob/master/devol/devol.py)\n"
      ]
    }
  ]
}