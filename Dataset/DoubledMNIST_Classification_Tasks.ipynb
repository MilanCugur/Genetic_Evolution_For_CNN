{
  "nbformat": 4,
  "nbformat_minor": 0,
  "metadata": {
    "colab": {
      "name": "DoubledMNIST_Classification_Tasks.ipynb",
      "version": "0.3.2",
      "provenance": [],
      "collapsed_sections": [
        "E3DgR_Fr1E4d"
      ],
      "toc_visible": true,
      "include_colab_link": true
    },
    "kernelspec": {
      "name": "python3",
      "display_name": "Python 3"
    },
    "accelerator": "GPU"
  },
  "cells": [
    {
      "cell_type": "markdown",
      "metadata": {
        "id": "view-in-github",
        "colab_type": "text"
      },
      "source": [
        "<a href=\"https://colab.research.google.com/github/MilanCugur/DoubledMNIST/blob/master/DoubledMNIST_Classification_Tasks.ipynb\" target=\"_parent\"><img src=\"https://colab.research.google.com/assets/colab-badge.svg\" alt=\"Open In Colab\"/></a>"
      ]
    },
    {
      "cell_type": "code",
      "metadata": {
        "id": "97wTa6g0zpLk",
        "colab_type": "code",
        "outputId": "390e322e-41cd-4004-db47-7ca3bb2e836e",
        "colab": {
          "base_uri": "https://localhost:8080/",
          "height": 122
        }
      },
      "source": [
        "from google.colab import drive\n",
        "drive.mount('/content/drive')"
      ],
      "execution_count": 0,
      "outputs": [
        {
          "output_type": "stream",
          "text": [
            "Go to this URL in a browser: https://accounts.google.com/o/oauth2/auth?client_id=947318989803-6bn6qk8qdgf4n4g3pfee6491hc0brc4i.apps.googleusercontent.com&redirect_uri=urn%3Aietf%3Awg%3Aoauth%3A2.0%3Aoob&scope=email%20https%3A%2F%2Fwww.googleapis.com%2Fauth%2Fdocs.test%20https%3A%2F%2Fwww.googleapis.com%2Fauth%2Fdrive%20https%3A%2F%2Fwww.googleapis.com%2Fauth%2Fdrive.photos.readonly%20https%3A%2F%2Fwww.googleapis.com%2Fauth%2Fpeopleapi.readonly&response_type=code\n",
            "\n",
            "Enter your authorization code:\n",
            "··········\n",
            "Mounted at /content/drive\n"
          ],
          "name": "stdout"
        }
      ]
    },
    {
      "cell_type": "code",
      "metadata": {
        "id": "Y2p1ENVF1vc3",
        "colab_type": "code",
        "outputId": "568e2f35-f747-48e5-a0d7-e6d1e5e02280",
        "colab": {
          "base_uri": "https://localhost:8080/",
          "height": 34
        }
      },
      "source": [
        "# General tools\n",
        "import matplotlib.pyplot as plt\n",
        "import numpy as np\n",
        "import pandas as pd\n",
        "import seaborn as sns\n",
        "from tqdm import tqdm\n",
        "\n",
        "# Metrics and Evaluation\n",
        "from sklearn.metrics import accuracy_score\n",
        "from sklearn.model_selection import train_test_split, GridSearchCV\n",
        "from sklearn.metrics import classification_report\n",
        "from sklearn.metrics import confusion_matrix\n",
        "from sklearn import metrics\n",
        "import sklearn.metrics as met\n",
        "\n",
        "# KNearest Neighbours\n",
        "from sklearn.cluster import KMeans\n",
        "from sklearn.neighbors import KNeighborsClassifier  \n",
        "\n",
        "# SVC\n",
        "from sklearn.svm import  SVC\n",
        "from sklearn.model_selection import validation_curve\n",
        "from sklearn.model_selection import KFold\n",
        "from sklearn.model_selection import cross_val_score\n",
        "from sklearn.model_selection import GridSearchCV\n",
        "\n",
        "# Decision Tree\n",
        "from sklearn import tree\n",
        "from sklearn.tree import  DecisionTreeClassifier, export_graphviz\n",
        "import subprocess\n",
        "from sklearn.ensemble import RandomForestClassifier\n",
        "\n",
        "# Deep Neural Network\n",
        "from keras.models import Model\n",
        "from keras.layers import Input, Conv2D, MaxPool2D, Flatten, Concatenate, Dense, Dropout, BatchNormalization\n",
        "from keras.optimizers import Adam  # First, naive approach\n",
        "from keras.losses import categorical_crossentropy\n",
        "from keras.callbacks import ModelCheckpoint, EarlyStopping, ReduceLROnPlateau, CSVLogger  # Add callbacks to model\n",
        "from keras.models import load_model  # Save model params\n",
        "from keras.layers import LeakyReLU, concatenate\n",
        "from keras.layers.advanced_activations import PReLU\n",
        "from keras.initializers import glorot_normal\n",
        "from keras.utils import to_categorical\n",
        "from keras.utils import Sequence\n",
        "from sklearn.utils import shuffle\n",
        "import keras.backend as K"
      ],
      "execution_count": 0,
      "outputs": [
        {
          "output_type": "stream",
          "text": [
            "Using TensorFlow backend.\n"
          ],
          "name": "stderr"
        }
      ]
    },
    {
      "cell_type": "markdown",
      "metadata": {
        "id": "Fk8sIaPez8hm",
        "colab_type": "text"
      },
      "source": [
        "# Load data"
      ]
    },
    {
      "cell_type": "code",
      "metadata": {
        "id": "3nqZx6Bxzwtm",
        "colab_type": "code",
        "colab": {}
      },
      "source": [
        "def extract_dataset(path):\n",
        "  \"\"\"\n",
        "  extract DoubledMNIST dataset\n",
        "  Argument: path to .zip file with the dataset\n",
        "  Return value: x_train, y_train, x_test, y_test lists of numpy arrays \n",
        "  \n",
        "  (DoubledMNIST dataset: train size 120k images 56x56, test size 20k images 56x56)\n",
        "  \"\"\"\n",
        "  # import libraries\n",
        "  import os                     # for basic os operations\n",
        "  from zipfile import ZipFile \n",
        "  from skimage import io\n",
        "  import numpy as np\n",
        "  import shutil\n",
        "  \n",
        "  if not path.endswith('.zip'):\n",
        "    raise ValueError(\"Error: path is not '.zip' file\")\n",
        "  \n",
        "  archive = ZipFile(path, 'r')  # extract\n",
        "  archive.extractall('./DoubledMNIST')\n",
        "  archive.close()\n",
        "  del archive\n",
        "  \n",
        "  x_train = []\n",
        "  y_train = []\n",
        "  x_test = []\n",
        "  y_test = []\n",
        "  \n",
        "  for file in os.listdir('./DoubledMNIST/train'):\n",
        "    img = io.imread(os.path.join('./DoubledMNIST/train', file))\n",
        "    x_train.append(np.array(img))\n",
        "    y_train.append(int(file.split('_')[1]))\n",
        "  \n",
        "  for file in os.listdir('./DoubledMNIST/test'):\n",
        "    img = io.imread(os.path.join('./DoubledMNIST/test', file))\n",
        "    x_test.append(np.array(img))\n",
        "    y_test.append(int(file.split('_')[1]))\n",
        "    \n",
        "  shutil.rmtree('./DoubledMNIST')\n",
        "  return x_train, y_train, x_test, y_test"
      ],
      "execution_count": 0,
      "outputs": []
    },
    {
      "cell_type": "code",
      "metadata": {
        "id": "5yQ4cceG0B76",
        "colab_type": "code",
        "outputId": "b3d6bb40-96ff-4800-a0a3-d36342fe9c45",
        "colab": {
          "base_uri": "https://localhost:8080/",
          "height": 51
        }
      },
      "source": [
        "%%time\n",
        "x_train, y_train, x_test, y_test = extract_dataset('./drive/My Drive/dm_sem/DoubledMNIST.zip')"
      ],
      "execution_count": 0,
      "outputs": [
        {
          "output_type": "stream",
          "text": [
            "CPU times: user 54.7 s, sys: 13.1 s, total: 1min 7s\n",
            "Wall time: 1min 13s\n"
          ],
          "name": "stdout"
        }
      ]
    },
    {
      "cell_type": "code",
      "metadata": {
        "id": "DpSqzljL0gCD",
        "colab_type": "code",
        "outputId": "7ecaabe4-e958-4906-97fb-0017ca5d48e6",
        "colab": {
          "base_uri": "https://localhost:8080/",
          "height": 85
        }
      },
      "source": [
        "print('No of train images: ', len(x_train))  # size check\n",
        "print('No of train labels: ', len(y_train))\n",
        "print('No of test images: ', len(x_test))\n",
        "print('No of test labels: ', len(y_test))"
      ],
      "execution_count": 0,
      "outputs": [
        {
          "output_type": "stream",
          "text": [
            "No of train images:  120000\n",
            "No of train labels:  120000\n",
            "No of test images:  20000\n",
            "No of test labels:  20000\n"
          ],
          "name": "stdout"
        }
      ]
    },
    {
      "cell_type": "code",
      "metadata": {
        "id": "Qg0QmzMZ0kFJ",
        "colab_type": "code",
        "outputId": "53eeb518-5afa-4152-aefa-a6c47edb3fd1",
        "colab": {
          "base_uri": "https://localhost:8080/",
          "height": 136
        }
      },
      "source": [
        "x_train[0]  # image check; its saved as 8bit grayscale image"
      ],
      "execution_count": 0,
      "outputs": [
        {
          "output_type": "execute_result",
          "data": {
            "text/plain": [
              "array([[255, 255, 255, ..., 254, 255, 255],\n",
              "       [255, 255, 255, ..., 254, 255, 255],\n",
              "       [255, 255, 255, ..., 254, 255, 255],\n",
              "       ...,\n",
              "       [254, 254, 254, ..., 254, 254, 254],\n",
              "       [255, 255, 255, ..., 254, 255, 255],\n",
              "       [255, 255, 255, ..., 254, 255, 255]], dtype=uint8)"
            ]
          },
          "metadata": {
            "tags": []
          },
          "execution_count": 6
        }
      ]
    },
    {
      "cell_type": "code",
      "metadata": {
        "id": "ab4yiqY60mSj",
        "colab_type": "code",
        "outputId": "f92243d1-eeaf-4c6f-e26a-822ea9d8d97f",
        "colab": {
          "base_uri": "https://localhost:8080/",
          "height": 536
        }
      },
      "source": [
        "# Plot some examples from datbase\n",
        "print('Slucajni uzorak baze podataka: ')\n",
        "fig, ax = plt.subplots(nrows=4, ncols=10)\n",
        "fig.set_figheight(9)\n",
        "fig.set_figwidth(18)\n",
        "for row in ax:\n",
        "    for col in row:\n",
        "      i = np.random.randint(len(x_train))\n",
        "      col.imshow(x_train[i], cmap='gray')\n",
        "      \n",
        "plt.show()"
      ],
      "execution_count": 0,
      "outputs": [
        {
          "output_type": "stream",
          "text": [
            "Slucajni uzorak baze podataka: \n"
          ],
          "name": "stdout"
        },
        {
          "output_type": "display_data",
          "data": {
            "image/png": "iVBORw0KGgoAAAANSUhEUgAABBEAAAH2CAYAAAAmghT2AAAABHNCSVQICAgIfAhkiAAAAAlwSFlz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\nWFhYWEyF/x+KQAPw5JdGqAAAAABJRU5ErkJggg==\n",
            "text/plain": [
              "<Figure size 1296x648 with 40 Axes>"
            ]
          },
          "metadata": {
            "tags": []
          }
        }
      ]
    },
    {
      "cell_type": "code",
      "metadata": {
        "id": "WDWj0zlO0rxl",
        "colab_type": "code",
        "outputId": "1fce352e-edcb-4614-e64b-7b8a64a9543a",
        "colab": {
          "base_uri": "https://localhost:8080/",
          "height": 34
        }
      },
      "source": [
        "x_train[0].shape  # check image shape"
      ],
      "execution_count": 0,
      "outputs": [
        {
          "output_type": "execute_result",
          "data": {
            "text/plain": [
              "(56, 56)"
            ]
          },
          "metadata": {
            "tags": []
          },
          "execution_count": 8
        }
      ]
    },
    {
      "cell_type": "code",
      "metadata": {
        "id": "r6NA-HjB0_-z",
        "colab_type": "code",
        "outputId": "4785662a-4baa-4101-e1c4-dad8e6c8bb7d",
        "colab": {
          "base_uri": "https://localhost:8080/",
          "height": 34
        }
      },
      "source": [
        "type(x_train[0])  # check image type"
      ],
      "execution_count": 0,
      "outputs": [
        {
          "output_type": "execute_result",
          "data": {
            "text/plain": [
              "numpy.ndarray"
            ]
          },
          "metadata": {
            "tags": []
          },
          "execution_count": 9
        }
      ]
    },
    {
      "cell_type": "markdown",
      "metadata": {
        "id": "HvIEB8RT69RN",
        "colab_type": "text"
      },
      "source": [
        "# Data for Choosing Parameters / Final Train"
      ]
    },
    {
      "cell_type": "code",
      "metadata": {
        "id": "romqGE8R2db4",
        "colab_type": "code",
        "colab": {}
      },
      "source": [
        "# Data for evaluation\n",
        "x_train_full = np.array([img.flatten()/255.0 for img in x_train])  # image preprocessiong, convert it to [0, 1] and flatten for knn; knn dont requests normalize data?\n",
        "y_train_full = np.array(y_train)\n",
        "\n",
        "x_test_full = np.array([img.flatten()/255.0 for img in x_test])\n",
        "y_test_full = np.array(y_test)"
      ],
      "execution_count": 0,
      "outputs": []
    },
    {
      "cell_type": "code",
      "metadata": {
        "id": "IX3F_6HX4oEN",
        "colab_type": "code",
        "colab": {}
      },
      "source": [
        "# Data for parameter choosing (knn, svm, dt)\n",
        "x_train_choose = np.array([img.flatten()/255.0 for img in x_train[:1000]])  \n",
        "y_train_choose = np.array(y_train[:1000])\n",
        "x_test_choose = np.array([img.flatten()/255.0 for img in x_train[1000:2000]])  \n",
        "y_test_choose = np.array(y_train[1000:2000])"
      ],
      "execution_count": 0,
      "outputs": []
    },
    {
      "cell_type": "code",
      "metadata": {
        "id": "Ce3dZCxw768T",
        "colab_type": "code",
        "outputId": "8d534a2f-4672-4827-d55a-8535251d2193",
        "colab": {
          "base_uri": "https://localhost:8080/",
          "height": 599
        }
      },
      "source": [
        "plt.figure(figsize=(10,10))\n",
        "print('Raspodela labela na celom skupu podataka')\n",
        "plt.pie([sum(y_train_full==y) for y in range(10)], shadow=True, startangle=90, labels = ['0','1','2','3','4','5','6','7','8','9'], autopct='%1.1f%%')\n",
        "plt.legend()\n",
        "plt.show()"
      ],
      "execution_count": 0,
      "outputs": [
        {
          "output_type": "stream",
          "text": [
            "Raspodela labela na celom skupu podataka\n"
          ],
          "name": "stdout"
        },
        {
          "output_type": "display_data",
          "data": {
            "image/png": "iVBORw0KGgoAAAANSUhEUgAAAjQAAAI1CAYAAADB12CmAAAABHNCSVQICAgIfAhkiAAAAAlwSFlz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\nAAA87/8AK0fsr/AiDp8AAAAASUVORK5CYII=\n",
            "text/plain": [
              "<Figure size 720x720 with 1 Axes>"
            ]
          },
          "metadata": {
            "tags": []
          }
        }
      ]
    },
    {
      "cell_type": "code",
      "metadata": {
        "id": "580FW-ju6uLV",
        "colab_type": "code",
        "outputId": "460efe27-d55c-4e92-d6e4-ecf41d2843c0",
        "colab": {
          "base_uri": "https://localhost:8080/",
          "height": 599
        }
      },
      "source": [
        "plt.figure(figsize=(10,10))\n",
        "print('Raspodela labela na skupu za izbor parametara')\n",
        "plt.pie([sum(y_train_choose==y) for y in range(10)], shadow=True, startangle=90, labels = ['0','1','2','3','4','5','6','7','8','9'], autopct='%1.1f%%')\n",
        "plt.legend()\n",
        "plt.show()"
      ],
      "execution_count": 0,
      "outputs": [
        {
          "output_type": "stream",
          "text": [
            "Raspodela labela na skupu za izbor parametara\n"
          ],
          "name": "stdout"
        },
        {
          "output_type": "display_data",
          "data": {
            "image/png": "iVBORw0KGgoAAAANSUhEUgAAAjQAAAI1CAYAAADB12CmAAAABHNCSVQICAgIfAhkiAAAAAlwSFlz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\n",
            "text/plain": [
              "<Figure size 720x720 with 1 Axes>"
            ]
          },
          "metadata": {
            "tags": []
          }
        }
      ]
    },
    {
      "cell_type": "code",
      "metadata": {
        "id": "tHdX8m2vFA6a",
        "colab_type": "code",
        "colab": {}
      },
      "source": [
        "labels = ['0', '1', '2', '3', '4', '5', '6', '7', '8', '9']"
      ],
      "execution_count": 0,
      "outputs": []
    },
    {
      "cell_type": "code",
      "metadata": {
        "id": "7hoE53Z59Fdd",
        "colab_type": "code",
        "outputId": "b06a9cf0-88ce-4dfd-8473-570ee233efa3",
        "colab": {
          "base_uri": "https://localhost:8080/",
          "height": 286
        }
      },
      "source": [
        "# print concrete sample for parameter choosing\n",
        "sns.countplot(y_train_choose)"
      ],
      "execution_count": 0,
      "outputs": [
        {
          "output_type": "execute_result",
          "data": {
            "text/plain": [
              "<matplotlib.axes._subplots.AxesSubplot at 0x7fe5a9304780>"
            ]
          },
          "metadata": {
            "tags": []
          },
          "execution_count": 15
        },
        {
          "output_type": "display_data",
          "data": {
            "image/png": "iVBORw0KGgoAAAANSUhEUgAAAYgAAAD8CAYAAABthzNFAAAABHNCSVQICAgIfAhkiAAAAAlwSFlz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\n",
            "text/plain": [
              "<Figure size 432x288 with 1 Axes>"
            ]
          },
          "metadata": {
            "tags": []
          }
        }
      ]
    },
    {
      "cell_type": "code",
      "metadata": {
        "id": "BxdXp4KOn2QZ",
        "colab_type": "code",
        "outputId": "a80db8e4-c2e7-489e-bbff-1f4a585733a1",
        "colab": {
          "base_uri": "https://localhost:8080/",
          "height": 286
        }
      },
      "source": [
        "# print concrete sample for parameter choosing\n",
        "sns.countplot(y_test_choose)"
      ],
      "execution_count": 0,
      "outputs": [
        {
          "output_type": "execute_result",
          "data": {
            "text/plain": [
              "<matplotlib.axes._subplots.AxesSubplot at 0x7fe5a77200b8>"
            ]
          },
          "metadata": {
            "tags": []
          },
          "execution_count": 16
        },
        {
          "output_type": "display_data",
          "data": {
            "image/png": "iVBORw0KGgoAAAANSUhEUgAAAYgAAAD8CAYAAABthzNFAAAABHNCSVQICAgIfAhkiAAAAAlwSFlz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\ngpAkNVkQkqQmC0KS1GRBSJKa/g8CUDX9aHNqSAAAAABJRU5ErkJggg==\n",
            "text/plain": [
              "<Figure size 432x288 with 1 Axes>"
            ]
          },
          "metadata": {
            "tags": []
          }
        }
      ]
    },
    {
      "cell_type": "code",
      "metadata": {
        "id": "bY7YZJ369EX2",
        "colab_type": "code",
        "outputId": "949c1527-9be3-43a0-be82-d9d3d50a4634",
        "colab": {
          "base_uri": "https://localhost:8080/",
          "height": 346
        }
      },
      "source": [
        "# print basic statistics for any of the 56x56 pixels\n",
        "data = pd.DataFrame(np.array(x_train_choose).reshape(len(x_train_choose), -1))\n",
        "data.describe()"
      ],
      "execution_count": 0,
      "outputs": [
        {
          "output_type": "execute_result",
          "data": {
            "text/html": [
              "<div>\n",
              "<style scoped>\n",
              "    .dataframe tbody tr th:only-of-type {\n",
              "        vertical-align: middle;\n",
              "    }\n",
              "\n",
              "    .dataframe tbody tr th {\n",
              "        vertical-align: top;\n",
              "    }\n",
              "\n",
              "    .dataframe thead th {\n",
              "        text-align: right;\n",
              "    }\n",
              "</style>\n",
              "<table border=\"1\" class=\"dataframe\">\n",
              "  <thead>\n",
              "    <tr style=\"text-align: right;\">\n",
              "      <th></th>\n",
              "      <th>0</th>\n",
              "      <th>1</th>\n",
              "      <th>2</th>\n",
              "      <th>3</th>\n",
              "      <th>4</th>\n",
              "      <th>5</th>\n",
              "      <th>6</th>\n",
              "      <th>7</th>\n",
              "      <th>8</th>\n",
              "      <th>9</th>\n",
              "      <th>10</th>\n",
              "      <th>11</th>\n",
              "      <th>12</th>\n",
              "      <th>13</th>\n",
              "      <th>14</th>\n",
              "      <th>15</th>\n",
              "      <th>16</th>\n",
              "      <th>17</th>\n",
              "      <th>18</th>\n",
              "      <th>19</th>\n",
              "      <th>20</th>\n",
              "      <th>21</th>\n",
              "      <th>22</th>\n",
              "      <th>23</th>\n",
              "      <th>24</th>\n",
              "      <th>25</th>\n",
              "      <th>26</th>\n",
              "      <th>27</th>\n",
              "      <th>28</th>\n",
              "      <th>29</th>\n",
              "      <th>30</th>\n",
              "      <th>31</th>\n",
              "      <th>32</th>\n",
              "      <th>33</th>\n",
              "      <th>34</th>\n",
              "      <th>35</th>\n",
              "      <th>36</th>\n",
              "      <th>37</th>\n",
              "      <th>38</th>\n",
              "      <th>39</th>\n",
              "      <th>...</th>\n",
              "      <th>3096</th>\n",
              "      <th>3097</th>\n",
              "      <th>3098</th>\n",
              "      <th>3099</th>\n",
              "      <th>3100</th>\n",
              "      <th>3101</th>\n",
              "      <th>3102</th>\n",
              "      <th>3103</th>\n",
              "      <th>3104</th>\n",
              "      <th>3105</th>\n",
              "      <th>3106</th>\n",
              "      <th>3107</th>\n",
              "      <th>3108</th>\n",
              "      <th>3109</th>\n",
              "      <th>3110</th>\n",
              "      <th>3111</th>\n",
              "      <th>3112</th>\n",
              "      <th>3113</th>\n",
              "      <th>3114</th>\n",
              "      <th>3115</th>\n",
              "      <th>3116</th>\n",
              "      <th>3117</th>\n",
              "      <th>3118</th>\n",
              "      <th>3119</th>\n",
              "      <th>3120</th>\n",
              "      <th>3121</th>\n",
              "      <th>3122</th>\n",
              "      <th>3123</th>\n",
              "      <th>3124</th>\n",
              "      <th>3125</th>\n",
              "      <th>3126</th>\n",
              "      <th>3127</th>\n",
              "      <th>3128</th>\n",
              "      <th>3129</th>\n",
              "      <th>3130</th>\n",
              "      <th>3131</th>\n",
              "      <th>3132</th>\n",
              "      <th>3133</th>\n",
              "      <th>3134</th>\n",
              "      <th>3135</th>\n",
              "    </tr>\n",
              "  </thead>\n",
              "  <tbody>\n",
              "    <tr>\n",
              "      <th>count</th>\n",
              "      <td>1000.000000</td>\n",
              "      <td>1000.000000</td>\n",
              "      <td>1000.000000</td>\n",
              "      <td>1000.000000</td>\n",
              "      <td>1000.000000</td>\n",
              "      <td>1000.000000</td>\n",
              "      <td>1000.000000</td>\n",
              "      <td>1000.000000</td>\n",
              "      <td>1000.000000</td>\n",
              "      <td>1000.000000</td>\n",
              "      <td>1000.000000</td>\n",
              "      <td>1000.000000</td>\n",
              "      <td>1000.000000</td>\n",
              "      <td>1000.000000</td>\n",
              "      <td>1000.000000</td>\n",
              "      <td>1000.000000</td>\n",
              "      <td>1000.000000</td>\n",
              "      <td>1000.000000</td>\n",
              "      <td>1000.000000</td>\n",
              "      <td>1000.000000</td>\n",
              "      <td>1000.000000</td>\n",
              "      <td>1000.000000</td>\n",
              "      <td>1000.000000</td>\n",
              "      <td>1000.000000</td>\n",
              "      <td>1000.000000</td>\n",
              "      <td>1000.000000</td>\n",
              "      <td>1000.000000</td>\n",
              "      <td>1000.000000</td>\n",
              "      <td>1000.000000</td>\n",
              "      <td>1000.000000</td>\n",
              "      <td>1000.000000</td>\n",
              "      <td>1000.000000</td>\n",
              "      <td>1000.000000</td>\n",
              "      <td>1000.000000</td>\n",
              "      <td>1000.000000</td>\n",
              "      <td>1000.000000</td>\n",
              "      <td>1000.000000</td>\n",
              "      <td>1000.000000</td>\n",
              "      <td>1000.000000</td>\n",
              "      <td>1000.000000</td>\n",
              "      <td>...</td>\n",
              "      <td>1000.000000</td>\n",
              "      <td>1000.000000</td>\n",
              "      <td>1000.000000</td>\n",
              "      <td>1000.000000</td>\n",
              "      <td>1000.000000</td>\n",
              "      <td>1000.000000</td>\n",
              "      <td>1000.000000</td>\n",
              "      <td>1000.000000</td>\n",
              "      <td>1000.000000</td>\n",
              "      <td>1000.000000</td>\n",
              "      <td>1000.000000</td>\n",
              "      <td>1000.000000</td>\n",
              "      <td>1000.000000</td>\n",
              "      <td>1000.000000</td>\n",
              "      <td>1000.000000</td>\n",
              "      <td>1000.000000</td>\n",
              "      <td>1000.000000</td>\n",
              "      <td>1000.000000</td>\n",
              "      <td>1000.000000</td>\n",
              "      <td>1000.000000</td>\n",
              "      <td>1000.000000</td>\n",
              "      <td>1000.000000</td>\n",
              "      <td>1000.000000</td>\n",
              "      <td>1000.000000</td>\n",
              "      <td>1000.000000</td>\n",
              "      <td>1000.000000</td>\n",
              "      <td>1000.000000</td>\n",
              "      <td>1000.000000</td>\n",
              "      <td>1000.000000</td>\n",
              "      <td>1000.000000</td>\n",
              "      <td>1000.000000</td>\n",
              "      <td>1000.000000</td>\n",
              "      <td>1000.000000</td>\n",
              "      <td>1000.000000</td>\n",
              "      <td>1000.000000</td>\n",
              "      <td>1000.000000</td>\n",
              "      <td>1000.000000</td>\n",
              "      <td>1000.000000</td>\n",
              "      <td>1000.000000</td>\n",
              "      <td>1000.000000</td>\n",
              "    </tr>\n",
              "    <tr>\n",
              "      <th>mean</th>\n",
              "      <td>0.999075</td>\n",
              "      <td>0.998851</td>\n",
              "      <td>0.998071</td>\n",
              "      <td>0.997557</td>\n",
              "      <td>0.996404</td>\n",
              "      <td>0.995376</td>\n",
              "      <td>0.994039</td>\n",
              "      <td>0.992800</td>\n",
              "      <td>0.990804</td>\n",
              "      <td>0.989459</td>\n",
              "      <td>0.987471</td>\n",
              "      <td>0.985106</td>\n",
              "      <td>0.982576</td>\n",
              "      <td>0.980106</td>\n",
              "      <td>0.977373</td>\n",
              "      <td>0.974404</td>\n",
              "      <td>0.971051</td>\n",
              "      <td>0.967243</td>\n",
              "      <td>0.962855</td>\n",
              "      <td>0.958408</td>\n",
              "      <td>0.953337</td>\n",
              "      <td>0.948341</td>\n",
              "      <td>0.943231</td>\n",
              "      <td>0.938357</td>\n",
              "      <td>0.933118</td>\n",
              "      <td>0.927859</td>\n",
              "      <td>0.922788</td>\n",
              "      <td>0.917792</td>\n",
              "      <td>0.912420</td>\n",
              "      <td>0.908051</td>\n",
              "      <td>0.904165</td>\n",
              "      <td>0.901494</td>\n",
              "      <td>0.899486</td>\n",
              "      <td>0.898349</td>\n",
              "      <td>0.897914</td>\n",
              "      <td>0.898694</td>\n",
              "      <td>0.899604</td>\n",
              "      <td>0.901604</td>\n",
              "      <td>0.904337</td>\n",
              "      <td>0.908780</td>\n",
              "      <td>...</td>\n",
              "      <td>0.819043</td>\n",
              "      <td>0.806804</td>\n",
              "      <td>0.796008</td>\n",
              "      <td>0.787376</td>\n",
              "      <td>0.780639</td>\n",
              "      <td>0.776310</td>\n",
              "      <td>0.774667</td>\n",
              "      <td>0.775663</td>\n",
              "      <td>0.779212</td>\n",
              "      <td>0.784984</td>\n",
              "      <td>0.793173</td>\n",
              "      <td>0.803078</td>\n",
              "      <td>0.815976</td>\n",
              "      <td>0.828600</td>\n",
              "      <td>0.842882</td>\n",
              "      <td>0.857922</td>\n",
              "      <td>0.873102</td>\n",
              "      <td>0.887345</td>\n",
              "      <td>0.901141</td>\n",
              "      <td>0.914529</td>\n",
              "      <td>0.925843</td>\n",
              "      <td>0.936027</td>\n",
              "      <td>0.944561</td>\n",
              "      <td>0.952388</td>\n",
              "      <td>0.959243</td>\n",
              "      <td>0.965788</td>\n",
              "      <td>0.970839</td>\n",
              "      <td>0.975275</td>\n",
              "      <td>0.978992</td>\n",
              "      <td>0.982208</td>\n",
              "      <td>0.984325</td>\n",
              "      <td>0.987451</td>\n",
              "      <td>0.989549</td>\n",
              "      <td>0.991510</td>\n",
              "      <td>0.992467</td>\n",
              "      <td>0.994376</td>\n",
              "      <td>0.995969</td>\n",
              "      <td>0.996706</td>\n",
              "      <td>0.997525</td>\n",
              "      <td>0.999071</td>\n",
              "    </tr>\n",
              "    <tr>\n",
              "      <th>std</th>\n",
              "      <td>0.005645</td>\n",
              "      <td>0.007142</td>\n",
              "      <td>0.009929</td>\n",
              "      <td>0.013426</td>\n",
              "      <td>0.017884</td>\n",
              "      <td>0.022137</td>\n",
              "      <td>0.027082</td>\n",
              "      <td>0.031174</td>\n",
              "      <td>0.035427</td>\n",
              "      <td>0.039547</td>\n",
              "      <td>0.043424</td>\n",
              "      <td>0.047260</td>\n",
              "      <td>0.050655</td>\n",
              "      <td>0.054020</td>\n",
              "      <td>0.057581</td>\n",
              "      <td>0.060948</td>\n",
              "      <td>0.064407</td>\n",
              "      <td>0.068423</td>\n",
              "      <td>0.072644</td>\n",
              "      <td>0.077152</td>\n",
              "      <td>0.080729</td>\n",
              "      <td>0.084001</td>\n",
              "      <td>0.086708</td>\n",
              "      <td>0.089388</td>\n",
              "      <td>0.092370</td>\n",
              "      <td>0.095064</td>\n",
              "      <td>0.097742</td>\n",
              "      <td>0.100684</td>\n",
              "      <td>0.103399</td>\n",
              "      <td>0.105748</td>\n",
              "      <td>0.107362</td>\n",
              "      <td>0.108397</td>\n",
              "      <td>0.108794</td>\n",
              "      <td>0.109296</td>\n",
              "      <td>0.109255</td>\n",
              "      <td>0.109105</td>\n",
              "      <td>0.108355</td>\n",
              "      <td>0.107549</td>\n",
              "      <td>0.106448</td>\n",
              "      <td>0.104251</td>\n",
              "      <td>...</td>\n",
              "      <td>0.214731</td>\n",
              "      <td>0.218071</td>\n",
              "      <td>0.219702</td>\n",
              "      <td>0.221237</td>\n",
              "      <td>0.221859</td>\n",
              "      <td>0.222425</td>\n",
              "      <td>0.221917</td>\n",
              "      <td>0.221162</td>\n",
              "      <td>0.220544</td>\n",
              "      <td>0.219422</td>\n",
              "      <td>0.217714</td>\n",
              "      <td>0.215210</td>\n",
              "      <td>0.210564</td>\n",
              "      <td>0.205428</td>\n",
              "      <td>0.197324</td>\n",
              "      <td>0.187384</td>\n",
              "      <td>0.175413</td>\n",
              "      <td>0.164333</td>\n",
              "      <td>0.154184</td>\n",
              "      <td>0.145025</td>\n",
              "      <td>0.137072</td>\n",
              "      <td>0.129163</td>\n",
              "      <td>0.121254</td>\n",
              "      <td>0.112373</td>\n",
              "      <td>0.103098</td>\n",
              "      <td>0.094327</td>\n",
              "      <td>0.086251</td>\n",
              "      <td>0.081254</td>\n",
              "      <td>0.076113</td>\n",
              "      <td>0.071155</td>\n",
              "      <td>0.066124</td>\n",
              "      <td>0.058698</td>\n",
              "      <td>0.053048</td>\n",
              "      <td>0.047251</td>\n",
              "      <td>0.040708</td>\n",
              "      <td>0.034531</td>\n",
              "      <td>0.027577</td>\n",
              "      <td>0.019798</td>\n",
              "      <td>0.014666</td>\n",
              "      <td>0.010362</td>\n",
              "    </tr>\n",
              "    <tr>\n",
              "      <th>min</th>\n",
              "      <td>0.894118</td>\n",
              "      <td>0.894118</td>\n",
              "      <td>0.862745</td>\n",
              "      <td>0.819608</td>\n",
              "      <td>0.772549</td>\n",
              "      <td>0.733333</td>\n",
              "      <td>0.705882</td>\n",
              "      <td>0.701961</td>\n",
              "      <td>0.686275</td>\n",
              "      <td>0.678431</td>\n",
              "      <td>0.674510</td>\n",
              "      <td>0.670588</td>\n",
              "      <td>0.670588</td>\n",
              "      <td>0.670588</td>\n",
              "      <td>0.670588</td>\n",
              "      <td>0.670588</td>\n",
              "      <td>0.670588</td>\n",
              "      <td>0.670588</td>\n",
              "      <td>0.674510</td>\n",
              "      <td>0.670588</td>\n",
              "      <td>0.650980</td>\n",
              "      <td>0.647059</td>\n",
              "      <td>0.643137</td>\n",
              "      <td>0.643137</td>\n",
              "      <td>0.647059</td>\n",
              "      <td>0.650980</td>\n",
              "      <td>0.662745</td>\n",
              "      <td>0.662745</td>\n",
              "      <td>0.654902</td>\n",
              "      <td>0.650980</td>\n",
              "      <td>0.650980</td>\n",
              "      <td>0.647059</td>\n",
              "      <td>0.643137</td>\n",
              "      <td>0.658824</td>\n",
              "      <td>0.654902</td>\n",
              "      <td>0.647059</td>\n",
              "      <td>0.643137</td>\n",
              "      <td>0.650980</td>\n",
              "      <td>0.662745</td>\n",
              "      <td>0.662745</td>\n",
              "      <td>...</td>\n",
              "      <td>0.352941</td>\n",
              "      <td>0.352941</td>\n",
              "      <td>0.352941</td>\n",
              "      <td>0.352941</td>\n",
              "      <td>0.352941</td>\n",
              "      <td>0.352941</td>\n",
              "      <td>0.352941</td>\n",
              "      <td>0.352941</td>\n",
              "      <td>0.352941</td>\n",
              "      <td>0.356863</td>\n",
              "      <td>0.356863</td>\n",
              "      <td>0.352941</td>\n",
              "      <td>0.352941</td>\n",
              "      <td>0.352941</td>\n",
              "      <td>0.360784</td>\n",
              "      <td>0.356863</td>\n",
              "      <td>0.360784</td>\n",
              "      <td>0.376471</td>\n",
              "      <td>0.376471</td>\n",
              "      <td>0.372549</td>\n",
              "      <td>0.380392</td>\n",
              "      <td>0.380392</td>\n",
              "      <td>0.384314</td>\n",
              "      <td>0.388235</td>\n",
              "      <td>0.407843</td>\n",
              "      <td>0.407843</td>\n",
              "      <td>0.392157</td>\n",
              "      <td>0.376471</td>\n",
              "      <td>0.388235</td>\n",
              "      <td>0.403922</td>\n",
              "      <td>0.431373</td>\n",
              "      <td>0.431373</td>\n",
              "      <td>0.443137</td>\n",
              "      <td>0.482353</td>\n",
              "      <td>0.498039</td>\n",
              "      <td>0.521569</td>\n",
              "      <td>0.560784</td>\n",
              "      <td>0.631373</td>\n",
              "      <td>0.666667</td>\n",
              "      <td>0.698039</td>\n",
              "    </tr>\n",
              "    <tr>\n",
              "      <th>25%</th>\n",
              "      <td>1.000000</td>\n",
              "      <td>1.000000</td>\n",
              "      <td>1.000000</td>\n",
              "      <td>1.000000</td>\n",
              "      <td>0.996078</td>\n",
              "      <td>0.996078</td>\n",
              "      <td>0.996078</td>\n",
              "      <td>0.996078</td>\n",
              "      <td>0.996078</td>\n",
              "      <td>0.996078</td>\n",
              "      <td>0.996078</td>\n",
              "      <td>0.996078</td>\n",
              "      <td>0.996078</td>\n",
              "      <td>0.996078</td>\n",
              "      <td>0.996078</td>\n",
              "      <td>0.992157</td>\n",
              "      <td>0.988235</td>\n",
              "      <td>0.984314</td>\n",
              "      <td>0.976471</td>\n",
              "      <td>0.964706</td>\n",
              "      <td>0.949020</td>\n",
              "      <td>0.933333</td>\n",
              "      <td>0.917647</td>\n",
              "      <td>0.898039</td>\n",
              "      <td>0.885294</td>\n",
              "      <td>0.874510</td>\n",
              "      <td>0.858824</td>\n",
              "      <td>0.853922</td>\n",
              "      <td>0.843137</td>\n",
              "      <td>0.831373</td>\n",
              "      <td>0.823529</td>\n",
              "      <td>0.819608</td>\n",
              "      <td>0.815686</td>\n",
              "      <td>0.823529</td>\n",
              "      <td>0.815686</td>\n",
              "      <td>0.811765</td>\n",
              "      <td>0.814706</td>\n",
              "      <td>0.811765</td>\n",
              "      <td>0.815686</td>\n",
              "      <td>0.823529</td>\n",
              "      <td>...</td>\n",
              "      <td>0.627451</td>\n",
              "      <td>0.606863</td>\n",
              "      <td>0.600000</td>\n",
              "      <td>0.583333</td>\n",
              "      <td>0.576471</td>\n",
              "      <td>0.568627</td>\n",
              "      <td>0.572549</td>\n",
              "      <td>0.576471</td>\n",
              "      <td>0.588235</td>\n",
              "      <td>0.599020</td>\n",
              "      <td>0.607843</td>\n",
              "      <td>0.618627</td>\n",
              "      <td>0.643137</td>\n",
              "      <td>0.674510</td>\n",
              "      <td>0.705882</td>\n",
              "      <td>0.737255</td>\n",
              "      <td>0.776471</td>\n",
              "      <td>0.803922</td>\n",
              "      <td>0.850980</td>\n",
              "      <td>0.890196</td>\n",
              "      <td>0.925490</td>\n",
              "      <td>0.952941</td>\n",
              "      <td>0.972549</td>\n",
              "      <td>0.984314</td>\n",
              "      <td>0.988235</td>\n",
              "      <td>0.996078</td>\n",
              "      <td>0.996078</td>\n",
              "      <td>0.996078</td>\n",
              "      <td>0.996078</td>\n",
              "      <td>0.996078</td>\n",
              "      <td>0.996078</td>\n",
              "      <td>0.996078</td>\n",
              "      <td>0.996078</td>\n",
              "      <td>0.996078</td>\n",
              "      <td>0.996078</td>\n",
              "      <td>0.996078</td>\n",
              "      <td>0.996078</td>\n",
              "      <td>0.996078</td>\n",
              "      <td>0.996078</td>\n",
              "      <td>1.000000</td>\n",
              "    </tr>\n",
              "    <tr>\n",
              "      <th>50%</th>\n",
              "      <td>1.000000</td>\n",
              "      <td>1.000000</td>\n",
              "      <td>1.000000</td>\n",
              "      <td>1.000000</td>\n",
              "      <td>1.000000</td>\n",
              "      <td>1.000000</td>\n",
              "      <td>1.000000</td>\n",
              "      <td>1.000000</td>\n",
              "      <td>0.996078</td>\n",
              "      <td>1.000000</td>\n",
              "      <td>1.000000</td>\n",
              "      <td>0.996078</td>\n",
              "      <td>0.996078</td>\n",
              "      <td>0.996078</td>\n",
              "      <td>0.996078</td>\n",
              "      <td>0.996078</td>\n",
              "      <td>0.996078</td>\n",
              "      <td>0.996078</td>\n",
              "      <td>0.996078</td>\n",
              "      <td>0.996078</td>\n",
              "      <td>0.996078</td>\n",
              "      <td>0.996078</td>\n",
              "      <td>0.996078</td>\n",
              "      <td>0.992157</td>\n",
              "      <td>0.988235</td>\n",
              "      <td>0.984314</td>\n",
              "      <td>0.980392</td>\n",
              "      <td>0.976471</td>\n",
              "      <td>0.972549</td>\n",
              "      <td>0.962745</td>\n",
              "      <td>0.956863</td>\n",
              "      <td>0.949020</td>\n",
              "      <td>0.945098</td>\n",
              "      <td>0.945098</td>\n",
              "      <td>0.943137</td>\n",
              "      <td>0.945098</td>\n",
              "      <td>0.949020</td>\n",
              "      <td>0.949020</td>\n",
              "      <td>0.958824</td>\n",
              "      <td>0.964706</td>\n",
              "      <td>...</td>\n",
              "      <td>0.954902</td>\n",
              "      <td>0.929412</td>\n",
              "      <td>0.898039</td>\n",
              "      <td>0.870588</td>\n",
              "      <td>0.852941</td>\n",
              "      <td>0.850980</td>\n",
              "      <td>0.833333</td>\n",
              "      <td>0.829412</td>\n",
              "      <td>0.843137</td>\n",
              "      <td>0.866667</td>\n",
              "      <td>0.884314</td>\n",
              "      <td>0.903922</td>\n",
              "      <td>0.925490</td>\n",
              "      <td>0.941176</td>\n",
              "      <td>0.956863</td>\n",
              "      <td>0.968627</td>\n",
              "      <td>0.980392</td>\n",
              "      <td>0.988235</td>\n",
              "      <td>0.994118</td>\n",
              "      <td>0.996078</td>\n",
              "      <td>0.996078</td>\n",
              "      <td>0.996078</td>\n",
              "      <td>0.996078</td>\n",
              "      <td>0.996078</td>\n",
              "      <td>0.996078</td>\n",
              "      <td>0.996078</td>\n",
              "      <td>0.996078</td>\n",
              "      <td>0.996078</td>\n",
              "      <td>0.996078</td>\n",
              "      <td>1.000000</td>\n",
              "      <td>0.996078</td>\n",
              "      <td>1.000000</td>\n",
              "      <td>1.000000</td>\n",
              "      <td>1.000000</td>\n",
              "      <td>1.000000</td>\n",
              "      <td>1.000000</td>\n",
              "      <td>1.000000</td>\n",
              "      <td>1.000000</td>\n",
              "      <td>1.000000</td>\n",
              "      <td>1.000000</td>\n",
              "    </tr>\n",
              "    <tr>\n",
              "      <th>75%</th>\n",
              "      <td>1.000000</td>\n",
              "      <td>1.000000</td>\n",
              "      <td>1.000000</td>\n",
              "      <td>1.000000</td>\n",
              "      <td>1.000000</td>\n",
              "      <td>1.000000</td>\n",
              "      <td>1.000000</td>\n",
              "      <td>1.000000</td>\n",
              "      <td>1.000000</td>\n",
              "      <td>1.000000</td>\n",
              "      <td>1.000000</td>\n",
              "      <td>1.000000</td>\n",
              "      <td>1.000000</td>\n",
              "      <td>1.000000</td>\n",
              "      <td>1.000000</td>\n",
              "      <td>1.000000</td>\n",
              "      <td>1.000000</td>\n",
              "      <td>1.000000</td>\n",
              "      <td>0.996078</td>\n",
              "      <td>1.000000</td>\n",
              "      <td>0.996078</td>\n",
              "      <td>0.996078</td>\n",
              "      <td>0.996078</td>\n",
              "      <td>0.996078</td>\n",
              "      <td>0.996078</td>\n",
              "      <td>0.996078</td>\n",
              "      <td>0.996078</td>\n",
              "      <td>0.996078</td>\n",
              "      <td>0.996078</td>\n",
              "      <td>0.996078</td>\n",
              "      <td>0.996078</td>\n",
              "      <td>0.996078</td>\n",
              "      <td>0.996078</td>\n",
              "      <td>0.996078</td>\n",
              "      <td>0.996078</td>\n",
              "      <td>0.996078</td>\n",
              "      <td>0.996078</td>\n",
              "      <td>0.996078</td>\n",
              "      <td>0.996078</td>\n",
              "      <td>0.996078</td>\n",
              "      <td>...</td>\n",
              "      <td>0.996078</td>\n",
              "      <td>0.996078</td>\n",
              "      <td>0.996078</td>\n",
              "      <td>0.996078</td>\n",
              "      <td>0.996078</td>\n",
              "      <td>0.996078</td>\n",
              "      <td>0.996078</td>\n",
              "      <td>0.996078</td>\n",
              "      <td>0.996078</td>\n",
              "      <td>0.996078</td>\n",
              "      <td>0.996078</td>\n",
              "      <td>0.996078</td>\n",
              "      <td>0.996078</td>\n",
              "      <td>0.996078</td>\n",
              "      <td>0.996078</td>\n",
              "      <td>0.996078</td>\n",
              "      <td>0.996078</td>\n",
              "      <td>0.996078</td>\n",
              "      <td>0.996078</td>\n",
              "      <td>1.000000</td>\n",
              "      <td>0.996078</td>\n",
              "      <td>1.000000</td>\n",
              "      <td>1.000000</td>\n",
              "      <td>1.000000</td>\n",
              "      <td>1.000000</td>\n",
              "      <td>1.000000</td>\n",
              "      <td>1.000000</td>\n",
              "      <td>1.000000</td>\n",
              "      <td>1.000000</td>\n",
              "      <td>1.000000</td>\n",
              "      <td>1.000000</td>\n",
              "      <td>1.000000</td>\n",
              "      <td>1.000000</td>\n",
              "      <td>1.000000</td>\n",
              "      <td>1.000000</td>\n",
              "      <td>1.000000</td>\n",
              "      <td>1.000000</td>\n",
              "      <td>1.000000</td>\n",
              "      <td>1.000000</td>\n",
              "      <td>1.000000</td>\n",
              "    </tr>\n",
              "    <tr>\n",
              "      <th>max</th>\n",
              "      <td>1.000000</td>\n",
              "      <td>1.000000</td>\n",
              "      <td>1.000000</td>\n",
              "      <td>1.000000</td>\n",
              "      <td>1.000000</td>\n",
              "      <td>1.000000</td>\n",
              "      <td>1.000000</td>\n",
              "      <td>1.000000</td>\n",
              "      <td>1.000000</td>\n",
              "      <td>1.000000</td>\n",
              "      <td>1.000000</td>\n",
              "      <td>1.000000</td>\n",
              "      <td>1.000000</td>\n",
              "      <td>1.000000</td>\n",
              "      <td>1.000000</td>\n",
              "      <td>1.000000</td>\n",
              "      <td>1.000000</td>\n",
              "      <td>1.000000</td>\n",
              "      <td>1.000000</td>\n",
              "      <td>1.000000</td>\n",
              "      <td>1.000000</td>\n",
              "      <td>1.000000</td>\n",
              "      <td>1.000000</td>\n",
              "      <td>1.000000</td>\n",
              "      <td>1.000000</td>\n",
              "      <td>1.000000</td>\n",
              "      <td>1.000000</td>\n",
              "      <td>1.000000</td>\n",
              "      <td>1.000000</td>\n",
              "      <td>1.000000</td>\n",
              "      <td>1.000000</td>\n",
              "      <td>1.000000</td>\n",
              "      <td>1.000000</td>\n",
              "      <td>1.000000</td>\n",
              "      <td>1.000000</td>\n",
              "      <td>1.000000</td>\n",
              "      <td>1.000000</td>\n",
              "      <td>1.000000</td>\n",
              "      <td>1.000000</td>\n",
              "      <td>1.000000</td>\n",
              "      <td>...</td>\n",
              "      <td>1.000000</td>\n",
              "      <td>1.000000</td>\n",
              "      <td>1.000000</td>\n",
              "      <td>1.000000</td>\n",
              "      <td>1.000000</td>\n",
              "      <td>1.000000</td>\n",
              "      <td>1.000000</td>\n",
              "      <td>1.000000</td>\n",
              "      <td>1.000000</td>\n",
              "      <td>1.000000</td>\n",
              "      <td>1.000000</td>\n",
              "      <td>1.000000</td>\n",
              "      <td>1.000000</td>\n",
              "      <td>1.000000</td>\n",
              "      <td>1.000000</td>\n",
              "      <td>1.000000</td>\n",
              "      <td>1.000000</td>\n",
              "      <td>1.000000</td>\n",
              "      <td>1.000000</td>\n",
              "      <td>1.000000</td>\n",
              "      <td>1.000000</td>\n",
              "      <td>1.000000</td>\n",
              "      <td>1.000000</td>\n",
              "      <td>1.000000</td>\n",
              "      <td>1.000000</td>\n",
              "      <td>1.000000</td>\n",
              "      <td>1.000000</td>\n",
              "      <td>1.000000</td>\n",
              "      <td>1.000000</td>\n",
              "      <td>1.000000</td>\n",
              "      <td>1.000000</td>\n",
              "      <td>1.000000</td>\n",
              "      <td>1.000000</td>\n",
              "      <td>1.000000</td>\n",
              "      <td>1.000000</td>\n",
              "      <td>1.000000</td>\n",
              "      <td>1.000000</td>\n",
              "      <td>1.000000</td>\n",
              "      <td>1.000000</td>\n",
              "      <td>1.000000</td>\n",
              "    </tr>\n",
              "  </tbody>\n",
              "</table>\n",
              "<p>8 rows × 3136 columns</p>\n",
              "</div>"
            ],
            "text/plain": [
              "              0            1     ...         3134         3135\n",
              "count  1000.000000  1000.000000  ...  1000.000000  1000.000000\n",
              "mean      0.999075     0.998851  ...     0.997525     0.999071\n",
              "std       0.005645     0.007142  ...     0.014666     0.010362\n",
              "min       0.894118     0.894118  ...     0.666667     0.698039\n",
              "25%       1.000000     1.000000  ...     0.996078     1.000000\n",
              "50%       1.000000     1.000000  ...     1.000000     1.000000\n",
              "75%       1.000000     1.000000  ...     1.000000     1.000000\n",
              "max       1.000000     1.000000  ...     1.000000     1.000000\n",
              "\n",
              "[8 rows x 3136 columns]"
            ]
          },
          "metadata": {
            "tags": []
          },
          "execution_count": 17
        }
      ]
    },
    {
      "cell_type": "markdown",
      "metadata": {
        "id": "E3DgR_Fr1E4d",
        "colab_type": "text"
      },
      "source": [
        "# KNearest Neighbours"
      ]
    },
    {
      "cell_type": "markdown",
      "metadata": {
        "id": "VRi4nYT74lAf",
        "colab_type": "text"
      },
      "source": [
        "## Choose parameters"
      ]
    },
    {
      "cell_type": "code",
      "metadata": {
        "id": "tiOKtoIW3UG_",
        "colab_type": "code",
        "outputId": "2f9519dd-7491-468b-9caa-eab5aac09fcc",
        "colab": {
          "base_uri": "https://localhost:8080/",
          "height": 799
        }
      },
      "source": [
        "%%time\n",
        "\n",
        "ks = [1,2,3,4,5,6,7,8,9,10,30]  # choose appropriate k\n",
        "ps = [1, 2]\n",
        "ws = ['uniform', 'distance']\n",
        "\n",
        "max_params = {'k':0, 'p':0, 'w':0}\n",
        "max_score = 0\n",
        "for k in ks:\n",
        "  for p in ps:\n",
        "    for w in ws:\n",
        "      knn = KNeighborsClassifier(n_neighbors=k, p=p, weights=w)  # approx ~ 1nn\n",
        "      knn.fit(x_train_choose, y_train_choose)\n",
        "  \n",
        "      score = accuracy_score(y_test_choose, knn.predict(x_test_choose))  # check acc score\n",
        "      print(f\"knn(k={k}, p={p}, weights={w}) : {score}\")\n",
        "      if score>max_score:  # Okamov zilet\n",
        "        max_params['k'] = k\n",
        "        max_params['p'] = p\n",
        "        max_params['w'] = w\n",
        "        max_score = score\n",
        "      del knn"
      ],
      "execution_count": 0,
      "outputs": [
        {
          "output_type": "stream",
          "text": [
            "knn(k=1, p=1, weights=uniform) : 0.871\n",
            "knn(k=1, p=1, weights=distance) : 0.871\n",
            "knn(k=1, p=2, weights=uniform) : 0.883\n",
            "knn(k=1, p=2, weights=distance) : 0.883\n",
            "knn(k=2, p=1, weights=uniform) : 0.845\n",
            "knn(k=2, p=1, weights=distance) : 0.871\n",
            "knn(k=2, p=2, weights=uniform) : 0.868\n",
            "knn(k=2, p=2, weights=distance) : 0.883\n",
            "knn(k=3, p=1, weights=uniform) : 0.864\n",
            "knn(k=3, p=1, weights=distance) : 0.874\n",
            "knn(k=3, p=2, weights=uniform) : 0.888\n",
            "knn(k=3, p=2, weights=distance) : 0.894\n",
            "knn(k=4, p=1, weights=uniform) : 0.86\n",
            "knn(k=4, p=1, weights=distance) : 0.875\n",
            "knn(k=4, p=2, weights=uniform) : 0.882\n",
            "knn(k=4, p=2, weights=distance) : 0.892\n",
            "knn(k=5, p=1, weights=uniform) : 0.852\n",
            "knn(k=5, p=1, weights=distance) : 0.862\n",
            "knn(k=5, p=2, weights=uniform) : 0.88\n",
            "knn(k=5, p=2, weights=distance) : 0.888\n",
            "knn(k=6, p=1, weights=uniform) : 0.844\n",
            "knn(k=6, p=1, weights=distance) : 0.864\n",
            "knn(k=6, p=2, weights=uniform) : 0.871\n",
            "knn(k=6, p=2, weights=distance) : 0.882\n",
            "knn(k=7, p=1, weights=uniform) : 0.842\n",
            "knn(k=7, p=1, weights=distance) : 0.847\n",
            "knn(k=7, p=2, weights=uniform) : 0.864\n",
            "knn(k=7, p=2, weights=distance) : 0.873\n",
            "knn(k=8, p=1, weights=uniform) : 0.846\n",
            "knn(k=8, p=1, weights=distance) : 0.856\n",
            "knn(k=8, p=2, weights=uniform) : 0.869\n",
            "knn(k=8, p=2, weights=distance) : 0.876\n",
            "knn(k=9, p=1, weights=uniform) : 0.846\n",
            "knn(k=9, p=1, weights=distance) : 0.857\n",
            "knn(k=9, p=2, weights=uniform) : 0.87\n",
            "knn(k=9, p=2, weights=distance) : 0.875\n",
            "knn(k=10, p=1, weights=uniform) : 0.85\n",
            "knn(k=10, p=1, weights=distance) : 0.858\n",
            "knn(k=10, p=2, weights=uniform) : 0.873\n",
            "knn(k=10, p=2, weights=distance) : 0.873\n",
            "knn(k=30, p=1, weights=uniform) : 0.808\n",
            "knn(k=30, p=1, weights=distance) : 0.818\n",
            "knn(k=30, p=2, weights=uniform) : 0.836\n",
            "knn(k=30, p=2, weights=distance) : 0.841\n",
            "CPU times: user 4min 53s, sys: 122 ms, total: 4min 53s\n",
            "Wall time: 4min 53s\n"
          ],
          "name": "stdout"
        }
      ]
    },
    {
      "cell_type": "code",
      "metadata": {
        "id": "M9WrmEUC6VdC",
        "colab_type": "code",
        "outputId": "5aa31803-9f98-41c4-aa3b-6c7c8d5cfcde",
        "colab": {
          "base_uri": "https://localhost:8080/",
          "height": 51
        }
      },
      "source": [
        "print(max_params)\n",
        "print(max_score)"
      ],
      "execution_count": 0,
      "outputs": [
        {
          "output_type": "stream",
          "text": [
            "{'k': 3, 'p': 2, 'w': 'distance'}\n",
            "0.894\n"
          ],
          "name": "stdout"
        }
      ]
    },
    {
      "cell_type": "markdown",
      "metadata": {
        "id": "iT34BibX6kO6",
        "colab_type": "text"
      },
      "source": [
        "## Evaluate on best params"
      ]
    },
    {
      "cell_type": "code",
      "metadata": {
        "id": "vbBEVhf87Q2U",
        "colab_type": "code",
        "colab": {}
      },
      "source": [
        "k = max_params['k']\n",
        "p = max_params['p']\n",
        "w = max_params['w']"
      ],
      "execution_count": 0,
      "outputs": []
    },
    {
      "cell_type": "code",
      "metadata": {
        "id": "F3mFWwgT1Y2m",
        "colab_type": "code",
        "outputId": "27f18e02-7b65-4548-a462-df1aeb542de6",
        "colab": {
          "base_uri": "https://localhost:8080/",
          "height": 51
        }
      },
      "source": [
        "%%time\n",
        "\n",
        "knn = KNeighborsClassifier(n_neighbors=k, p=p, weights=w)  # approx ~ 1nn\n",
        "knn.fit(x_train_full, y_train_full)  "
      ],
      "execution_count": 0,
      "outputs": [
        {
          "output_type": "stream",
          "text": [
            "CPU times: user 58 s, sys: 99.1 ms, total: 58.1 s\n",
            "Wall time: 57.9 s\n"
          ],
          "name": "stdout"
        }
      ]
    },
    {
      "cell_type": "code",
      "metadata": {
        "id": "D1iCT3Px4anO",
        "colab_type": "code",
        "outputId": "f87b9ea3-1322-4211-a08a-b9b51229ec86",
        "colab": {
          "base_uri": "https://localhost:8080/",
          "height": 68
        }
      },
      "source": [
        "%%time\n",
        "  \n",
        "Mconfusion = np.zeros((10, 10))  # [true, predicted]\n",
        "y_predicted = []\n",
        "\n",
        "for i in tqdm(range(len(y_test_full))):\n",
        "  prediction = knn.predict([x_test_full[i]])[0]\n",
        "  y_predicted.append(prediction)\n",
        "  Mconfusion[y_test_full[i], prediction] += 1"
      ],
      "execution_count": 0,
      "outputs": [
        {
          "output_type": "stream",
          "text": [
            "100%|██████████| 20000/20000 [3:33:21<00:00,  1.34it/s]"
          ],
          "name": "stderr"
        },
        {
          "output_type": "stream",
          "text": [
            "CPU times: user 3h 33min 12s, sys: 12.8 s, total: 3h 33min 24s\n",
            "Wall time: 3h 33min 21s\n"
          ],
          "name": "stdout"
        },
        {
          "output_type": "stream",
          "text": [
            "\n"
          ],
          "name": "stderr"
        }
      ]
    },
    {
      "cell_type": "code",
      "metadata": {
        "id": "vOBjxemYEt3Q",
        "colab_type": "code",
        "outputId": "920af7d1-308e-4e50-c26d-e6e0cf8bf34f",
        "colab": {
          "base_uri": "https://localhost:8080/",
          "height": 34
        }
      },
      "source": [
        "_all = np.sum(np.sum(Mconfusion))\n",
        "_true = np.sum([Mconfusion[i][i] for i in range(10)])\n",
        "\n",
        "print('KNN accuracy: ', _true/_all)"
      ],
      "execution_count": 0,
      "outputs": [
        {
          "output_type": "stream",
          "text": [
            "KNN accuracy:  0.98195\n"
          ],
          "name": "stdout"
        }
      ]
    },
    {
      "cell_type": "code",
      "metadata": {
        "id": "qTGDTIZTHGtN",
        "colab_type": "code",
        "outputId": "335010a5-5edb-449e-d98c-a43e0c71dce3",
        "colab": {
          "base_uri": "https://localhost:8080/",
          "height": 306
        }
      },
      "source": [
        "report = classification_report(y_test_full, y_predicted)\n",
        "print(report)"
      ],
      "execution_count": 0,
      "outputs": [
        {
          "output_type": "stream",
          "text": [
            "              precision    recall  f1-score   support\n",
            "\n",
            "           0       0.98      0.99      0.99      2000\n",
            "           1       0.98      1.00      0.99      2000\n",
            "           2       0.99      0.98      0.98      2000\n",
            "           3       0.98      0.98      0.98      2000\n",
            "           4       0.99      0.98      0.98      2000\n",
            "           5       0.99      0.98      0.98      2000\n",
            "           6       0.99      0.99      0.99      2000\n",
            "           7       0.98      0.98      0.98      2000\n",
            "           8       0.99      0.96      0.98      2000\n",
            "           9       0.97      0.97      0.97      2000\n",
            "\n",
            "    accuracy                           0.98     20000\n",
            "   macro avg       0.98      0.98      0.98     20000\n",
            "weighted avg       0.98      0.98      0.98     20000\n",
            "\n"
          ],
          "name": "stdout"
        }
      ]
    },
    {
      "cell_type": "code",
      "metadata": {
        "id": "oYpkQdrcEtsy",
        "colab_type": "code",
        "outputId": "45a9ee3d-1bfc-4946-9591-26137b064538",
        "colab": {
          "base_uri": "https://localhost:8080/",
          "height": 513
        }
      },
      "source": [
        "fig, ax = plt.subplots(figsize=(8,8))\n",
        "sns.heatmap(Mconfusion, annot=False, ax = ax)\n",
        "\n",
        "# By definition a confusion matrix C is such that Cij is equal to the number of observations known to be in group i but predicted to be in group j.\n",
        "ax.set_xlabel('Predicted labels')\n",
        "ax.set_ylabel('True labels')\n",
        "ax.set_title('Confusion Matrix');\n",
        "ax.xaxis.set_ticklabels(labels)\n",
        "ax.yaxis.set_ticklabels(labels)\n",
        "\n",
        "fig.savefig('KNN_confusion_matrix.png')\n",
        "plt.show()"
      ],
      "execution_count": 0,
      "outputs": [
        {
          "output_type": "display_data",
          "data": {
            "image/png": "iVBORw0KGgoAAAANSUhEUgAAAd4AAAHwCAYAAAAIOA6FAAAABHNCSVQICAgIfAhkiAAAAAlwSFlz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\n/6z/i3yT9wAAAABJRU5ErkJggg==\n",
            "text/plain": [
              "<Figure size 576x576 with 2 Axes>"
            ]
          },
          "metadata": {
            "tags": []
          }
        }
      ]
    },
    {
      "cell_type": "code",
      "metadata": {
        "id": "t7fr01JT5nJT",
        "colab_type": "code",
        "outputId": "a7c60c91-b8d3-4db2-e6ff-34cd831ca99f",
        "colab": {
          "base_uri": "https://localhost:8080/",
          "height": 204
        }
      },
      "source": [
        "# Manually print confusion matrix\n",
        "print('  ', end='  ')\n",
        "print('\\033[1m'+'0    ', end='')\n",
        "for j in labels[1:]:\n",
        "    print(str(j), end='   ')\n",
        "print('\\033[0m')\n",
        "for idx, i in enumerate(Mconfusion):\n",
        "    print('\\033[1m'+str(labels[idx])+'\\033[0m', end=' ')\n",
        "    for j in i:\n",
        "        print('%3d' % (j), end=' ')\n",
        "    print()"
      ],
      "execution_count": 0,
      "outputs": [
        {
          "output_type": "stream",
          "text": [
            "    \u001b[1m0    1   2   3   4   5   6   7   8   9   \u001b[0m\n",
            "\u001b[1m0\u001b[0m 1987   3   1   1   1   1   3   1   0   2 \n",
            "\u001b[1m1\u001b[0m   0 1995   3   0   1   0   0   1   0   0 \n",
            "\u001b[1m2\u001b[0m   8   2 1964  10   0   2   1   9   3   1 \n",
            "\u001b[1m3\u001b[0m   3   4  13 1955   0   9   1   6   8   1 \n",
            "\u001b[1m4\u001b[0m   1   6   0   0 1958   1   5   2   0  27 \n",
            "\u001b[1m5\u001b[0m   3   3   1  19   1 1960   6   0   5   2 \n",
            "\u001b[1m6\u001b[0m   9   5   1   0   1   5 1977   0   2   0 \n",
            "\u001b[1m7\u001b[0m   1  10   1   0   6   0   0 1969   0  13 \n",
            "\u001b[1m8\u001b[0m   9  12   4  13   5  10   6   2 1926  13 \n",
            "\u001b[1m9\u001b[0m   5   3   0   3  12   1   0  24   4 1948 \n"
          ],
          "name": "stdout"
        }
      ]
    },
    {
      "cell_type": "code",
      "metadata": {
        "id": "5AmXv5ig6juM",
        "colab_type": "code",
        "colab": {}
      },
      "source": [
        "np.save('./KNN_Matrix', Mconfusion, allow_pickle=False)  # Save confusion matrix .npz and .csv \n",
        "np.savetxt(\"./KNN_Matrix.csv\", Mconfusion, delimiter=\",\")"
      ],
      "execution_count": 0,
      "outputs": []
    },
    {
      "cell_type": "markdown",
      "metadata": {
        "id": "ZR630WA6ApNE",
        "colab_type": "text"
      },
      "source": [
        "# Support Vector Machine (SVC)"
      ]
    },
    {
      "cell_type": "code",
      "metadata": {
        "id": "ZwmYHLyR8prf",
        "colab_type": "code",
        "outputId": "ddd74ba8-86c1-4a65-d42a-a507773c149d",
        "colab": {
          "base_uri": "https://localhost:8080/",
          "height": 85
        }
      },
      "source": [
        "print(x_train_choose.shape)\n",
        "print(y_train_choose.shape)\n",
        "print(x_test_choose.shape)\n",
        "print(y_test_choose.shape)"
      ],
      "execution_count": 0,
      "outputs": [
        {
          "output_type": "stream",
          "text": [
            "(1000, 3136)\n",
            "(1000,)\n",
            "(1000, 3136)\n",
            "(1000,)\n"
          ],
          "name": "stdout"
        }
      ]
    },
    {
      "cell_type": "code",
      "metadata": {
        "id": "Gof372OW8uvi",
        "colab_type": "code",
        "outputId": "19404ab6-866e-40d0-d601-560e72f7daeb",
        "colab": {
          "base_uri": "https://localhost:8080/",
          "height": 989
        }
      },
      "source": [
        "for i in range(56):  # print values of image!\n",
        "  for j in range(56):\n",
        "    print(\"%.2f \" % x_train_choose[0][56*i+j], end='')\n",
        "  print()"
      ],
      "execution_count": 0,
      "outputs": [
        {
          "output_type": "stream",
          "text": [
            "1.00 1.00 1.00 1.00 1.00 1.00 1.00 1.00 1.00 1.00 1.00 1.00 1.00 1.00 1.00 1.00 1.00 1.00 0.99 0.98 0.98 0.96 0.95 0.94 0.92 0.89 0.87 0.85 0.84 0.84 0.86 0.89 0.91 0.94 0.96 0.97 0.98 0.99 0.99 1.00 1.00 1.00 1.00 1.00 1.00 1.00 1.00 1.00 1.00 1.00 1.00 1.00 1.00 1.00 1.00 1.00 \n",
            "1.00 1.00 1.00 1.00 1.00 1.00 1.00 1.00 1.00 1.00 1.00 1.00 1.00 1.00 1.00 1.00 0.99 0.99 0.98 0.97 0.95 0.93 0.91 0.88 0.85 0.82 0.78 0.76 0.75 0.75 0.78 0.81 0.85 0.89 0.91 0.94 0.96 0.97 0.98 0.99 0.99 1.00 1.00 1.00 1.00 1.00 1.00 1.00 1.00 1.00 1.00 1.00 1.00 1.00 1.00 1.00 \n",
            "1.00 1.00 1.00 1.00 1.00 1.00 1.00 1.00 1.00 1.00 1.00 1.00 1.00 1.00 1.00 0.99 0.98 0.97 0.95 0.93 0.89 0.85 0.81 0.77 0.73 0.68 0.64 0.60 0.59 0.60 0.63 0.67 0.73 0.78 0.82 0.86 0.89 0.93 0.95 0.97 0.98 0.99 1.00 1.00 1.00 1.00 1.00 1.00 1.00 1.00 1.00 1.00 1.00 1.00 1.00 1.00 \n",
            "1.00 1.00 1.00 1.00 1.00 1.00 1.00 1.00 1.00 1.00 1.00 1.00 1.00 0.99 0.99 0.98 0.96 0.93 0.90 0.85 0.79 0.72 0.66 0.61 0.56 0.51 0.46 0.42 0.41 0.42 0.45 0.50 0.56 0.62 0.68 0.74 0.79 0.84 0.89 0.93 0.96 0.98 0.99 0.99 1.00 1.00 1.00 1.00 1.00 1.00 1.00 1.00 1.00 1.00 1.00 1.00 \n",
            "1.00 1.00 1.00 1.00 1.00 1.00 1.00 1.00 1.00 1.00 1.00 1.00 0.99 0.99 0.97 0.95 0.91 0.87 0.80 0.73 0.65 0.56 0.49 0.43 0.38 0.33 0.29 0.26 0.25 0.26 0.29 0.34 0.39 0.45 0.51 0.58 0.64 0.71 0.78 0.85 0.91 0.95 0.97 0.99 0.99 1.00 1.00 1.00 1.00 1.00 1.00 1.00 1.00 1.00 1.00 1.00 \n",
            "1.00 1.00 1.00 1.00 1.00 1.00 1.00 1.00 1.00 1.00 1.00 0.99 0.99 0.97 0.94 0.90 0.84 0.76 0.67 0.58 0.49 0.40 0.33 0.27 0.23 0.20 0.17 0.16 0.15 0.16 0.18 0.22 0.25 0.30 0.35 0.40 0.47 0.56 0.65 0.75 0.83 0.90 0.95 0.98 0.99 1.00 1.00 1.00 1.00 1.00 1.00 1.00 1.00 1.00 1.00 1.00 \n",
            "1.00 1.00 1.00 1.00 1.00 1.00 1.00 1.00 1.00 1.00 1.00 0.99 0.97 0.95 0.89 0.82 0.73 0.62 0.52 0.43 0.34 0.26 0.20 0.16 0.15 0.14 0.13 0.14 0.14 0.15 0.16 0.18 0.20 0.21 0.23 0.26 0.32 0.40 0.50 0.62 0.73 0.83 0.91 0.96 0.98 1.00 1.00 1.00 1.00 1.00 1.00 1.00 1.00 1.00 1.00 1.00 \n",
            "1.00 1.00 1.00 1.00 1.00 1.00 1.00 1.00 1.00 1.00 1.00 0.97 0.95 0.90 0.82 0.72 0.60 0.48 0.38 0.30 0.23 0.18 0.15 0.13 0.14 0.16 0.18 0.20 0.22 0.23 0.24 0.23 0.22 0.20 0.18 0.18 0.21 0.27 0.36 0.48 0.62 0.75 0.86 0.93 0.96 1.00 1.00 1.00 1.00 1.00 1.00 1.00 1.00 1.00 1.00 1.00 \n",
            "1.00 1.00 1.00 1.00 1.00 1.00 1.00 1.00 1.00 1.00 1.00 0.95 0.91 0.84 0.73 0.60 0.47 0.35 0.27 0.21 0.18 0.16 0.16 0.17 0.20 0.24 0.29 0.33 0.36 0.37 0.37 0.35 0.31 0.26 0.21 0.17 0.16 0.18 0.25 0.37 0.52 0.67 0.80 0.89 0.95 1.00 1.00 1.00 1.00 1.00 1.00 1.00 1.00 1.00 1.00 1.00 \n",
            "1.00 1.00 1.00 1.00 1.00 1.00 1.00 1.00 1.00 1.00 1.00 0.91 0.85 0.76 0.62 0.48 0.35 0.25 0.19 0.17 0.18 0.19 0.22 0.26 0.31 0.38 0.45 0.50 0.53 0.55 0.54 0.51 0.45 0.36 0.28 0.20 0.15 0.15 0.19 0.28 0.42 0.59 0.74 0.85 0.92 1.00 1.00 1.00 1.00 1.00 1.00 1.00 1.00 1.00 1.00 1.00 \n",
            "1.00 1.00 1.00 1.00 1.00 1.00 1.00 1.00 1.00 1.00 1.00 0.87 0.78 0.67 0.52 0.37 0.25 0.17 0.15 0.16 0.20 0.25 0.31 0.38 0.45 0.53 0.60 0.65 0.68 0.69 0.67 0.63 0.56 0.46 0.35 0.25 0.17 0.13 0.15 0.22 0.35 0.51 0.67 0.79 0.88 1.00 1.00 1.00 1.00 1.00 1.00 1.00 1.00 1.00 1.00 1.00 \n",
            "1.00 1.00 1.00 1.00 1.00 1.00 1.00 1.00 1.00 1.00 1.00 0.83 0.72 0.58 0.43 0.28 0.17 0.12 0.12 0.16 0.23 0.32 0.40 0.48 0.56 0.64 0.69 0.73 0.75 0.75 0.73 0.68 0.60 0.50 0.38 0.27 0.18 0.13 0.12 0.16 0.27 0.42 0.58 0.72 0.83 1.00 1.00 1.00 1.00 1.00 1.00 1.00 1.00 1.00 1.00 1.00 \n",
            "1.00 1.00 1.00 1.00 1.00 1.00 1.00 1.00 1.00 1.00 1.00 0.80 0.68 0.53 0.37 0.23 0.13 0.09 0.10 0.15 0.24 0.35 0.45 0.54 0.61 0.67 0.70 0.72 0.73 0.71 0.68 0.63 0.55 0.46 0.36 0.25 0.16 0.11 0.09 0.12 0.21 0.35 0.50 0.64 0.76 1.00 1.00 1.00 1.00 1.00 1.00 1.00 1.00 1.00 1.00 1.00 \n",
            "1.00 1.00 1.00 1.00 1.00 1.00 1.00 1.00 1.00 1.00 1.00 0.80 0.67 0.53 0.36 0.22 0.12 0.08 0.09 0.14 0.22 0.32 0.43 0.51 0.57 0.61 0.62 0.62 0.61 0.59 0.55 0.50 0.44 0.36 0.27 0.20 0.13 0.08 0.06 0.09 0.16 0.27 0.42 0.55 0.69 1.00 1.00 1.00 1.00 1.00 1.00 1.00 1.00 1.00 1.00 1.00 \n",
            "1.00 1.00 1.00 1.00 1.00 1.00 1.00 1.00 1.00 1.00 1.00 0.82 0.70 0.56 0.40 0.25 0.15 0.09 0.09 0.11 0.18 0.26 0.35 0.42 0.46 0.47 0.47 0.46 0.44 0.42 0.39 0.35 0.30 0.24 0.19 0.14 0.09 0.06 0.05 0.06 0.11 0.21 0.34 0.46 0.63 1.00 1.00 1.00 1.00 1.00 1.00 1.00 1.00 1.00 1.00 1.00 \n",
            "1.00 1.00 1.00 1.00 1.00 1.00 1.00 1.00 1.00 1.00 1.00 0.85 0.75 0.63 0.48 0.33 0.22 0.14 0.10 0.11 0.14 0.19 0.24 0.29 0.32 0.32 0.31 0.30 0.28 0.27 0.25 0.22 0.20 0.17 0.14 0.11 0.09 0.06 0.05 0.05 0.09 0.17 0.28 0.40 0.57 1.00 1.00 1.00 1.00 1.00 1.00 1.00 1.00 1.00 1.00 1.00 \n",
            "1.00 1.00 1.00 1.00 1.00 1.00 1.00 1.00 1.00 1.00 1.00 0.90 0.82 0.72 0.59 0.45 0.32 0.22 0.16 0.13 0.13 0.14 0.17 0.19 0.20 0.20 0.20 0.18 0.18 0.17 0.17 0.17 0.16 0.16 0.16 0.15 0.13 0.10 0.07 0.06 0.08 0.15 0.25 0.35 0.53 1.00 1.00 1.00 1.00 1.00 1.00 1.00 1.00 1.00 1.00 1.00 \n",
            "1.00 1.00 1.00 1.00 1.00 1.00 1.00 1.00 1.00 1.00 1.00 0.94 0.89 0.81 0.70 0.58 0.45 0.34 0.26 0.20 0.17 0.16 0.16 0.16 0.16 0.16 0.15 0.15 0.16 0.17 0.18 0.20 0.22 0.24 0.25 0.25 0.22 0.17 0.12 0.08 0.09 0.13 0.23 0.33 0.51 1.00 1.00 1.00 1.00 1.00 1.00 1.00 1.00 1.00 1.00 1.00 \n",
            "1.00 1.00 1.00 1.00 1.00 1.00 1.00 1.00 1.00 1.00 1.00 0.96 0.93 0.88 0.81 0.71 0.60 0.49 0.40 0.33 0.28 0.25 0.22 0.21 0.20 0.20 0.20 0.21 0.23 0.25 0.28 0.31 0.35 0.38 0.40 0.39 0.35 0.27 0.18 0.12 0.10 0.13 0.22 0.32 0.51 1.00 1.00 1.00 1.00 1.00 1.00 1.00 1.00 1.00 1.00 1.00 \n",
            "1.00 1.00 1.00 1.00 1.00 1.00 1.00 1.00 1.00 1.00 1.00 0.98 0.96 0.94 0.89 0.82 0.74 0.65 0.57 0.50 0.44 0.40 0.36 0.34 0.33 0.32 0.33 0.35 0.37 0.40 0.44 0.48 0.52 0.55 0.56 0.55 0.47 0.36 0.24 0.15 0.11 0.14 0.22 0.32 0.51 1.00 1.00 1.00 1.00 1.00 1.00 1.00 1.00 1.00 1.00 1.00 \n",
            "1.00 1.00 1.00 1.00 1.00 1.00 1.00 1.00 1.00 1.00 1.00 0.99 0.98 0.97 0.94 0.90 0.85 0.79 0.73 0.67 0.62 0.57 0.54 0.51 0.50 0.49 0.51 0.52 0.55 0.58 0.62 0.66 0.69 0.72 0.71 0.67 0.58 0.44 0.29 0.18 0.13 0.15 0.24 0.34 0.52 1.00 1.00 1.00 1.00 1.00 1.00 1.00 1.00 1.00 1.00 1.00 \n",
            "1.00 1.00 1.00 1.00 1.00 1.00 1.00 1.00 1.00 1.00 1.00 1.00 0.99 0.98 0.97 0.95 0.93 0.89 0.85 0.82 0.78 0.74 0.71 0.69 0.67 0.67 0.68 0.70 0.72 0.75 0.78 0.81 0.83 0.84 0.82 0.75 0.64 0.48 0.31 0.19 0.14 0.17 0.26 0.36 0.54 1.00 1.00 1.00 1.00 1.00 1.00 1.00 1.00 1.00 1.00 1.00 \n",
            "1.00 1.00 1.00 1.00 1.00 1.00 1.00 1.00 1.00 1.00 1.00 1.00 1.00 0.99 0.99 0.98 0.97 0.95 0.93 0.91 0.89 0.87 0.85 0.83 0.82 0.82 0.83 0.84 0.85 0.87 0.89 0.91 0.91 0.91 0.87 0.78 0.65 0.48 0.31 0.20 0.16 0.20 0.30 0.41 0.58 1.00 1.00 1.00 1.00 1.00 1.00 1.00 1.00 1.00 1.00 1.00 \n",
            "1.00 1.00 1.00 1.00 1.00 1.00 1.00 1.00 1.00 1.00 1.00 1.00 1.00 1.00 1.00 0.99 0.99 0.98 0.97 0.96 0.95 0.94 0.93 0.92 0.92 0.92 0.92 0.93 0.94 0.95 0.95 0.96 0.95 0.93 0.87 0.78 0.63 0.45 0.30 0.20 0.17 0.23 0.35 0.47 0.64 1.00 1.00 1.00 1.00 1.00 1.00 1.00 1.00 1.00 1.00 1.00 \n",
            "1.00 1.00 1.00 1.00 1.00 1.00 1.00 1.00 1.00 1.00 1.00 1.00 1.00 1.00 1.00 1.00 1.00 0.99 0.99 0.99 0.98 0.98 0.97 0.97 0.97 0.97 0.97 0.97 0.98 0.98 0.98 0.98 0.96 0.92 0.85 0.73 0.58 0.41 0.27 0.19 0.20 0.28 0.42 0.55 0.69 1.00 1.00 1.00 1.00 1.00 1.00 1.00 1.00 1.00 1.00 1.00 \n",
            "1.00 1.00 1.00 1.00 1.00 1.00 1.00 1.00 1.00 1.00 1.00 1.00 1.00 1.00 1.00 1.00 1.00 1.00 1.00 1.00 0.99 0.99 0.99 0.99 0.99 0.99 0.99 0.99 0.99 0.99 0.99 0.98 0.95 0.89 0.80 0.66 0.50 0.35 0.24 0.19 0.24 0.35 0.49 0.63 0.76 1.00 1.00 1.00 1.00 1.00 1.00 1.00 1.00 1.00 1.00 1.00 \n",
            "1.00 1.00 1.00 1.00 1.00 1.00 1.00 1.00 1.00 1.00 1.00 1.00 1.00 1.00 1.00 1.00 1.00 1.00 1.00 1.00 1.00 1.00 1.00 1.00 1.00 1.00 1.00 1.00 1.00 0.99 0.99 0.97 0.93 0.85 0.73 0.58 0.42 0.28 0.20 0.20 0.28 0.42 0.57 0.71 0.82 1.00 1.00 1.00 1.00 1.00 1.00 1.00 1.00 1.00 1.00 1.00 \n",
            "1.00 1.00 1.00 1.00 1.00 1.00 1.00 1.00 1.00 1.00 1.00 1.00 1.00 1.00 1.00 1.00 1.00 1.00 1.00 1.00 1.00 1.00 1.00 1.00 1.00 1.00 1.00 1.00 1.00 0.99 0.98 0.96 0.90 0.80 0.66 0.49 0.34 0.23 0.18 0.22 0.33 0.49 0.65 0.78 0.87 1.00 1.00 1.00 1.00 1.00 1.00 1.00 1.00 1.00 1.00 1.00 \n",
            "1.00 1.00 1.00 1.00 1.00 1.00 1.00 1.00 1.00 1.00 1.00 1.00 1.00 1.00 1.00 1.00 1.00 1.00 1.00 1.00 1.00 1.00 1.00 1.00 1.00 1.00 1.00 1.00 1.00 0.99 0.98 0.94 0.86 0.75 0.59 0.42 0.27 0.18 0.17 0.25 0.38 0.55 0.71 0.83 0.91 1.00 1.00 1.00 1.00 1.00 1.00 1.00 1.00 1.00 1.00 1.00 \n",
            "1.00 1.00 1.00 1.00 1.00 1.00 1.00 1.00 1.00 1.00 1.00 1.00 1.00 1.00 1.00 1.00 1.00 1.00 1.00 1.00 1.00 1.00 1.00 1.00 1.00 1.00 1.00 1.00 1.00 0.98 0.96 0.91 0.82 0.69 0.52 0.35 0.22 0.16 0.17 0.27 0.42 0.60 0.76 0.87 0.94 1.00 1.00 1.00 1.00 1.00 1.00 1.00 1.00 1.00 1.00 1.00 \n",
            "1.00 1.00 1.00 1.00 1.00 1.00 1.00 1.00 1.00 1.00 1.00 1.00 1.00 1.00 1.00 1.00 1.00 1.00 1.00 1.00 1.00 1.00 1.00 1.00 1.00 1.00 1.00 1.00 0.99 0.98 0.95 0.88 0.77 0.63 0.45 0.30 0.18 0.14 0.18 0.29 0.45 0.64 0.79 0.89 0.95 1.00 1.00 1.00 1.00 1.00 1.00 1.00 1.00 1.00 1.00 1.00 \n",
            "1.00 1.00 1.00 1.00 1.00 1.00 1.00 1.00 1.00 1.00 1.00 1.00 1.00 1.00 1.00 1.00 1.00 1.00 1.00 1.00 1.00 1.00 1.00 1.00 1.00 1.00 1.00 0.99 0.98 0.96 0.91 0.83 0.71 0.55 0.38 0.24 0.16 0.14 0.20 0.32 0.49 0.67 0.82 0.91 0.96 1.00 1.00 1.00 1.00 1.00 1.00 1.00 1.00 1.00 1.00 1.00 \n",
            "1.00 1.00 1.00 1.00 1.00 1.00 1.00 1.00 1.00 1.00 1.00 1.00 1.00 1.00 1.00 1.00 1.00 1.00 1.00 1.00 1.00 1.00 1.00 1.00 1.00 1.00 1.00 0.99 0.97 0.94 0.87 0.77 0.62 0.46 0.31 0.20 0.14 0.15 0.23 0.37 0.54 0.71 0.84 0.93 0.97 1.00 1.00 1.00 1.00 1.00 1.00 1.00 1.00 1.00 1.00 1.00 \n",
            "1.00 1.00 1.00 1.00 1.00 1.00 1.00 1.00 1.00 1.00 1.00 1.00 1.00 1.00 1.00 1.00 1.00 1.00 1.00 1.00 1.00 1.00 1.00 1.00 1.00 1.00 0.99 0.98 0.96 0.91 0.82 0.69 0.53 0.38 0.24 0.16 0.15 0.19 0.30 0.44 0.61 0.76 0.87 0.94 0.98 1.00 1.00 1.00 1.00 1.00 1.00 1.00 1.00 1.00 1.00 1.00 \n",
            "1.00 1.00 1.00 1.00 1.00 1.00 1.00 1.00 1.00 1.00 1.00 1.00 1.00 1.00 1.00 1.00 1.00 1.00 1.00 1.00 1.00 1.00 1.00 1.00 1.00 1.00 0.99 0.97 0.93 0.86 0.75 0.60 0.44 0.29 0.19 0.15 0.16 0.25 0.38 0.54 0.69 0.82 0.91 0.96 0.98 1.00 1.00 1.00 1.00 1.00 1.00 1.00 1.00 1.00 1.00 1.00 \n",
            "1.00 1.00 1.00 1.00 1.00 1.00 1.00 1.00 1.00 1.00 1.00 1.00 1.00 1.00 1.00 1.00 1.00 1.00 1.00 1.00 1.00 1.00 1.00 1.00 1.00 0.99 0.98 0.95 0.89 0.80 0.67 0.51 0.35 0.22 0.15 0.15 0.21 0.33 0.48 0.64 0.77 0.87 0.94 0.97 0.99 1.00 1.00 1.00 1.00 1.00 1.00 1.00 1.00 1.00 1.00 1.00 \n",
            "1.00 1.00 1.00 1.00 1.00 1.00 1.00 1.00 1.00 1.00 1.00 1.00 1.00 1.00 1.00 1.00 1.00 1.00 1.00 1.00 1.00 1.00 1.00 1.00 1.00 0.98 0.96 0.92 0.84 0.72 0.57 0.42 0.27 0.17 0.13 0.16 0.26 0.40 0.57 0.72 0.84 0.92 0.96 0.98 0.99 1.00 1.00 1.00 1.00 1.00 1.00 1.00 1.00 1.00 1.00 1.00 \n",
            "1.00 1.00 1.00 1.00 1.00 1.00 1.00 1.00 1.00 1.00 1.00 1.00 1.00 1.00 1.00 1.00 1.00 1.00 1.00 1.00 1.00 1.00 1.00 1.00 0.99 0.98 0.94 0.88 0.77 0.64 0.47 0.32 0.20 0.14 0.13 0.20 0.32 0.48 0.65 0.79 0.89 0.95 0.98 0.99 1.00 1.00 1.00 1.00 1.00 1.00 1.00 1.00 1.00 1.00 1.00 1.00 \n",
            "1.00 1.00 1.00 1.00 1.00 1.00 1.00 1.00 1.00 1.00 1.00 1.00 1.00 1.00 1.00 1.00 1.00 1.00 1.00 1.00 1.00 1.00 1.00 1.00 0.98 0.96 0.91 0.83 0.70 0.55 0.38 0.24 0.15 0.12 0.16 0.25 0.39 0.56 0.72 0.85 0.93 0.97 0.99 1.00 1.00 1.00 1.00 1.00 1.00 1.00 1.00 1.00 1.00 1.00 1.00 1.00 \n",
            "1.00 1.00 1.00 1.00 1.00 1.00 1.00 1.00 1.00 1.00 1.00 1.00 1.00 1.00 1.00 1.00 1.00 1.00 1.00 1.00 1.00 1.00 1.00 0.99 0.98 0.95 0.88 0.77 0.62 0.45 0.30 0.18 0.13 0.13 0.20 0.32 0.47 0.64 0.78 0.89 0.95 0.98 0.99 1.00 1.00 1.00 1.00 1.00 1.00 1.00 1.00 1.00 1.00 1.00 1.00 1.00 \n",
            "1.00 1.00 1.00 1.00 1.00 1.00 1.00 1.00 1.00 1.00 1.00 1.00 1.00 1.00 1.00 1.00 1.00 1.00 1.00 1.00 1.00 1.00 0.99 0.98 0.96 0.92 0.84 0.71 0.55 0.38 0.24 0.15 0.13 0.16 0.26 0.40 0.56 0.72 0.84 0.92 0.97 0.99 1.00 1.00 1.00 1.00 1.00 1.00 1.00 1.00 1.00 1.00 1.00 1.00 1.00 1.00 \n",
            "1.00 1.00 1.00 1.00 1.00 1.00 1.00 1.00 1.00 1.00 1.00 1.00 1.00 1.00 1.00 1.00 1.00 1.00 1.00 1.00 1.00 1.00 0.99 0.97 0.94 0.88 0.78 0.63 0.47 0.31 0.19 0.13 0.14 0.22 0.35 0.50 0.66 0.79 0.89 0.95 0.98 0.99 1.00 1.00 1.00 1.00 1.00 1.00 1.00 1.00 1.00 1.00 1.00 1.00 1.00 1.00 \n",
            "1.00 1.00 1.00 1.00 1.00 1.00 1.00 1.00 1.00 1.00 1.00 1.00 1.00 1.00 1.00 1.00 1.00 1.00 1.00 1.00 1.00 0.99 0.98 0.96 0.91 0.82 0.70 0.55 0.38 0.25 0.16 0.13 0.18 0.28 0.44 0.60 0.75 0.85 0.93 0.97 0.99 1.00 1.00 1.00 1.00 1.00 1.00 1.00 1.00 1.00 1.00 1.00 1.00 1.00 1.00 1.00 \n",
            "1.00 1.00 1.00 1.00 1.00 1.00 1.00 1.00 1.00 1.00 1.00 1.00 1.00 1.00 1.00 1.00 1.00 1.00 1.00 1.00 1.00 0.99 0.97 0.93 0.85 0.75 0.60 0.45 0.30 0.19 0.13 0.15 0.22 0.36 0.52 0.68 0.82 0.91 0.96 0.98 0.99 1.00 1.00 1.00 1.00 1.00 1.00 1.00 1.00 1.00 1.00 1.00 1.00 1.00 1.00 1.00 \n",
            "1.00 1.00 1.00 1.00 1.00 1.00 1.00 1.00 1.00 1.00 1.00 1.00 1.00 1.00 1.00 1.00 1.00 1.00 1.00 1.00 0.99 0.98 0.95 0.89 0.79 0.66 0.50 0.35 0.22 0.15 0.13 0.17 0.27 0.43 0.60 0.75 0.87 0.94 0.97 0.99 1.00 1.00 1.00 1.00 1.00 1.00 1.00 1.00 1.00 1.00 1.00 1.00 1.00 1.00 1.00 1.00 \n",
            "1.00 1.00 1.00 1.00 1.00 1.00 1.00 1.00 1.00 1.00 1.00 1.00 1.00 1.00 1.00 1.00 1.00 1.00 1.00 0.99 0.98 0.96 0.92 0.84 0.72 0.56 0.40 0.26 0.16 0.12 0.14 0.21 0.34 0.51 0.67 0.81 0.91 0.96 0.98 0.99 1.00 1.00 1.00 1.00 1.00 1.00 1.00 1.00 1.00 1.00 1.00 1.00 1.00 1.00 1.00 1.00 \n",
            "1.00 1.00 1.00 1.00 1.00 1.00 1.00 1.00 1.00 1.00 1.00 1.00 1.00 1.00 1.00 1.00 1.00 1.00 1.00 0.99 0.97 0.94 0.88 0.78 0.64 0.48 0.32 0.20 0.14 0.13 0.18 0.28 0.42 0.59 0.74 0.86 0.93 0.97 0.99 1.00 1.00 1.00 1.00 1.00 1.00 1.00 1.00 1.00 1.00 1.00 1.00 1.00 1.00 1.00 1.00 1.00 \n",
            "1.00 1.00 1.00 1.00 1.00 1.00 1.00 1.00 1.00 1.00 1.00 1.00 1.00 1.00 1.00 1.00 1.00 1.00 0.99 0.98 0.95 0.90 0.82 0.69 0.55 0.39 0.26 0.17 0.14 0.16 0.25 0.37 0.52 0.67 0.81 0.90 0.96 0.98 0.99 1.00 1.00 1.00 1.00 1.00 1.00 1.00 1.00 1.00 1.00 1.00 1.00 1.00 1.00 1.00 1.00 1.00 \n",
            "1.00 1.00 1.00 1.00 1.00 1.00 1.00 1.00 1.00 1.00 1.00 1.00 1.00 1.00 1.00 1.00 1.00 0.99 0.98 0.96 0.91 0.84 0.73 0.60 0.45 0.31 0.21 0.16 0.17 0.24 0.35 0.48 0.63 0.76 0.87 0.93 0.97 0.99 1.00 1.00 1.00 1.00 1.00 1.00 1.00 1.00 1.00 1.00 1.00 1.00 1.00 1.00 1.00 1.00 1.00 1.00 \n",
            "1.00 1.00 1.00 1.00 1.00 1.00 1.00 1.00 1.00 1.00 1.00 1.00 1.00 1.00 1.00 1.00 1.00 0.99 0.97 0.93 0.87 0.76 0.63 0.49 0.36 0.25 0.20 0.20 0.25 0.34 0.47 0.60 0.73 0.84 0.91 0.96 0.98 0.99 1.00 1.00 1.00 1.00 1.00 1.00 1.00 1.00 1.00 1.00 1.00 1.00 1.00 1.00 1.00 1.00 1.00 1.00 \n",
            "1.00 1.00 1.00 1.00 1.00 1.00 1.00 1.00 1.00 1.00 1.00 1.00 1.00 1.00 1.00 1.00 1.00 0.98 0.96 0.91 0.82 0.69 0.54 0.40 0.29 0.23 0.22 0.27 0.35 0.47 0.60 0.72 0.82 0.90 0.95 0.98 0.99 1.00 1.00 1.00 1.00 1.00 1.00 1.00 1.00 1.00 1.00 1.00 1.00 1.00 1.00 1.00 1.00 1.00 1.00 1.00 \n",
            "1.00 1.00 1.00 1.00 1.00 1.00 1.00 1.00 1.00 1.00 1.00 1.00 1.00 1.00 1.00 1.00 0.99 0.98 0.95 0.88 0.78 0.64 0.49 0.36 0.29 0.27 0.30 0.38 0.48 0.60 0.72 0.82 0.89 0.95 0.97 0.99 1.00 1.00 1.00 1.00 1.00 1.00 1.00 1.00 1.00 1.00 1.00 1.00 1.00 1.00 1.00 1.00 1.00 1.00 1.00 1.00 \n",
            "1.00 1.00 1.00 1.00 1.00 1.00 1.00 1.00 1.00 1.00 1.00 1.00 1.00 1.00 1.00 1.00 0.99 0.98 0.95 0.87 0.77 0.63 0.49 0.39 0.35 0.36 0.42 0.52 0.62 0.73 0.82 0.89 0.95 0.97 0.99 0.99 1.00 1.00 1.00 1.00 1.00 1.00 1.00 1.00 1.00 1.00 1.00 1.00 1.00 1.00 1.00 1.00 1.00 1.00 1.00 1.00 \n",
            "1.00 1.00 1.00 1.00 1.00 1.00 1.00 1.00 1.00 1.00 1.00 1.00 1.00 1.00 1.00 1.00 0.99 0.98 0.95 0.89 0.78 0.66 0.55 0.47 0.46 0.50 0.57 0.66 0.75 0.84 0.90 0.95 0.97 0.99 0.99 1.00 1.00 1.00 1.00 1.00 1.00 1.00 1.00 1.00 1.00 1.00 1.00 1.00 1.00 1.00 1.00 1.00 1.00 1.00 1.00 1.00 \n",
            "1.00 1.00 1.00 1.00 1.00 1.00 1.00 1.00 1.00 1.00 1.00 1.00 1.00 1.00 1.00 1.00 0.99 0.98 0.96 0.91 0.82 0.72 0.62 0.57 0.58 0.63 0.71 0.78 0.85 0.91 0.95 0.97 0.99 0.99 1.00 1.00 1.00 1.00 1.00 1.00 1.00 1.00 1.00 1.00 1.00 1.00 1.00 1.00 1.00 1.00 1.00 1.00 1.00 1.00 1.00 1.00 \n",
            "1.00 1.00 1.00 1.00 1.00 1.00 1.00 1.00 1.00 1.00 1.00 1.00 1.00 1.00 1.00 1.00 1.00 0.98 0.96 0.92 0.85 0.76 0.68 0.65 0.66 0.71 0.78 0.85 0.90 0.94 0.97 0.98 0.99 1.00 1.00 1.00 1.00 1.00 1.00 1.00 1.00 1.00 1.00 1.00 1.00 1.00 1.00 1.00 1.00 1.00 1.00 1.00 1.00 1.00 1.00 1.00 \n"
          ],
          "name": "stdout"
        }
      ]
    },
    {
      "cell_type": "markdown",
      "metadata": {
        "id": "Rp2J-5vsqlgS",
        "colab_type": "text"
      },
      "source": [
        "## Linearni kernel"
      ]
    },
    {
      "cell_type": "code",
      "metadata": {
        "id": "qgTD2PJSvG7A",
        "colab_type": "code",
        "outputId": "b6366e40-4083-454c-b556-1bcea9f38603",
        "colab": {
          "base_uri": "https://localhost:8080/",
          "height": 51
        }
      },
      "source": [
        "%%time\n",
        "# linear SVC\n",
        "model_linear = SVC(kernel='linear')\n",
        "model_linear.fit(x_train_full[:24_000], y_train_full[:24_000])"
      ],
      "execution_count": 0,
      "outputs": [
        {
          "output_type": "stream",
          "text": [
            "CPU times: user 5min 42s, sys: 65.9 ms, total: 5min 42s\n",
            "Wall time: 5min 42s\n"
          ],
          "name": "stdout"
        }
      ]
    },
    {
      "cell_type": "code",
      "metadata": {
        "id": "JWGIL3anvG2H",
        "colab_type": "code",
        "outputId": "757cc4de-77b7-4d2f-91c1-a96169d42223",
        "colab": {
          "base_uri": "https://localhost:8080/",
          "height": 34
        }
      },
      "source": [
        "# y_pred_choose = model_linear.predict(x_test_full)\n",
        "y_predicted = []\n",
        "for i in tqdm(range(len(x_test_full))):\n",
        "  y_predicted.append(model_linear.predict([x_test_full[i]])[0])"
      ],
      "execution_count": 0,
      "outputs": [
        {
          "output_type": "stream",
          "text": [
            "100%|██████████| 20000/20000 [06:22<00:00, 52.25it/s]\n"
          ],
          "name": "stderr"
        }
      ]
    },
    {
      "cell_type": "code",
      "metadata": {
        "id": "Wh6g8gMvvGvD",
        "colab_type": "code",
        "outputId": "8d4922e2-1e24-46c9-ecea-69253d5fe17c",
        "colab": {
          "base_uri": "https://localhost:8080/",
          "height": 221
        }
      },
      "source": [
        "print(\"accuracy:\", metrics.accuracy_score(y_true=y_test_full, y_pred=y_predicted), \"\\n\")\n",
        "print(metrics.confusion_matrix(y_true=y_test_full, y_pred=y_predicted))"
      ],
      "execution_count": 0,
      "outputs": [
        {
          "output_type": "stream",
          "text": [
            "accuracy: 0.94025 \n",
            "\n",
            "[[1924    3    8    6   10   32    8    4    4    1]\n",
            " [   1 1971    3    1    1    7    0    2   14    0]\n",
            " [  18   13 1868   22   29   14    9    4   22    1]\n",
            " [   6    5   34 1883    5   32    1   13   12    9]\n",
            " [  11   20   11    1 1885    4   13    9    8   38]\n",
            " [  18    6   16   82   14 1825    9    4   22    4]\n",
            " [  25   12   14    2   17   14 1913    0    3    0]\n",
            " [   2   10    4   13    9    5    0 1912    6   39]\n",
            " [  22   26   32   48   19   68    2    5 1772    6]\n",
            " [   9    5    3   10   31   10    0   59   21 1852]]\n"
          ],
          "name": "stdout"
        }
      ]
    },
    {
      "cell_type": "code",
      "metadata": {
        "id": "g46U7YwL7_I-",
        "colab_type": "code",
        "outputId": "cecd61ca-fe4f-4f2c-e32c-b61a0d91cb4c",
        "colab": {
          "base_uri": "https://localhost:8080/",
          "height": 306
        }
      },
      "source": [
        "report = classification_report(y_test_full, y_predicted)\n",
        "print(report)"
      ],
      "execution_count": 0,
      "outputs": [
        {
          "output_type": "stream",
          "text": [
            "              precision    recall  f1-score   support\n",
            "\n",
            "           0       0.94      0.96      0.95      2000\n",
            "           1       0.95      0.99      0.97      2000\n",
            "           2       0.94      0.93      0.94      2000\n",
            "           3       0.91      0.94      0.93      2000\n",
            "           4       0.93      0.94      0.94      2000\n",
            "           5       0.91      0.91      0.91      2000\n",
            "           6       0.98      0.96      0.97      2000\n",
            "           7       0.95      0.96      0.95      2000\n",
            "           8       0.94      0.89      0.91      2000\n",
            "           9       0.95      0.93      0.94      2000\n",
            "\n",
            "    accuracy                           0.94     20000\n",
            "   macro avg       0.94      0.94      0.94     20000\n",
            "weighted avg       0.94      0.94      0.94     20000\n",
            "\n"
          ],
          "name": "stdout"
        }
      ]
    },
    {
      "cell_type": "code",
      "metadata": {
        "id": "V-MGjNTa8fGq",
        "colab_type": "code",
        "outputId": "9aea45c2-125d-4a8f-c2ce-0875a24614e7",
        "colab": {
          "base_uri": "https://localhost:8080/",
          "height": 513
        }
      },
      "source": [
        "fig, ax = plt.subplots(figsize=(8,8))\n",
        "sns.heatmap(metrics.confusion_matrix(y_true=y_test_full, y_pred=y_predicted), annot=False, ax = ax)\n",
        "\n",
        "# By definition a confusion matrix C is such that Cij is equal to the number of observations known to be in group i but predicted to be in group j.\n",
        "ax.set_xlabel('Predicted labels')\n",
        "ax.set_ylabel('True labels')\n",
        "ax.set_title('Confusion Matrix');\n",
        "ax.xaxis.set_ticklabels(labels)\n",
        "ax.yaxis.set_ticklabels(labels)\n",
        "\n",
        "fig.savefig('KNN_confusion_matrix.png')\n",
        "plt.show()"
      ],
      "execution_count": 0,
      "outputs": [
        {
          "output_type": "display_data",
          "data": {
            "image/png": "iVBORw0KGgoAAAANSUhEUgAAAd4AAAHwCAYAAAAIOA6FAAAABHNCSVQICAgIfAhkiAAAAAlwSFlz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\n8UqSNEX/H6mhgDS1F/X7AAAAAElFTkSuQmCC\n",
            "text/plain": [
              "<Figure size 576x576 with 2 Axes>"
            ]
          },
          "metadata": {
            "tags": []
          }
        }
      ]
    },
    {
      "cell_type": "markdown",
      "metadata": {
        "id": "yLGOuiZPs_SW",
        "colab_type": "text"
      },
      "source": [
        "## Nelinearni kernel"
      ]
    },
    {
      "cell_type": "code",
      "metadata": {
        "id": "nnHwn8lZA6WZ",
        "colab_type": "code",
        "outputId": "c4afedeb-d876-4e0c-802b-ed8558dc7a44",
        "colab": {
          "base_uri": "https://localhost:8080/",
          "height": 1581
        }
      },
      "source": [
        "%%time\n",
        "\n",
        "CS = [0.05, 0.1, 1, 5, 10, 100]\n",
        "gammas = [0.01, 0.1, 0.25, 0.5, 1.0]\n",
        "kernels = ['poly', 'rbf', 'sigmoid']\n",
        "\n",
        "bestC = -1\n",
        "bestGamma = -1\n",
        "bestKernel = '-1'\n",
        "bestScore = -1\n",
        "for C in CS:\n",
        "  for gamma in gammas:\n",
        "    for kernel in kernels:\n",
        "      model = SVC(C=C, gamma=gamma, kernel=kernel) \n",
        "      model.fit(x_train_choose, y_train_choose)\n",
        "      \n",
        "      score = metrics.accuracy_score(y_true=y_test_choose, y_pred=model.predict(x_test_choose))\n",
        "      if score > bestScore:\n",
        "        bestC = C\n",
        "        bestGamma = gamma\n",
        "        bestKernel = kernel\n",
        "        bestScore = score\n",
        "      print('C: ', C, ' gamma: ', gamma, ', kernel: ', kernel, ' = ', score)"
      ],
      "execution_count": 0,
      "outputs": [
        {
          "output_type": "stream",
          "text": [
            "C:  0.05  gamma:  0.01 , kernel:  poly  =  0.926\n",
            "C:  0.05  gamma:  0.01 , kernel:  rbf  =  0.226\n",
            "C:  0.05  gamma:  0.01 , kernel:  sigmoid  =  0.1\n",
            "C:  0.05  gamma:  0.1 , kernel:  poly  =  0.926\n",
            "C:  0.05  gamma:  0.1 , kernel:  rbf  =  0.1\n",
            "C:  0.05  gamma:  0.1 , kernel:  sigmoid  =  0.1\n",
            "C:  0.05  gamma:  0.25 , kernel:  poly  =  0.926\n",
            "C:  0.05  gamma:  0.25 , kernel:  rbf  =  0.1\n",
            "C:  0.05  gamma:  0.25 , kernel:  sigmoid  =  0.1\n",
            "C:  0.05  gamma:  0.5 , kernel:  poly  =  0.926\n",
            "C:  0.05  gamma:  0.5 , kernel:  rbf  =  0.1\n",
            "C:  0.05  gamma:  0.5 , kernel:  sigmoid  =  0.1\n",
            "C:  0.05  gamma:  1.0 , kernel:  poly  =  0.926\n",
            "C:  0.05  gamma:  1.0 , kernel:  rbf  =  0.1\n",
            "C:  0.05  gamma:  1.0 , kernel:  sigmoid  =  0.1\n",
            "C:  0.1  gamma:  0.01 , kernel:  poly  =  0.926\n",
            "C:  0.1  gamma:  0.01 , kernel:  rbf  =  0.54\n",
            "C:  0.1  gamma:  0.01 , kernel:  sigmoid  =  0.1\n",
            "C:  0.1  gamma:  0.1 , kernel:  poly  =  0.926\n",
            "C:  0.1  gamma:  0.1 , kernel:  rbf  =  0.1\n",
            "C:  0.1  gamma:  0.1 , kernel:  sigmoid  =  0.1\n",
            "C:  0.1  gamma:  0.25 , kernel:  poly  =  0.926\n",
            "C:  0.1  gamma:  0.25 , kernel:  rbf  =  0.1\n",
            "C:  0.1  gamma:  0.25 , kernel:  sigmoid  =  0.1\n",
            "C:  0.1  gamma:  0.5 , kernel:  poly  =  0.926\n",
            "C:  0.1  gamma:  0.5 , kernel:  rbf  =  0.1\n",
            "C:  0.1  gamma:  0.5 , kernel:  sigmoid  =  0.1\n",
            "C:  0.1  gamma:  1.0 , kernel:  poly  =  0.926\n",
            "C:  0.1  gamma:  1.0 , kernel:  rbf  =  0.1\n",
            "C:  0.1  gamma:  1.0 , kernel:  sigmoid  =  0.1\n",
            "C:  1  gamma:  0.01 , kernel:  poly  =  0.926\n",
            "C:  1  gamma:  0.01 , kernel:  rbf  =  0.936\n",
            "C:  1  gamma:  0.01 , kernel:  sigmoid  =  0.1\n",
            "C:  1  gamma:  0.1 , kernel:  poly  =  0.926\n",
            "C:  1  gamma:  0.1 , kernel:  rbf  =  0.192\n",
            "C:  1  gamma:  0.1 , kernel:  sigmoid  =  0.1\n",
            "C:  1  gamma:  0.25 , kernel:  poly  =  0.926\n",
            "C:  1  gamma:  0.25 , kernel:  rbf  =  0.17\n",
            "C:  1  gamma:  0.25 , kernel:  sigmoid  =  0.1\n",
            "C:  1  gamma:  0.5 , kernel:  poly  =  0.926\n",
            "C:  1  gamma:  0.5 , kernel:  rbf  =  0.1\n",
            "C:  1  gamma:  0.5 , kernel:  sigmoid  =  0.1\n",
            "C:  1  gamma:  1.0 , kernel:  poly  =  0.926\n",
            "C:  1  gamma:  1.0 , kernel:  rbf  =  0.1\n",
            "C:  1  gamma:  1.0 , kernel:  sigmoid  =  0.1\n",
            "C:  5  gamma:  0.01 , kernel:  poly  =  0.926\n",
            "C:  5  gamma:  0.01 , kernel:  rbf  =  0.94\n",
            "C:  5  gamma:  0.01 , kernel:  sigmoid  =  0.1\n",
            "C:  5  gamma:  0.1 , kernel:  poly  =  0.926\n",
            "C:  5  gamma:  0.1 , kernel:  rbf  =  0.201\n",
            "C:  5  gamma:  0.1 , kernel:  sigmoid  =  0.1\n",
            "C:  5  gamma:  0.25 , kernel:  poly  =  0.926\n",
            "C:  5  gamma:  0.25 , kernel:  rbf  =  0.172\n",
            "C:  5  gamma:  0.25 , kernel:  sigmoid  =  0.1\n",
            "C:  5  gamma:  0.5 , kernel:  poly  =  0.926\n",
            "C:  5  gamma:  0.5 , kernel:  rbf  =  0.1\n",
            "C:  5  gamma:  0.5 , kernel:  sigmoid  =  0.1\n",
            "C:  5  gamma:  1.0 , kernel:  poly  =  0.926\n",
            "C:  5  gamma:  1.0 , kernel:  rbf  =  0.1\n",
            "C:  5  gamma:  1.0 , kernel:  sigmoid  =  0.1\n",
            "C:  10  gamma:  0.01 , kernel:  poly  =  0.926\n",
            "C:  10  gamma:  0.01 , kernel:  rbf  =  0.94\n",
            "C:  10  gamma:  0.01 , kernel:  sigmoid  =  0.1\n",
            "C:  10  gamma:  0.1 , kernel:  poly  =  0.926\n",
            "C:  10  gamma:  0.1 , kernel:  rbf  =  0.201\n",
            "C:  10  gamma:  0.1 , kernel:  sigmoid  =  0.1\n",
            "C:  10  gamma:  0.25 , kernel:  poly  =  0.926\n",
            "C:  10  gamma:  0.25 , kernel:  rbf  =  0.172\n",
            "C:  10  gamma:  0.25 , kernel:  sigmoid  =  0.1\n",
            "C:  10  gamma:  0.5 , kernel:  poly  =  0.926\n",
            "C:  10  gamma:  0.5 , kernel:  rbf  =  0.1\n",
            "C:  10  gamma:  0.5 , kernel:  sigmoid  =  0.1\n",
            "C:  10  gamma:  1.0 , kernel:  poly  =  0.926\n",
            "C:  10  gamma:  1.0 , kernel:  rbf  =  0.1\n",
            "C:  10  gamma:  1.0 , kernel:  sigmoid  =  0.1\n",
            "C:  100  gamma:  0.01 , kernel:  poly  =  0.926\n",
            "C:  100  gamma:  0.01 , kernel:  rbf  =  0.94\n",
            "C:  100  gamma:  0.01 , kernel:  sigmoid  =  0.1\n",
            "C:  100  gamma:  0.1 , kernel:  poly  =  0.926\n",
            "C:  100  gamma:  0.1 , kernel:  rbf  =  0.201\n",
            "C:  100  gamma:  0.1 , kernel:  sigmoid  =  0.1\n",
            "C:  100  gamma:  0.25 , kernel:  poly  =  0.926\n",
            "C:  100  gamma:  0.25 , kernel:  rbf  =  0.172\n",
            "C:  100  gamma:  0.25 , kernel:  sigmoid  =  0.1\n",
            "C:  100  gamma:  0.5 , kernel:  poly  =  0.926\n",
            "C:  100  gamma:  0.5 , kernel:  rbf  =  0.1\n",
            "C:  100  gamma:  0.5 , kernel:  sigmoid  =  0.1\n",
            "C:  100  gamma:  1.0 , kernel:  poly  =  0.926\n",
            "C:  100  gamma:  1.0 , kernel:  rbf  =  0.1\n",
            "C:  100  gamma:  1.0 , kernel:  sigmoid  =  0.1\n",
            "CPU times: user 13min 25s, sys: 220 ms, total: 13min 25s\n",
            "Wall time: 13min 25s\n"
          ],
          "name": "stdout"
        }
      ]
    },
    {
      "cell_type": "code",
      "metadata": {
        "id": "E2NpQkR4B5kQ",
        "colab_type": "code",
        "outputId": "18d8bdce-e8ab-4630-bb15-230a8a95e192",
        "colab": {
          "base_uri": "https://localhost:8080/",
          "height": 85
        }
      },
      "source": [
        "print('bestC: ', bestC)\n",
        "print('bestGamma: ', bestGamma)\n",
        "print('bestKernel: ', bestKernel)\n",
        "print('bestScore: ', bestScore)"
      ],
      "execution_count": 0,
      "outputs": [
        {
          "output_type": "stream",
          "text": [
            "bestC:  5\n",
            "bestGamma:  0.01\n",
            "bestKernel:  rbf\n",
            "bestScore:  0.94\n"
          ],
          "name": "stdout"
        }
      ]
    },
    {
      "cell_type": "code",
      "metadata": {
        "id": "ll1951qzB5Z5",
        "colab_type": "code",
        "colab": {
          "base_uri": "https://localhost:8080/",
          "height": 51
        },
        "outputId": "1387c4f0-60f5-49b6-f9fe-230217322d68"
      },
      "source": [
        "%%time\n",
        "model_linear = SVC(kernel=bestKernel, C=bestC, gamma=bestGamma)\n",
        "model_linear.fit(x_train_full[:60_000], y_train_full[:60_000])"
      ],
      "execution_count": 108,
      "outputs": [
        {
          "output_type": "stream",
          "text": [
            "CPU times: user 1h 4min 17s, sys: 700 ms, total: 1h 4min 18s\n",
            "Wall time: 1h 4min 19s\n"
          ],
          "name": "stdout"
        }
      ]
    },
    {
      "cell_type": "code",
      "metadata": {
        "id": "Kz-F9wI-BJUY",
        "colab_type": "code",
        "colab": {
          "base_uri": "https://localhost:8080/",
          "height": 34
        },
        "outputId": "197355d6-7ef0-4756-a63e-cdc792a44e92"
      },
      "source": [
        "# y_pred_choose = model_linear.predict(x_test_full)\n",
        "y_predicted = []\n",
        "for i in tqdm(range(len(x_test_full))):\n",
        "  y_predicted.append(model_linear.predict([x_test_full[i]])[0])"
      ],
      "execution_count": 109,
      "outputs": [
        {
          "output_type": "stream",
          "text": [
            "100%|██████████| 20000/20000 [25:38<00:00, 13.10it/s]\n"
          ],
          "name": "stderr"
        }
      ]
    },
    {
      "cell_type": "code",
      "metadata": {
        "id": "cpOidsb6C_GD",
        "colab_type": "code",
        "colab": {
          "base_uri": "https://localhost:8080/",
          "height": 221
        },
        "outputId": "21ff4422-b37a-400f-9b50-15595f738175"
      },
      "source": [
        "print(\"accuracy:\", metrics.accuracy_score(y_true=y_test_full, y_pred=y_predicted), \"\\n\")\n",
        "print(metrics.confusion_matrix(y_true=y_test_full, y_pred=y_predicted))"
      ],
      "execution_count": 110,
      "outputs": [
        {
          "output_type": "stream",
          "text": [
            "accuracy: 0.98815 \n",
            "\n",
            "[[1985    0    2    1    3    2    3    1    3    0]\n",
            " [   0 1990    4    0    1    2    0    1    2    0]\n",
            " [   3    1 1979    4    3    0    1    1    7    1]\n",
            " [   0    1   15 1970    0    6    1    2    5    0]\n",
            " [   0    0    2    0 1971    2    6    3    1   15]\n",
            " [   1    1    1   11    3 1975    1    0    6    1]\n",
            " [   4    2    2    0    4    5 1981    0    2    0]\n",
            " [   0    9    2    1    3    0    0 1974    3    8]\n",
            " [   4    3    4    4    2    6    1    1 1972    3]\n",
            " [   4    1    0    3    9    0    0   14    3 1966]]\n"
          ],
          "name": "stdout"
        }
      ]
    },
    {
      "cell_type": "code",
      "metadata": {
        "id": "cwv6JmIAC-6t",
        "colab_type": "code",
        "colab": {
          "base_uri": "https://localhost:8080/",
          "height": 306
        },
        "outputId": "3047e1cb-9d02-4b08-9158-6517f1a6cf01"
      },
      "source": [
        "report = classification_report(y_test_full, y_predicted)\n",
        "print(report)"
      ],
      "execution_count": 111,
      "outputs": [
        {
          "output_type": "stream",
          "text": [
            "              precision    recall  f1-score   support\n",
            "\n",
            "           0       0.99      0.99      0.99      2000\n",
            "           1       0.99      0.99      0.99      2000\n",
            "           2       0.98      0.99      0.99      2000\n",
            "           3       0.99      0.98      0.99      2000\n",
            "           4       0.99      0.99      0.99      2000\n",
            "           5       0.99      0.99      0.99      2000\n",
            "           6       0.99      0.99      0.99      2000\n",
            "           7       0.99      0.99      0.99      2000\n",
            "           8       0.98      0.99      0.99      2000\n",
            "           9       0.99      0.98      0.98      2000\n",
            "\n",
            "    accuracy                           0.99     20000\n",
            "   macro avg       0.99      0.99      0.99     20000\n",
            "weighted avg       0.99      0.99      0.99     20000\n",
            "\n"
          ],
          "name": "stdout"
        }
      ]
    },
    {
      "cell_type": "code",
      "metadata": {
        "id": "fLXBPWYvDIGy",
        "colab_type": "code",
        "colab": {
          "base_uri": "https://localhost:8080/",
          "height": 513
        },
        "outputId": "719550c5-c15e-4cc1-97aa-12486b2a8c58"
      },
      "source": [
        "fig, ax = plt.subplots(figsize=(8,8))\n",
        "sns.heatmap(metrics.confusion_matrix(y_true=y_test_full, y_pred=y_predicted), annot=False, ax = ax)\n",
        "\n",
        "# By definition a confusion matrix C is such that Cij is equal to the number of observations known to be in group i but predicted to be in group j.\n",
        "ax.set_xlabel('Predicted labels')\n",
        "ax.set_ylabel('True labels')\n",
        "ax.set_title('Confusion Matrix');\n",
        "ax.xaxis.set_ticklabels(labels)\n",
        "ax.yaxis.set_ticklabels(labels)\n",
        "\n",
        "fig.savefig('KNN_confusion_matrix.png')\n",
        "plt.show()"
      ],
      "execution_count": 112,
      "outputs": [
        {
          "output_type": "display_data",
          "data": {
            "image/png": "iVBORw0KGgoAAAANSUhEUgAAAd4AAAHwCAYAAAAIOA6FAAAABHNCSVQICAgIfAhkiAAAAAlwSFlz\nAAALEgAACxIB0t1+/AAAADl0RVh0U29mdHdhcmUAbWF0cGxvdGxpYiB2ZXJzaW9uIDMuMC4zLCBo\ndHRwOi8vbWF0cGxvdGxpYi5vcmcvnQurowAAIABJREFUeJzt3Xu85XVd7/HXe2YEhoujoZnMYGCK\npZaoSKbpQVCDJPH00MJM0TjO0bwVlWF6MuvY0VN56WinJkHFC4K3IyXHW2ipR+5CMoKImDJAAt65\nJAz7c/5Yv8E129l79mz2b33X3r/Xk8d6sNb3d/l+9mKYz/58f9/f95eqQpIkTcaq1gFIkjQkJl5J\nkibIxCtJ0gSZeCVJmiATryRJE2TilSRpgky8GqQka5P8Q5LvJnnvnTjPM5J8bCljayHJ/01yXOs4\npCEw8WqqJfmNJOcnuTHJtV2C+MUlOPVTgXsB+1bV0xZ7kqp6V1U9cQni2U6Sw5JUkg/Oan9I1/6p\nBZ7nT5K8c2f7VdVRVfX2RYYraReYeDW1kpwAvAH4c0ZJ8j7A3wDHLMHpfxK4vKq2LsG5+nI98AtJ\n9h1rOw64fKk6yIh/D0gT5P9wmkpJ1gF/Crygqj5QVTdV1W1V9Q9V9QfdPrsneUOSa7rXG5Ls3m07\nLMmWJL+X5LquWn5Ot+1VwB8Dv95V0sfPrgyTHNBVlmu6z89OcmWS7yf5apJnjLV/Zuy4RyU5rxvC\nPi/Jo8a2fSrJnyX5bHeejyW5xzxfw63A/wGO7Y5fDfw68K5Z39Ubk1yV5HtJLkjymK79SOCPxn7O\ni8fieHWSzwI3A/ft2v5Lt/1/J3n/2Plfm+SfkmTB/wElzcnEq2n1C8AewAfn2eflwCOBg4GHAIcC\nrxjb/hPAOmA9cDzw5iR3r6pXMqqiT6uqvavqpPkCSbIX8NfAUVW1D/Ao4KId7PdjwIe7ffcFXgd8\neFbF+hvAc4AfB3YDfn++voFTgGd1738JuAS4ZtY+5zH6Dn4MeDfw3iR7VNVHZv2cDxk75pnARmAf\n4Guzzvd7wM92v1Q8htF3d1y5vqy0JEy8mlb7AjfsZCj4GcCfVtV1VXU98CpGCWWb27rtt1XVmcCN\nwAMWGc8M8OAka6vq2qravIN9ngR8uareUVVbq+pU4DLgV8b2eWtVXV5VtwCnM0qYc6qq/wf8WJIH\nMErAp+xgn3dW1Te7Pv8K2J2d/5xvq6rN3TG3zTrfzYy+x9cB7wReVFVbdnI+SQtk4tW0+iZwj21D\nvXPYj+2rta91bXecY1bivhnYe1cDqaqbGA3xPg+4NsmHk/z0AuLZFtP6sc//voh43gG8EHgcOxgB\nSPL7SS7thre/w6jKn28IG+Cq+TZW1TnAlUAY/YIgaYmYeDWtPgf8AHjKPPtcw2iS1Db34UeHYRfq\nJmDPsc8/Mb6xqj5aVU8A7s2oiv37BcSzLaarFxnTNu8Afhs4s6tG79ANBb8U+DXg7lV1N+C7jBIm\nwFzDw/MOGyd5AaPK+Zru/JKWiIlXU6mqvstoAtSbkzwlyZ5J7pLkqCT/s9vtVOAVSe7ZTVL6Y0ZD\no4txEfDYJPfpJna9bNuGJPdKckx3rfcHjIasZ3ZwjjOBg7pboNYk+XXggcA/LjImAKrqq8B/YnRN\ne7Z9gK2MZkCvSfLHwF3Htn8DOGBXZi4nOQj478BvMhpyfmmSeYfEJS2ciVdTq7teeQKjCVPXMxoe\nfSGjmb4wSg7nA/8KfAG4sGtbTF8fB07rznUB2yfLVV0c1wDfYpQEn7+Dc3wTOJrR5KRvMqoUj66q\nGxYT06xzf6aqdlTNfxT4CKNbjL4G/AfbDyNvWxzkm0ku3Fk/3dD+O4HXVtXFVfVlRjOj37Ftxrik\nOydOVJQkaXKseCVJmiATryRJE2TilSRpgky8kiRNkIlXkqQJmm9VoKZuu+HKqZluvXa/x7QOQZKa\n2nrr1b09JKOPv+/vco/7Tu1DPax4JUmaoKmteCVJAzFze+sIJsqKV5KkCbLilSS1VTta+nzlsuKV\nJGmCrHglSW3NDKviNfFKkpoqh5olSVJfrHglSW0NbKjZileSpAmy4pUktTWwa7wmXklSW65cJUmS\n+mLFK0lqa2BDzVa8kiRNkBWvJKmtgd1OZOKVJDXlylWSJKk3vVW8SX4aOAZY3zVdDZxRVZf21ack\naRka2FBzLxVvkj8E3gMEOLd7BTg1yYl99ClJ0nLQV8V7PPCgqrptvDHJ64DNwGt66leStNx4jXdJ\nzAD77aD93t22HUqyMcn5Sc5/yymn9hSaJEnt9FXx/g7wT0m+DFzVtd0HuB/wwrkOqqpNwCaA2264\nsnqKTZI0TQa2ZGQvibeqPpLkIOBQtp9cdV5VDesbliTNb2BDzb3Naq7RjVln93V+SZKWIxfQkCS1\n5e1EkiSpL1a8kqS2vMYrSdIEOdQsSZL6YsUrSWpqaHeZWvFKkjRBVrySpLacXCVJ0gQ5uUqSJPXF\nileS1NbAhpqteCVJmiArXklSWz4WUJKkCXKoWZIk9cWKV5LUlrcTSZKkvkxtxbt2v8e0DuEOt1zz\n6dYhbGeavhtJutO8xitJkvoytRWvJGkgBnaN18QrSWprYInXoWZJkibIileS1FTVsFausuKVJGmC\nrHglSW0N7BqviVeS1Jb38UqSpL5Y8UqS2hrYULMVryRJE2TFK0lqa2DXeE28kqS2HGqWJEl9seKV\nJLU1sKFmK15JkibIileS1JbXeCVJUl+seCVJbQ2s4jXxSpLacnJVv5I8Z9J9SpI0LVpc433VXBuS\nbExyfpLzZ2ZummRMkqRWZmaW/jXFehlqTvKvc20C7jXXcVW1CdgEsGa39dVDaJIkNdXXNd57Ab8E\nfHtWe4D/11OfkqTlaGDXePtKvP8I7F1VF83ekORTPfUpSVqOpnxoeKn1knir6vh5tv1GH31KkrQc\neDuRJKmtgQ01u3KVJEkTZMUrSWrLa7ySJE3QwBKvQ82SJE2QFa8kqa0a1npJVrySJE2QFa8kqS2v\n8UqSpL5Y8UqS2hpYxWvilSS15cpVkiStfElOTnJdkktmtb8oyWVJNif5n2PtL0tyRZIvJfmlsfYj\nu7Yrkpy4s36teCVJbbUban4b8CbglG0NSR4HHAM8pKp+kOTHu/YHAscCDwL2Az6R5KDusDcDTwC2\nAOclOaOqvjhXpyZeSdIgVdW/JDlgVvPzgddU1Q+6fa7r2o8B3tO1fzXJFcCh3bYrqupKgCTv6fad\nM/E61CxJaqtq6V+LdxDwmCTnJPnnJI/o2tcDV43tt6Vrm6t9Tla8kqS2ehhqTrIR2DjWtKmqNi3g\n0DXAjwGPBB4BnJ7kvksZm4l3Adbu95jWIWznli2fah3CdtZuOKx1CJK0nS7JLiTRzrYF+EBVFXBu\nkhngHsDVwP5j+23o2pinfYccapYktTUzs/Svxfs/wOMAuslTuwE3AGcAxybZPcmBwP2Bc4HzgPsn\nOTDJbowmYJ0xXwdWvJKkQUpyKnAYcI8kW4BXAicDJ3e3GN0KHNdVv5uTnM5o0tRW4AVVdXt3nhcC\nHwVWAydX1eb5+jXxSpLaarSARlU9fY5NvznH/q8GXr2D9jOBMxfar4lXktRUzfhYQEmS1BMrXklS\nWwN7SIIVryRJE2TFK0lqy6cTSZKkvljxSpLaGtisZhOvJKktJ1dJkqS+WPFKktqy4pUkSX2x4pUk\ntXXnHly/7Jh4JUltOdQsSZL6YsUrSWprYPfxWvFKkjRBvSXeJD+d5Igke89qP7KvPiVJy1DNLP1r\nivWSeJO8GPgQ8CLgkiTHjG3+8z76lCQtUzO19K8p1tc13ucCD6+qG5McALwvyQFV9UYgPfUpSdLU\n6yvxrqqqGwGq6t+SHMYo+f4k8yTeJBuBjQBZvY5Vq/bqKTxJ0rQobydaEt9IcvC2D10SPhq4B/Cz\ncx1UVZuq6pCqOsSkK0laifqqeJ8FbB1vqKqtwLOS/F1PfUqSlqMpvya71HpJvFW1ZZ5tn+2jT0mS\nlgMX0JAktTXlt/8sNROvJKmtgQ01u3KVJEkTZMUrSWrL24kkSVJfrHglSW0N7BqviVeS1NbAZjU7\n1CxJ0gRZ8UqS2hrYULMVryRJE2TFK0lqamhPJzLxSpLacqhZkiT1xYpXktSWFa8kSeqLFa8kqS0X\n0JAkSX2x4l2G9txwWOsQtnPLVWe1DmE7a/c/vHUIknbFwK7xmnglSU3VwBKvQ82SJE2QFa8kqS0r\nXkmS1BcrXklSW67VLEnSBDnULEmS+mLFK0lqy4pXkiT1xYpXktRU1bAqXhOvJKkth5olSVJfrHgl\nSW1Z8UqSpL5Y8UqSmvLpRJIkqTdWvJKktgZW8Zp4JUltDesZCQ41S5I0Sb1VvEkOBaqqzkvyQOBI\n4LKqOrOvPiVJy8/QJlf1kniTvBI4CliT5OPAzwOfBE5M8tCqenUf/UqSNO36qnifChwM7A78O7Ch\nqr6X5C+Bc4AdJt4kG4GNAFm9jlWr9uopPEnS1LDiXRJbq+p24OYkX6mq7wFU1S1J5ryMXlWbgE0A\na3ZbP6z/EpI0VE6uWhK3Jtmze//wbY1J1jG4r1iSpB/qq+J9bFX9AKCqxhPtXYDjeupTkrQMOblq\nCWxLujtovwG4oY8+JUlaDlxAQ5LU1sAuQJp4JUlNDW2o2ZWrJEmaICteSVJbAxtqtuKVJGmCrHgl\nSU3VwCpeE68kqa2BJV6HmiVJmiArXklSU0MbarbilSRpgqx4JUltWfFKkqS+mHglSU3VzNK/FiLJ\nyUmuS3LJWNtfJLksyb8m+WCSu41te1mSK5J8KckvjbUf2bVdkeTEnfVr4pUkNdUq8QJvA46c1fZx\n4MFV9XPA5cDLAJI8EDgWeFB3zN8kWZ1kNfBm4CjggcDTu33nZOKVJA1SVf0L8K1ZbR+rqq3dx7OB\nDd37Y4D3VNUPquqrwBXAod3riqq6sqpuBd7T7TsnJ1dJkpqa4tuJfgs4rXu/nlEi3mZL1wZw1az2\nn5/vpCbeZWjaHqC1dv/DW4ewnVuuOqt1CHeYtu9Gy0daB7DMJdkIbBxr2lRVm3bh+JcDW4F3LXVs\nJl5JUlu19L9mdEl2wYl2XJJnA0cDR1TVtlrnamD/sd02dG3M075DXuOVJDXVcHLVj0hyJPBS4MlV\ndfPYpjOAY5PsnuRA4P7AucB5wP2THJhkN0YTsM6Yrw8rXknSICU5FTgMuEeSLcArGc1i3h34eBKA\ns6vqeVW1OcnpwBcZDUG/oKpu787zQuCjwGrg5KraPG+/P6yip8ua3dZPZ2Cael7j1Uowbdd4b7v1\n6t5CuvYXH7fkf9/f+zOfnLav8A4ONUuSNEEONUuSmpri24l6YeKVJDVVPcxqnmYONUuSNEFWvJKk\npoY21GzFK0nSBFnxSpKaqhmv8UqSpJ5Y8UqSmprSdZx6Y+KVJDXlULMkSeqNFa8kqSkrXkmS1Jud\nJt4kv5pkn+79iUlOT3Jw/6FJkoagaulf02whFe+fVNX3kzwK+GXgXcDf9huWJGkoaiZL/ppmC0m8\nt3f/Phr4u6r6EKOHBO+SJKfs6jGSJK00C5lcdW2SNwNHAock2Y2dJOwkZ8xuAh6X5G4AVfXkxQQr\nSVp5hvZ0ooUk3l9jNMT8v6rq20n2A07cyTEbgC8CbwGKUeI9BPirOxGrJEnL3pyJN8ldxz5+ZKzt\nRuCzOznvIcBLgJcDf1BVFyW5par+eb6DkmwENgJk9TpWrdpr5z+BJGlZG9rTieareDfzw2p1m22f\nC7jPXAdW1Qzw+iTv7f79jZ30te24TcAmgDW7rZ/yeWmSpKUw41DzSFXtf2dPXlVbgKcleRLwvTt7\nPkmSlrsFrVyV5FjgvlX150k2APeqqgsW2klVfRj48CJjlCStYEObXLWQBTTeBDwOeGbXdDPexytJ\n0qIspOJ9VFU9LMnnAarqW90tRZIk3WnTvuDFUlvIAhq3JVnFaEIVSfYFBjYHTZKkpbGQivfNwPuB\neyZ5FaP7el/Va1SSpMGY9rWVl9pCbvE5JckFwOO7pqdV1SX9hiVJGoqhDTUv9Hm8q4HbGA03+yhB\nSZIWaSGzml8OnArsx2gpyHcneVnfgUmShmGmsuSvabaQivdZwEOr6maAJK8GPg/8jz4DkyRpJVrQ\n04lm7bema5Mk6U4b2gIa8z0k4fWMrul+C9ic5KPd5ycC500mPEnSSues5h/aNnN5M9sv93h2f+FI\nkrSyzfeQhJMmGYgkaZimfTLUUtvpNd4kPwW8GnggsMe29qo6qMe4JElakRZyT+7bgLcyeg7vUcDp\nwGk9xiRJGpCqLPlrmi0k8e5ZVR8FqKqvVNUrGCVgSZLutKqlf02zhdxO9IPuIQlfSfI84Gpgn37D\nkiRpZVpI4v1dYC/gxYyu9a4DfqvPoCRJw+Hkqlmq6pzu7feBZ/YbjpajaftfZu3+h7cO4Q63bPlU\n6xC2s3bDYa1D0AJN+Wip7oT5FtD4IPP8t6+qX+0lIknSoEz7ZKilNl/F+6aJRSFJ0kDMt4DGP00y\nEEnSMHmNV5KkCRra9Wwfai9J0gQtuOJNsntV/aDPYCRJwzO0oeadVrxJDk3yBeDL3eeHJPlfvUcm\nSdIKtJCh5r8Gjga+CVBVFwOP6zMoSdJwDG2t5oUMNa+qqq8l2/0gt/cUjyRpYGZaBzBhC0m8VyU5\nFKgkq4EXAZf3G5YkSSvTQhLv8xkNN98H+Abwia5NkqQ7raZu4dl+LWSt5uuAYycQiyRJK95OE2+S\nv2cH9zdX1cZeIpIkDcrMwFbQWMhQ8yfG3u8B/Gfgqn7CkSQNzYxDzdurqtPGPyd5B/CZ3iKSJGkF\nW8xazQcC91rqQCRJw+TkqlmSfJsfXuNdBXwLOLHPoCRJWqnmTbwZrZrxEODqrmmmqgZ2GVyS1Keh\nLaAx75KRXZI9s6pu714mXUmS7oSFXOO9KMlDq+rzi+0kyS8ChwKXVNXHFnseSdLKM7RrvHNWvEm2\nJeWHAucl+VKSC5N8PsmF8500yblj758LvAnYB3hlEq8PS5LuMNPDa5rNV/GeCzwMePIiznuXsfcb\ngSdU1fVJ/hI4G3jNjg5KsrHbn6xex6pVey2ia0mSptd8iTcAVfWVRZx3VZK7M6qoU1XXd+e6KcnW\nuQ6qqk3AJoA1u633erIkDcC0V6hLbb7Ee88kJ8y1sapeN8+x64ALGCXvSnLvqro2yd5dmyRJgzRf\n4l0NLCpRVtUBc2yaYbTkpCRJwPAmV82XeK+tqj9dys6q6mbgq0t5TknS8jYzrLw77328A/sqJEnq\n33wV7xETi0KSNFhDezrRnBVvVX1rkoFIkjQEi3k6kSRJS2Zo946aeCVJTQ3tPt55H5IgSZKWlhWv\nJKmpmTi5SpIk9cSKV5LU1NAmV1nxSpI0QVa8kqSmhjar2cQrSWrKtZolSRqAJL+bZHOSS5KcmmSP\nJAcmOSfJFUlOS7Jbt+/u3ecruu0HLLZfE68kqakZsuSvnUmyHngxcEhVPZjRo3CPBV4LvL6q7gd8\nGzi+O+R44Ntd++u7/RbFxCtJGqo1wNoka4A9gWuBw4H3ddvfDjyle39M95lu+xHJ4m5ANvFKkpqq\nHl477bPqauAvga8zSrjfBS4AvlNVW7vdtgDru/frgau6Y7d2+++7mJ/XyVW604Z2D96uWLvhsNYh\nbOeWLZ9qHcJ2pu37URt9TK5KshHYONa0qao2jW2/O6Mq9kDgO8B7gSOXPpIfZeKVJK04XZLdNM8u\njwe+WlXXAyT5APBo4G5J1nRV7Qbg6m7/q4H9gS3d0PQ64JuLic2hZklSUzM9vBbg68Ajk+zZXas9\nAvgi8Engqd0+xwEf6t6f0X2m235WVS1qwM/EK0kanKo6h9EkqQuBLzDKh5uAPwROSHIFo2u4J3WH\nnATs27WfAJy42L4dapYkNdVqnkhVvRJ45azmK4FDd7DvfwBPW4p+TbySpKZcuUqSJPXGileS1NTQ\nHpJgxStJ0gRZ8UqSmrLilSRJvbHilSQ1VQOb1WzilSQ15VCzJEnqjRWvJKkpK15JktQbK15JUlND\ne6a3iVeS1JRrNUuSpN5Y8UqSmnJy1RJI8vNJ7tq9X5vkVUn+Iclrk6zro09JkpaDvoaaTwZu7t6/\nEVgHvLZre2tPfUqSlqGZHl7TrK+h5lVVtbV7f0hVPax7/5kkF/XUpyRpGRrarOa+Kt5Lkjyne39x\nkkMAkhwE3DbXQUk2Jjk/yfkzMzf1FJokSe30VfH+F+CNSV4B3AB8LslVwFXdth2qqk3AJoA1u60f\n2i9BkjRIQ7udqJfEW1XfBZ7dTbA6sOtnS1V9o4/+JElaLnq9naiqvgdc3GcfkqTlbdonQy01F9CQ\nJGmCXEBDktTU0Cb0mHglSU3NDCz1OtQsSdIEWfFKkppycpUkSeqNFa8kqalhXeE18UqSGnOoWZIk\n9caKV5LU1NDWarbilSRpgqx4JUlNDW0BDROvJKmpYaVdh5olSZooK15JUlPeTiRJknpjxStJasrJ\nVfoR03aL2bD+iGoprd1wWOsQtnPLVWe1DuEOa/c/vHUI25m2v3f6NLS/0xxqliRpgqx4JUlNOblK\nkiT1xopXktTU0CZXWfFKkjRBVrySpKaGVe+aeCVJjTm5SpIk9caKV5LUVA1ssNmKV5KkCbLilSQ1\nNbRrvCZeSVJT3scrSZJ6Y8UrSWpqWPWuFa8kSRNlxStJampo13hNvJKkpoY2q9mhZkmSJsiKV5LU\nlCtXLYEkL06yfx/nliRpOetrqPnPgHOSfDrJbye5Z0/9SJKWuZkeXtOsr8R7JbCBUQJ+OPDFJB9J\nclySfeY6KMnGJOcnOX9m5qaeQpMkqZ2+Em9V1UxVfayqjgf2A/4GOJJRUp7roE1VdUhVHbJq1V49\nhSZJmibVwz/TrK/JVRn/UFW3AWcAZyTZs6c+JUnL0LQPDS+1vireX59rQ1Xd3FOfkiRNvV4q3qq6\nvI/zSpJWnpma7qHhpeYCGpIkTZALaEiSmhpWvWvilSQ1NrSHJDjULEnSBFnxSpKamvb7bpeaFa8k\nSRNkxStJampoC2iYeCVJTTm5SpIk9caKV5LUlJOrJElSb6x4JUlNDW1ylRWvJEkTZOKVJDVVVUv+\nWqgkq5N8Psk/dp8PTHJOkiuSnJZkt6599+7zFd32Axb785p4JUlNzVBL/toFLwEuHfv8WuD1VXU/\n4NvA8V378cC3u/bXd/stiolXkjRISTYATwLe0n0OcDjwvm6XtwNP6d4f032m235Et/8uc3LVAgxr\nors0OWv3P7x1CHe45aqzWoewnWn6bvrWx+SqJBuBjWNNm6pq06zd3gC8FNin+7wv8J2q2tp93gKs\n796vB64CqKqtSb7b7X/DrsZm4pUkrThdkp2daO+Q5Gjguqq6IMlhEwsME68kqbFGC2g8Gnhykl8G\n9gDuCrwRuFuSNV3VuwG4utv/amB/YEuSNcA64JuL6dhrvJKkplpMrqqql1XVhqo6ADgWOKuqngF8\nEnhqt9txwIe692d0n+m2n1W7Mn16jIlXkqQf+kPghCRXMLqGe1LXfhKwb9d+AnDiYjtwqFmS1NQi\nC8el7P9TwKe691cCh+5gn/8AnrYU/VnxSpI0QVa8kqSmhrZWs4lXktSUjwWUJEm9seKVJDW1i2sr\nL3tWvJIkTZAVrySpqda3E02aFa8kSRNkxStJampo13hNvJKkprydSJIk9caKV5LU1IyTqyRJUl+s\neCVJTQ2r3u0p8SbZjdGDha+pqk8k+Q3gUcClwKaquq2PfiVJy4+zmpfGW7tz75nkOGBv4APAEYye\nc3hcT/1KkjTV+kq8P1tVP5dkDXA1sF9V3Z7kncDFPfUpSVqGhlbx9jW5alU33LwPsCewrmvfHbjL\nXAcl2Zjk/CTnz8zc1FNokiS101fFexJwGbAaeDnw3iRXAo8E3jPXQVW1CdgEsGa39cP6FUiSBmpo\nazX3knir6vVJTuveX5PkFODxwN9X1bl99ClJWp6GNtTc2+1EVXXN2PvvAO/rqy9JkpYL7+OVJDXl\nWs2SJKk3VrySpKaGNrnKileSpAmy4pUkNeWsZkmSJsihZkmS1BsrXklSU0MbarbilSRpgqx4JUlN\nDW0BDROvJKmpGSdXSZKkvljxSpKaGtpQsxWvJEkTZMUrSWpqaNd4TbySpKYcapYkSb2x4tWKk9YB\njBnW7/G7bpr+W63d//DWIWznlq99onUIEzO0oWYrXkmSJsiKV5LUlNd4JUlSb6x4JUlNDe0ar4lX\nktSUQ82SJKk3VrySpKaqZlqHMFFWvJIkTZAVrySpqZmBXeM18UqSmqqBzWp2qFmSpAmy4pUkNTW0\noWYrXkmSJsiKV5LU1NCu8Zp4JUlNDW3JSIeaJUmaICteSVJTrtUsSZJ6Y8UrSWrKyVVLJMl9gV8F\n9gduBy4H3l1V3+urT0mSpl0vQ81JXgz8LbAH8Ahgd0YJ+Owkh/XRpyRpeZqhlvw1zfqqeJ8LHFxV\ntyd5HXBmVR2W5O+ADwEP3dFBSTYCGwGyeh2rVu3VU3iSpGkxtKHmPidXbUvquwN7A1TV14G7zHVA\nVW2qqkOq6hCTriRpJeqr4n0LcF6Sc4DHAK8FSHJP4Fs99SlJWoaGtoBGL4m3qt6Y5BPAzwB/VVWX\nde3XA4/to09JkpaD3mY1V9VmYHNf55ckrQxDu8brfbySpKamfRbyUnPlKkmSJsiKV5LU1NCGmq14\nJUmaICteSVJT3k4kSdIE+VhASZLUGyteSVJTQxtqtuKVJGmCrHglSU15O5EkSeqNFa8kqamhzWo2\n8UqSmnKoWZKkAUhyZJIvJbkiyYmT6teKV5LUVIuKN8lq4M3AE4AtwHlJzqiqL/bdtxWvJGmIDgWu\nqKorq+pW4D3AMZPo2MQrSWqqengtwHrgqrHPW7q23k3tUPPWW6/OUpwnycaq2rQU51oK0xTPNMUC\nxrMz0xTPNMUCxjOfaYplLkv19/24JBuBjWNNm6blexhCxbtx57tM1DTFM02xgPHszDTFM02xgPHM\nZ5pimZiq2lRVh4y9Zifdq4H9xz5v6Np6N4TEK0nSbOcB909yYJLdgGOBMybR8dQONUuS1Jeq2prk\nhcBHgdXAyVW1eRJ9DyHxTsVtfYpLAAAHi0lEQVSY/phpimeaYgHj2ZlpimeaYgHjmc80xTJVqupM\n4MxJ95uhrRgiSVJLXuOVJGmCVnTibbUc2ByxnJzkuiSXtIyji2X/JJ9M8sUkm5O8pHE8eyQ5N8nF\nXTyvahlPF9PqJJ9P8o9TEMu/JflCkouSnD8F8dwtyfuSXJbk0iS/0DCWB3Tfy7bX95L8TsN4frf7\nM3xJklOT7NEqli6el3SxbG75vWh7K3aouVsO7HLGlgMDnj6J5cDmiOexwI3AKVX14BYxjMVyb+De\nVXVhkn2AC4CnNPxuAuxVVTcmuQvwGeAlVXV2i3i6mE4ADgHuWlVHt4qji+XfgEOq6oaWcWyT5O3A\np6vqLd1s0D2r6jtTENdqRreD/HxVfa1B/+sZ/dl9YFXdkuR04MyqetukY+nieTCj1ZgOBW4FPgI8\nr6quaBGPfmglV7zNlgPbkar6F+BbrfofV1XXVtWF3fvvA5cyoRVb5oinqurG7uNdulez3wiTbACe\nBLylVQzTKsk64LHASQBVdes0JN3OEcBXWiTdMWuAtUnWAHsC1zSM5WeAc6rq5qraCvwz8KsN41Fn\nJSfeZsuBLSdJDgAeCpzTOI7VSS4CrgM+XlUt43kD8FJgpmEM4wr4WJILutV4WjoQuB54azcU/5Yk\nezWOaZtjgVNbdV5VVwN/CXwduBb4blV9rFU8wCXAY5Lsm2RP4JfZfsEINbKSE692IsnewPuB36mq\n77WMpapur6qDGa0ec2g3TDZxSY4GrquqC1r0P4dfrKqHAUcBL+guW7SyBngY8L+r6qHATUDT+RMA\n3ZD3k4H3Nozh7oxG1Q4E9gP2SvKbreKpqkuB1wIfYzTMfBFwe6t49EMrOfE2Ww5sOeiupb4feFdV\nfaB1PNt0w5afBI5sFMKjgSd311XfAxye5J2NYgHuqKSoquuADzK6jNLKFmDL2IjE+xgl4taOAi6s\nqm80jOHxwFer6vqqug34APCohvFQVSdV1cOr6rHAtxnNe1FjKznxNlsObNp1k5lOAi6tqtdNQTz3\nTHK37v1aRhPiLmsRS1W9rKo2VNUBjP7MnFVVzaqWJHt1E+DohnSfyGgIsYmq+nfgqiQP6JqOAJpM\nypvl6TQcZu58HXhkkj27/8eOYDR/opkkP979+z6Mru++u2U8GlmxK1e1XA5sR5KcChwG3CPJFuCV\nVXVSo3AeDTwT+EJ3XRXgj7pVXFq4N/D2blbqKuD0qmp+G8+UuBfwwdHf46wB3l1VH2kbEi8C3tX9\nQnsl8JyWwXS/kDwB+K8t46iqc5K8D7gQ2Ap8nvarRr0/yb7AbcALpmgi3KCt2NuJJEmaRit5qFmS\npKlj4pUkaYJMvJIkTZCJV5KkCTLxSpI0QSZerQhJbu+eTnNJkvd2S+Qt9lyHbXsqUZInz/dkq+5J\nPb+9iD7+JMnvL7R91j5vS/LUXejrgGl4KpakEROvVopbqurg7slPtwLPG9+YkV3+815VZ1TVa+bZ\n5W7ALideScNl4tVK9Gngfl2l96UkpzBa7Wn/JE9M8rkkF3aV8d5wx7ObL0tyIWNPcEny7CRv6t7f\nK8kHM3pu8MVJHgW8Bviprtr+i26/P0hyXpJ/zdizhZO8PMnlST4DPICdSPLc7jwXJ3n/rCr+8UnO\n7853dLf/6iR/Mdb3jywokeRBGT37+KJun/vv+tcr6c4w8WpF6R7HdhTwha7p/sDfVNWDGC3o/wrg\n8d1DB84HTsjoYeV/D/wK8HDgJ+Y4/V8D/1xVD2G0PvFmRg8I+EpXbf9Bkid2fR4KHAw8PMljkzyc\n0RKUBzN6SswjFvDjfKCqHtH1dylw/Ni2A7o+ngT8bfczHM/oiTiP6M7/3CQHzjrn84A3dg+kOITR\n2suSJmjFLhmpwVk7tvzlpxmtRb0f8LWqOrtrfyTwQOCz3RKMuwGfA36a0eL2XwboHoqwo8fvHQ48\nC0ZPUwK+2z2RZtwTu9fnu897M0rE+wAfrKqbuz4Wsm74g5P8d0bD2XszWv50m9Oragb4cpIru5/h\nicDPjV3/Xdf1Pb4w/ueAl2f0zOEPbPuZJU2OiVcrxS1dFXeHLrneNN7E6Fm/T5+133bH3UkB/kdV\n/d2sPn5nEed6G/CUqro4ybMZrfW9zey1Xqvr+0VVNZ6gtz1zebRT1buTnMOoUj4zyX+tqrMWEZuk\nRXKoWUNyNvDoJPeDO578cxCjJyEdkOSnuv2ePsfx/wQ8vzt2dZJ1wPcZVbPbfBT4rbFrx+u7J8T8\nC/CUJGu7pw39ygLi3Qe4NqNHOD5j1ranJVnVxXxf4Etd38/v9ifJQZn1kPok9wWurKq/Bj4E/NwC\n4pC0hKx4NRhVdX1XOZ6aZPeu+RVVdXmSjcCHk9zMaKh6nx2c4iXApiTHM3qg+POr6nNJPtvdrvN/\nu+u8PwN8rqu4bwR+s6ouTHIacDFwHaPHVu7MfwPOAa7v/j0e09eBc4G7As+rqv9I8hZG134vzKjz\n64GnzDrnrwHPTHIb8O/Any8gDklLyKcTSZI0QQ41S5I0QSZeSZImyMQrSdIEmXglSZogE68kSRNk\n4pUkaYJMvJIkTZCJV5KkCfr/dNeu1vEmr1cAAAAASUVORK5CYII=\n",
            "text/plain": [
              "<Figure size 576x576 with 2 Axes>"
            ]
          },
          "metadata": {
            "tags": []
          }
        }
      ]
    },
    {
      "cell_type": "code",
      "metadata": {
        "id": "9kB71ZdKJaXo",
        "colab_type": "code",
        "colab": {}
      },
      "source": [
        "M = metrics.confusion_matrix(y_true=y_test_full, y_pred=y_predicted)\n",
        "np.save('./RBF_SVC_Matrix', M, allow_pickle=False)  # Save confusion matrix .npz and .csv \n",
        "np.savetxt(\"./RBF_SVC_Matrix.csv\", M, delimiter=\",\")"
      ],
      "execution_count": 0,
      "outputs": []
    },
    {
      "cell_type": "markdown",
      "metadata": {
        "id": "Q1Fhwb90AwHV",
        "colab_type": "text"
      },
      "source": [
        "# Decision Tree"
      ]
    },
    {
      "cell_type": "markdown",
      "metadata": {
        "id": "wS66Xi8rKxeA",
        "colab_type": "text"
      },
      "source": [
        "## Tree"
      ]
    },
    {
      "cell_type": "code",
      "metadata": {
        "id": "QSQSDMIgGDgf",
        "colab_type": "code",
        "colab": {}
      },
      "source": [
        "def visualize_tree(tree, feature_names, class_names):  # Used from Mirjana Maljkovic site\n",
        "    with open(\"dt.dot\", \"w\") as f:\n",
        "        export_graphviz(tree, out_file=f, feature_names=feature_names, class_names=class_names, filled=True, rounded=True)\n",
        "    f.close()\n",
        "\n",
        "    subprocess.call(\"dot -Tpng dt.dot -o tree.png\", shell=True)"
      ],
      "execution_count": 0,
      "outputs": []
    },
    {
      "cell_type": "code",
      "metadata": {
        "id": "zbtkTnXQE6rE",
        "colab_type": "code",
        "outputId": "36aa367d-bab2-4053-f4f6-faa01a238f13",
        "colab": {
          "base_uri": "https://localhost:8080/",
          "height": 68
        }
      },
      "source": [
        "#clf = tree.DecisionTreeClassifier()  # On choose datač just small check\n",
        "#clf = clf.fit(x_train_choose, y_train_choose)\n",
        "#y_pred_choose = clf.predict(x_test_choose)\n",
        "#print(y_pred_choose[0:20], \"...\")\n",
        "#print(y_test_choose[0:20], \"...\")\n",
        "#print(metrics.accuracy_score(y_test_choose, y_pred_choose))"
      ],
      "execution_count": 0,
      "outputs": [
        {
          "output_type": "stream",
          "text": [
            "[5 9 5 2 7 2 5 1 4 0 3 4 7 9 9 9 7 4 7 8] ...\n",
            "[8 9 9 2 7 2 5 8 8 0 5 4 5 9 9 9 7 4 7 8] ...\n",
            "0.748\n"
          ],
          "name": "stdout"
        }
      ]
    },
    {
      "cell_type": "code",
      "metadata": {
        "id": "vQJMIj-SK-wd",
        "colab_type": "code",
        "outputId": "a8c60c0f-8f0c-43f0-c176-be71956d67f5",
        "colab": {
          "base_uri": "https://localhost:8080/",
          "height": 51
        }
      },
      "source": [
        "%%time\n",
        "\n",
        "clf = tree.DecisionTreeClassifier()\n",
        "clf = clf.fit(x_train_full, y_train_full)"
      ],
      "execution_count": 0,
      "outputs": [
        {
          "output_type": "stream",
          "text": [
            "CPU times: user 13min 44s, sys: 97.8 ms, total: 13min 44s\n",
            "Wall time: 13min 44s\n"
          ],
          "name": "stdout"
        }
      ]
    },
    {
      "cell_type": "code",
      "metadata": {
        "id": "e8h_vXMbACEA",
        "colab_type": "code",
        "outputId": "237c7d39-10bd-49b2-853b-9e9d59c6d609",
        "colab": {
          "base_uri": "https://localhost:8080/",
          "height": 68
        }
      },
      "source": [
        "y_predicted = clf.predict(x_test_full)\n",
        "print(y_predicted[0:10], \"...\")\n",
        "print(y_test[0:10], \"...\")\n",
        "print(metrics.accuracy_score(y_test_full, y_predicted))"
      ],
      "execution_count": 0,
      "outputs": [
        {
          "output_type": "stream",
          "text": [
            "[1 3 6 0 9 2 1 8 8 8] ...\n",
            "[1, 3, 6, 0, 9, 2, 1, 8, 8, 8] ...\n",
            "0.91515\n"
          ],
          "name": "stdout"
        }
      ]
    },
    {
      "cell_type": "code",
      "metadata": {
        "id": "wDfYD4BTH9le",
        "colab_type": "code",
        "outputId": "796797c5-c914-4b5d-8ce1-6674f012d782",
        "colab": {
          "base_uri": "https://localhost:8080/",
          "height": 238
        }
      },
      "source": [
        "M = confusion_matrix(y_test, y_predicted)\n",
        "display(M)\n",
        "recall = np.diag(M) / np.sum(M, axis = 1)\n",
        "print(recall)\n",
        "precision = np.diag(M) / np.sum(M, axis = 0)\n",
        "print(precision)"
      ],
      "execution_count": 0,
      "outputs": [
        {
          "output_type": "display_data",
          "data": {
            "text/plain": [
              "array([[1909,    2,   12,    5,   10,    9,   23,    2,   17,   11],\n",
              "       [   3, 1921,    6,   12,    6,    6,    5,    9,   27,    5],\n",
              "       [  20,   10, 1815,   34,   18,   11,   22,   24,   41,    5],\n",
              "       [   8,   12,   50, 1780,    6,   53,    5,   23,   40,   23],\n",
              "       [  11,   20,   16,    4, 1830,   10,   22,   21,   18,   48],\n",
              "       [  15,    7,   10,   44,   11, 1817,   32,    7,   35,   22],\n",
              "       [  13,   12,   16,    5,   14,   26, 1885,    1,   27,    1],\n",
              "       [   4,    9,   12,   20,   14,    6,    0, 1861,   19,   55],\n",
              "       [  18,   25,   31,   46,   38,   41,   23,   20, 1713,   45],\n",
              "       [  11,    6,   11,   19,   57,   21,    0,   49,   54, 1772]])"
            ]
          },
          "metadata": {
            "tags": []
          }
        },
        {
          "output_type": "stream",
          "text": [
            "[0.9545 0.9605 0.9075 0.89   0.915  0.9085 0.9425 0.9305 0.8565 0.886 ]\n",
            "[0.94880716 0.94911067 0.91712986 0.90401219 0.91317365 0.9085\n",
            " 0.93455627 0.92265741 0.86037167 0.89179668]\n"
          ],
          "name": "stdout"
        }
      ]
    },
    {
      "cell_type": "code",
      "metadata": {
        "id": "C_6BpOxLJHIT",
        "colab_type": "code",
        "outputId": "57be2019-8beb-452d-8ceb-6b68e15a3b54",
        "colab": {
          "base_uri": "https://localhost:8080/",
          "height": 350
        }
      },
      "source": [
        "fig, ax = plt.subplots(figsize=(5,5))\n",
        "sns.heatmap(M, annot=False, ax = ax)\n",
        "\n",
        "# By definition a confusion matrix C is such that Cij is equal to the number of observations known to be in group i but predicted to be in group j.\n",
        "ax.set_xlabel('Predicted labels')\n",
        "ax.set_ylabel('True labels')\n",
        "ax.set_title('Confusion Matrix');\n",
        "ax.xaxis.set_ticklabels(labels)\n",
        "ax.yaxis.set_ticklabels(labels)\n",
        "\n",
        "fig.savefig('confusion_matrix.png')\n",
        "plt.show()"
      ],
      "execution_count": 0,
      "outputs": [
        {
          "output_type": "display_data",
          "data": {
            "image/png": "iVBORw0KGgoAAAANSUhEUgAAAUgAAAFNCAYAAABi2faAAAAABHNCSVQICAgIfAhkiAAAAAlwSFlz\nAAALEgAACxIB0t1+/AAAADl0RVh0U29mdHdhcmUAbWF0cGxvdGxpYiB2ZXJzaW9uIDMuMC4zLCBo\ndHRwOi8vbWF0cGxvdGxpYi5vcmcvnQurowAAIABJREFUeJzt3XuYHVWZ7/HvrzsXSIIBAVESMEFA\nRRQQyCCKA4IIisDxEQUVQZEI4pVRB8QjOuONUUE84mgUVEDuwhAFAfGuBwLhpokghKCSgAa5ykVI\nst/5o1aHnbare3elVvalfx+eeti7qva71u4kb69VtdYqRQRmZvbP+tpdATOzTuUEaWZWwgnSzKyE\nE6SZWQknSDOzEk6QZmYlnCDHEEnrSvqBpIclXbgGcd4q6ao669YOkn4k6bB218M6lxNkB5L0Fknz\nJT0q6d70D/kVNYR+I7AJsGFEHFQ1SER8LyL2rqE+q5G0u6SQdMmg/dul/T9vMc4nJZ090nkRsW9E\nfLdidW0McILsMJKOBb4MfJYimW0OfA04oIbwzwVuj4gVNcTK5T7gZZI2bNp3GHB7XQWo4L/7NrKI\n8NYhGzAVeBQ4aJhzJlIk0HvS9mVgYjq2O7AE+DdgGXAv8I507FPAU8DyVMYRwCeBs5tizwACGJfe\nHw4sBv4O3AW8tWn/r5s+tytwPfBw+v+uTcd+Dvwn8JsU5ypgo5LvNlD/rwPHpH39wFLgE8DPm849\nFbgbeAS4Adgt7d9n0Pe8paken0n1eALYMu17Vzr+38D3m+KfBPwEULv/Xnhr3+bfop3lZcA6wCXD\nnHMCsAuwPbAdMAv4eNPxZ1Mk2mkUSfA0SRtExIkUrdLzI2JKRJw+XEUkTQa+AuwbEetRJMGbhzjv\nmcBl6dwNgZOBywa1AN8CvAN4FjAB+PBwZQNnAm9Pr18DLKD4ZdDseoqfwTOBc4ALJa0TEVcM+p7b\nNX3mUGA2sB7wp0Hx/g14saTDJe1G8bM7LCI8F3cMc4LsLBsCf4vhu8BvBf4jIpZFxH0ULcNDm44v\nT8eXR8TlFK2o51esTwPYVtK6EXFvRCwc4pzXAXdExFkRsSIizgVuA17fdM63I+L2iHgCuIAisZWK\niP8PPFPS8ykS5ZlDnHN2RNyfyvwSRct6pO/5nYhYmD6zfFC8xyl+jicDZwPvi4glI8SzHucE2Vnu\nBzaSNG6YczZl9dbPn9K+VTEGJdjHgSmjrUhEPAa8GTgKuFfSZZJe0EJ9Buo0ren9XyrU5yzgvcAe\nDNGilvRhSbemO/IPUbSaNxoh5t3DHYyIeRSXFESRyG2Mc4LsLNcATwIHDnPOPRQ3WwZszj93P1v1\nGDCp6f2zmw9GxJUR8WrgORStwm+2UJ+BOi2tWKcBZwHvAS5PrbtVUhf4o8CbgA0iYn2K658aqHpJ\nzGG7y5KOoWiJ3pPi2xjnBNlBIuJhipsRp0k6UNIkSeMl7Svpv9Jp5wIfl7SxpI3S+SMOaSlxM/BK\nSZtLmgocP3BA0iaSDkjXIp+k6Ko3hohxObB1Gpo0TtKbgW2AH1asEwARcRfwrxTXXAdbD1hBccd7\nnKRPAM9oOv5XYMZo7lRL2hr4NPA2iq72RyUNeynAep8TZIdJ19OOpbjxch9Ft/C9wP+kUz4NzAd+\nC/wOuDHtq1LWj4HzU6wbWD2p9aV63AM8QJGsjh4ixv3AfhQ3Oe6naHntFxF/q1KnQbF/HRFDtY6v\nBK6gGPrzJ+AfrN59HhgEf7+kG0cqJ13SOBs4KSJuiYg7gI8BZ0mauCbfwbqbfJPOzGxobkGamZVw\ngjQzK+EEaWZWwgnSzKyEE6SZWYnhZmy01fJld2S5vb7u9N1zhF01QjmHXOMMctY5l76+PL/TVzaG\nGuK55vqU76ecawTK8qeWVqr08r8trlSh8Rtt0bF/Fd2CNDMr0bEtSDPrMo2V7a5B7Zwgzawekecy\nRTs5QZpZPTJdx20nJ0gzq0W4BWlmVsItSDOzEm5BmpmV8F1sM7MSbkGamZXwNcjWpQc8HcDTD29a\nCsyNiFtzlWlm7dOLd7GzTDWU9O/AeRTTfa9Lm4BzJR2Xo0wza7NGo9rWwXK1II8AXjT42cOSTgYW\nAp/PVK6ZtYtbkC1rsPqzmgc8h6GfjAeApNmS5kua/60zz8tUNTPLorGy2tbBcrUgPwj8RNIdPP20\nuc2BLSme0DekiJgDzIF8y52ZWSY92ILMkiAj4or0nOFZrH6T5vqI6OxfGWZWTYdfT6wi213sKG5p\nXZsrvpl1mB5sQXrBXDOzEh4obmb1cBfbzGxovXh7wQnSzOrRg9cgnSDNrB7uYpuZlXAL0sysRIfP\niqnCCdLM6uEWpJlZCV+DXHvWnb57lrhP3POrLHHX3XS3LHGhWCcuh26c7L4y0z/CXD9jKVdkaESH\n/Qm6BWlmVsItSDOzEk6QZmZD80waM7MybkGamZXwTRozsxJuQZqZlejBFqQXzDUzK+EWpJnVw11s\nM7MSPdjFdoI0s3r0YAtyrV+DlPSOtV2mma0FjUa1rYO14ybNp9pQppnlFo1qWwfL0sWW9NuyQ8Am\nw3xuNjAbQP1T6eubnKF2ZpZFh7cGq8jVgtwEeDvw+iG2+8s+FBFzImKniNjJydGsy2RqQUo6Q9Iy\nSQsG7X+fpNskLZT0X037j5e0SNIfJL2maf8+ad8iSce18pVy3aT5ITAlIm4efEDSzzOVaWbtlK8F\n+R3gq8CZAzsk7QEcAGwXEU9Kelbavw1wMPAiYFPgaklbp4+dBrwaWAJcL2luRPx+uIKzJMiIOGKY\nY2/JUaaZtVmm64kR8UtJMwbtPhr4fEQ8mc5ZlvYfAJyX9t8laREwKx1bFBGLASSdl84dNkF6Jo2Z\n1aPiXWxJsyXNb9pmt1Da1sBukuZJ+oWkndP+acDdTectSfvK9g/L4yDNrB4Vu9gRMQeYM8qPjQOe\nCewC7AxcIGmLShUYoRAzszW3dp+RswS4OCICuE5SA9gIWAps1nTe9LSPYfaXchfbzOqxdgeK/w+w\nB0C6CTMB+BswFzhY0kRJM4GtgOuA64GtJM2UNIHiRs7ckQpxC9LM6pHriZPSucDuwEaSlgAnAmcA\nZ6ShP08Bh6XW5EJJF1DcfFkBHBPpWRCS3gtcCfQDZ0TEwpHKdoI0s3rku4t9SMmht5Wc/xngM0Ps\nvxy4fDRlO0GaWT08k8bMbOxwC9LM6rF272KvFR2bIPukLHEnbbpblriP3XJ2lrgAU3c4LEvcRr5r\nRlniAijT34tccfuUr5O2kg7r0vZgF7tjE6SZdRknSDOzEh2+tmMVTpBmVoto+BqkmdnQ3MU2Myvh\nLraZWQl3sc3MSriLbWZWwgnSzKyEZ9KYmZVwC9LMrEQP3qTJNlFU0gsk7SlpyqD9++Qq08zaKNNz\nsdspS4KU9H7gUuB9wAJJBzQd/myOMs2szRpRbetgubrYRwI7RsSj6Xm2F0maERGnAqXLpqTHPc4G\n6O9fn77+yZmqZ2Z1C1+DbFlfRDwKEBF/lLQ7RZJ8LsMkyObHP06YOL2zf7WYWc/LdQ3yr5K2H3iT\nkuV+FI9lfHGmMs2sndzFbtnbKZ4otkpErADeLukbmco0s3bq8BsuVWRJkBGxZJhjv8lRppm1WYe3\nBqvwOEgzq4dv0piZlXAL0syshK9BmpmVcAvSzGxoHihuZlbGLUgzsxJOkGZmJXyTZu2JLlud+Jk7\nviNb7IfmfT1L3Ck7H5kl7jrjJmSJC/CPFU9liduv0iUCOlZ/X7bVCqtxC9LMbGjhBGlmVsIJ0sys\nhIf5mJmVcAvSzKxEDybIDrsNZmbWOdyCNLNadNvQvFY4QZpZPXqwi+0EaWb1cII0MxuaB4qbmZVx\ngmydpFlARMT1krYB9gFui4jLc5VpZm3Ue+PE8yRISScC+wLjJP0Y+BfgZ8BxknaIiM/kKNfM2sdd\n7Na9EdgemAj8BZgeEY9I+iIwDxgyQUqaDcwG6OufSl/f5EzVM7PaOUG2bEVErAQel3RnRDwCEBFP\nSCptiEfEHGAOwPgJ03rvp23Wy9zFbtlTkiZFxOPAjgM7JU2lJ3+MZtaLXexcUw1fmZIjEastMzwe\nOCxTmWbWTo2K2wgknSFpmaQFTfu+IOk2Sb+VdImk9ZuOHS9pkaQ/SHpN0/590r5Fko5r5StlSZAR\n8WTJ/r9FxO9ylGlm7RWNqLS14DsUo2Ca/RjYNiJeAtwOHA+QRswcDLwofeZrkvol9QOnUdw83gY4\nJJ07LC9WYWb1yNSCjIhfAg8M2ndVRKxIb68FpqfXBwDnRcSTEXEXsAiYlbZFEbE4Ip4CzkvnDssJ\n0sxqEY1qWw3eCfwovZ4G3N10bEnaV7Z/WE6QZlaPii1ISbMlzW/aZrdapKQTgBXA92r9LomnGppZ\nLaq2BpuH942GpMOB/YA94+m11pYCmzWdNj3tY5j9pdyCNLOuI2kf4KPA/gMjZpK5wMGSJkqaCWwF\nXAdcD2wlaaakCRQ3cuaOVI5bkGZWj0wjnCWdC+wObCRpCXAixV3ricCPVTzT/NqIOCoiFkq6APg9\nRdf7mDRpBUnvBa4E+oEzImLhSGU7QZpZLWq64fLPcSMOGWL36cOc/xmGmM6cFsoZ1WI5TpBmVotc\nCbKdxlyCTM3x2i1fuWLkkyqasvORWeI+tuD8LHGnbPvmLHEB+jL9+eV6nsrKoneXxfj+zvrn6wRp\nZlYm8vzyaqcR72JLeoOk9dLr4yRdIGn7/FUzs27SxoHi2bQyzOeTEfF3SbsCr6UYkPn1vNUys24T\nDVXaOlkrCXLgIsp+wDci4lKK2+tmZqv0YguylWuQ90o6jWJljJ3SIEsPMDez1cRYvAYJvAn4BfC6\niHgQ2AhoaS01Mxs7xlQLUtIzmt5e0bTvUeA3metlZl2m068nVjFcF3shEEDztx54H8DmGetlZl0m\n01DStipNkBGxWdkxM7PBerEF2dLNFkkHS/pYej1d0o4jfcbMxpYxOcxH0leBPYBD067H8ThIMxsk\notrWyVppQe4aEe8G/gEQEQ8AE0ZbkKQzR/sZM+sevdiCbGUc5HJJfRQ3ZpC0ISOs/CZp8EKUAvYY\neDRjROxfoa5mZmtVKwnyNOD7wMaSPkUxLvJTI3xmOsWCld/i6TvfOwFfGu5D6VkUswH6+qfS1ze5\nheqZWSfoxYHiIybIiDhT0g3AXmnXQRGxYLjPUCTDDwAnAB+JiJslPRERvxihrFXPphg/YVqHX50w\ns2adPui7ilaXO+sHllO0Bke8bhkRDeAUSRem//91FGWZWRdq9GALspW72CcA5wKbUnSdz5F0fCvB\nI2JJRBxE8czas9ekombW2SJUaetkrbTq3g7sMPDkMEmfAW4CPtdqIRFxGXBZpRqaWVfo9DvSVbS0\nms+g88alfWZmq3T6mMYqhlus4hSKa44PAAslXZne703xjFkzs1XGWgty4E71QlbvHl+brzpm1q16\n8SbNcItVlD531sxssE6/4VLFiNcgJT2P4iHc2wDrDOyPiK0z1svMukwvXoNsZS72d4BvU8yG2Re4\nAMjzQGUz61qNUKWtk7WSICdFxJUAEXFnRHycIlGama0yVsdBPpkWq7hT0lHAUmC9vNUys27Ti13s\nVhLkh4DJwPsprkVOBd6Zs1I5NTL9Keb8PTi+P88szSnbvjlL3Ed/e06WuABTtz905JMqWNFYOfJJ\nFYzr688SF2D5yhXZYlfR6d3lKlpZrGJeevl3nl4018xsNZ3eXa5iuIHil5DWgBxKRLwhS43MrCuN\ntRbkV9daLczMOtBwA8V/sjYrYmbdrQfv0XiNRjOrx1jrYpuZtWxM3aQZTNLEiHgyZ2XMrHv14BMX\nWlpRfJak3wF3pPfbSfp/2WtmZl0lUKWtk7Uy1fArwH7A/QARcQuwR85KmVn3aUS1rZO10sXui4g/\nSatl+jzTDsysazU6vDVYRSsJ8m5Js4CQ1A+8D7g9b7XMrNt0ene5ilYS5NEU3ezNgb8CV6d9LZP0\nCmAWsCAirhptJc2s8/XiTZpW5mIvAw4eTVBJ10XErPT6SOAY4BLgREkvjYjPV6msmXWuMdmClPRN\nhhgkHxGzh/nY+KbXs4FXR8R9kr5I8UybIROkpNnpfPr6p9LXN3mk6plZhxiTLUiKLvWAdYD/A9w9\nwmf6JG1AcZdcEXEfQEQ8Jql0jaaImAPMARg/YVqH398ys2ZjMkFGxGqPV5B0FvDrET42FbiBYpnE\nkPSciLhX0hTyLp1oZm0yJrvYQ5gJbDLcCRExo+RQg6IFamY9pgcfi93SNcgHefoaZB/wAHBclcIi\n4nHgriqfNbPONubGQaoYHb4dxXNoABoRvfjkCTNbU72YGIadapiS4eURsTJtvfgzMLMOJ+lDkhZK\nWiDpXEnrSJopaZ6kRZLOlzQhnTsxvV+Ujs+oWm4rc7FvlrRD1QLMbGxoVNxGImkaxUMDd4qIbYF+\nirHZJwGnRMSWwIPAEekjRwAPpv2npPMqKU2Qkga63zsA10v6g6QbJd0k6caqBZpZb2pIlbYWjQPW\nTXlpEnAv8CrgonT8u8CB6fUB6T3p+J5S6wUNLrTMdcBLgf2rBDazsSXX9beIWJommfwZeAK4imIY\n4UMRMTCuegkwLb2eRhqrHRErJD0MbAj8bbRlD5cglQq4c7RBzWzsqTpQvHkGXTInTRoZOL4BRatw\nJvAQcCGwT9V6jsZwCXJjSceWHYyIkzPUx8y6VNVxkM0z6ErsBdw1MCNP0sXAy4H1JY1LrcjpPD3a\nZimwGbAkdcmnktazHa3hbtL0A1OA9Uo2M7NVGqjS1oI/A7tImpSuJe4J/B74GfDGdM5hwKXp9dz0\nnnT8p1VH4AzXgrw3Iv6jSlAzG3syXoOcJ+ki4EZgBXATRYvzMuA8SZ9O+05PHzkdOEvSIoqJLaNa\njazZiNcge02uL1XxJllLlq8sXd9jjeSq8TO2f1umyPD3xVdkiTtpxt5Z4kbG4dONDhuWnHOqYUSc\nCJw4aPdiinVmB5/7D+CgOsodLkHuWUcBZjY2jKnVfCLigbVZETPrbp3Vnq1HldV8zMz+yZhczcfM\nrBVjqottZjYaTpBmZiXCXWwzs6G5BWlmVsIJ0sysRC8O82llwVwzszEpS4KU9C+SnpFeryvpU5J+\nIOkkSVNzlGlm7dVQta2T5WpBngE8nl6fSrHc0Elp37czlWlmbZTrkQvtlOsaZF/TSr87RcRL0+tf\nS7o5U5lm1kadnuyqyNWCXCDpHen1LZJ2ApC0NbC87EOSZkuaL2l+o/FYpqqZWQ5RcetkuRLku4B/\nlXQnsA1wjaTFwDfTsSFFxJyI2Ckidurrm5ypamaWQy9eg8zSxY6Ih4HD042amamcJRHx1xzlmVn7\n9WIXO+s4yIh4BLglZxlm1hk6vbtchQeKm1ktGj2YIp0gzawW7mKbmZXovfajE6SZ1cQtSDOzEp0+\nZKcKJ0gzq4Vv0piZlei99OgEaWY18TVIM7MS7mKvRbl+1LmuI0fk+8vRpzy1zlXnlY18bYlJM/bO\nEvfxO36QJe6UrffPEhdgnXETssW2QscmSDPrLr3XfnSCNLOa+BqkmVkJX4M0MyvRe+nRCdLMauIu\ntplZiejBNqQTpJnVwi1IM7MSvkljZlai99KjE6SZ1aQXW5BZHvsq6f2SNssR28w6U6Pi1slyPRf7\nP4F5kn4l6T2SNs5Ujpl1iKj4XyfLlSAXA9MpEuWOwO8lXSHpMEnrZSrTzNrILcjWRUQ0IuKqiDgC\n2BT4GrAPRfIckqTZkuZLmt9oPJapamaWQy+2IHPdpFltfa6IWA7MBeZKmlT2oYiYA8wBGDdhWmf/\n5MxsNZ3eGqwiV4J8c9mBiHg8U5lm1kaNjGuitkuWLnZE3J4jrpnZ2uRxkGZWi95rPzpBmllNenGg\nuBOkmdWi0+9IV5FrmI+ZjTE5x0FK6pd0k6QfpvczJc2TtEjS+ZImpP0T0/tF6fiMNflOTpBmVosG\nUWlr0QeAW5venwScEhFbAg8CR6T9RwAPpv2npPMqc4I0s1rkGiguaTrwOuBb6b2AVwEXpVO+CxyY\nXh+Q3pOO75nOr8QJ0sxqkbGL/WXgo02nbwg8FBEr0vslwLT0ehpwN0A6/nA6vxInSDOrRURU2pqn\nGKdt9kBMSfsByyLihnZ8J9/FNrNaVB3m0zzFeAgvB/aX9FpgHeAZwKnA+pLGpVbidGBpOn8psBmw\nRNI4YCpwf6WK0cEJsq/6ZYNhrcHliOHjkicuQH9fnoZ+N04Na0SeGb9Ttt4/S9xHrv5clrgAG+z9\n8Wyxq8jxJxMRxwPHA0jaHfhwRLxV0oXAG4HzgMOAS9NH5qb316TjP42o/hfdXWwzq8VaXs3n34Fj\nJS2iuMZ4etp/OrBh2n8scNyafKeObUGaWXfJPZMmIn4O/Dy9XgzMGuKcfwAH1VWmE6SZ1WINerId\nywnSzGrh9SDNzEr04lxsJ0gzq0Uvrubju9hmZiXcgjSzWvgmjZlZiV7sYjtBmlktfJOmRWnxyoOB\neyLiaklvAXalWM9tTnoMrJn1kG6cujqSXC3Ib6fYkyQdBkwBLgb2pBj9flimcs2sTXovPeZLkC+O\niJek1TSWAptGxEpJZwO3ZCrTzNrI1yBb15e62ZOBSRRLDj0ATATGl30orQM3G6C/f336+idnqp6Z\n1c0JsnWnA7cB/cAJwIWSFgO7UCxPNKTmdeEmTJzeez9tsx7mYT4tiohTJJ2fXt8j6UxgL+CbEXFd\njjLNrL3cghyFiLin6fVDPP2AHTPrQR7mY2ZWwl1sM7MS7mKbmZVwC9LMrIRbkGZmJXyTxsysRC/O\nxfaCuWZmJdyCNLNauIttZlaiF7vYHZsgcw0ZyPWHqCxRC43I80DNCf2l64askadW5lvuM9ef38Rx\neX4WG73mE1niAjx4zWnZYlfhFqSZWQm3IM3MSrgFaWZWwi1IM7MSbkGamZWITDcT28kJ0sxq4bnY\nZmYlvJqPmVkJtyDNzEq4BWlmVsLDfMzMSniYzyhI2gJ4A7AZsBK4HTgnIh7JVaaZtU8vdrGzrAcp\n6f3A14F1gJ2BiRSJ8lpJu+co08zaq0FU2jpZrhbkkcD2EbFS0snA5RGxu6RvAJcCOwz1IUmzgdkA\nff1T6eubnKl6ZlY3tyBHZyD5TgSmAETEn4HSdaUiYk5E7BQROzk5mlm75WpBfgu4XtI8YDfgJABJ\nGwMPZCrTzNrId7FbFBGnSroaeCHwpYi4Le2/D3hljjLNrL16sYud7S52RCwEFuaKb2adpdNvuFTh\ncZBmVgu3IM3MSvgapJlZCc+kMTMr4RakmVmJXrwGmXOguJmNIVHxv1ZI2kfSHyQtknRc5q+yiluQ\nZlaLXC1ISf3AacCrgSUUk1DmRsTvsxTYxAnSzGqRsYs9C1gUEYsBJJ0HHABkT5DuYptZLaLi1oJp\nwN1N75ekfdl1bAty+VNL1eq5kmZHxJwc9cgVu9vi5ozdbXFzxu62uM1WjOLfbLPmVbySObnr2qpe\naUHOHvmUjovdbXFzxu62uDljd1vcNda8ilfaBifHpRTryQ6YnvZl1ysJ0sx61/XAVpJmSpoAHAzM\nXRsFd2wX28wMICJWSHovcCXQD5yRFsPJrlcSZM7rFblid1vcnLG7LW7O2N0Wd62IiMuBy9d2uerF\n0e9mZnXwNUgzsxJdnyBzTUGSdIakZZIW1BUzxd1M0s8k/V7SQkkfqCnuOpKuk3RLivupOuI2xe+X\ndJOkH9Yc94+SfifpZknza4y7vqSLJN0m6VZJL6sh5vNTPQe2RyR9sKb6fij9uS2QdK6kdeqIm2J/\nIMVdWFd9x4yI6NqN4oLtncAWwATgFmCbmmK/EngpsKDmOj8HeGl6vR7F88LXuM6AgCnp9XhgHrBL\njfU+FjgH+GHNP48/Ahtl+LvxXeBd6fUEYP2a4/cDfwGeW0OsacBdwLrp/QXA4TXVc1tgATCJ4p7D\n1cCWdf+8e3Xr9hbkqilIEfEUMDAFaY1FxC/J8ICxiLg3Im5Mr/8O3EoNswKi8Gh6Oz5ttVxgljQd\neB3Fw9g6nqSpFL/gTgeIiKci4qGai9kTuDMi/lRTvHHAupLGUSSze2qK+0JgXkQ8HhErgF8Ab6gp\nds/r9gTZtilIdZA0g+IZ4fNqitcv6WZgGfDjiKglLvBl4KNAo6Z4zQK4StINaUZFHWYC9wHfTpcF\nviWp7ucIHwycW0egiFgKfBH4M3Av8HBEXFVHbIrW426SNpQ0CXgtqw+6tmF0e4LsWpKmAN8HPhgR\nj9QRMyJWRsT2FDMNZknadk1jStoPWBYRN6xxBYf2ioh4KbAvcIykOp56OY7i8sh/R8QOwGNAnden\nJwD7AxfWFG8Dip7PTGBTYLKkt9UROyJupXjs8lXAFcDNwMo6Yo8F3Z4g2zYFaU1IGk+RHL8XERfX\nHT91J38G7FNDuJcD+0v6I8UljFdJOruGuMCq1hMRsQy4hOKyyZpaAixpakFfRJEw67IvcGNE/LWm\neHsBd0XEfRGxHLgY2LWm2ETE6RGxY0S8EniQ4rq3taDbE2TbpiBVJUkU18ZujYiTa4y7saT10+t1\nKdbOu21N40bE8RExPSJmUPx8fxoRtbRuJE2WtN7Aa2Bvii7hGomIvwB3S3p+2rUn9S6NdQg1da+T\nPwO7SJqU/n7sSXFtuhaSnpX+vznF9cdz6ord67p6Jk1knIIk6Vxgd2AjSUuAEyPi9BpCvxw4FPhd\nul4I8LEoZgqsiecA302Li/YBF0RErUNyMtgEuKTICYwDzomIK2qK/T7ge+kX52LgHXUETYn81cC7\n64gHEBHzJF0E3AisAG6i3pkv35e0IbAcOCbDDaue5Zk0ZmYlur2LbWaWjROkmVkJJ0gzsxJOkGZm\nJZwgzcxKOEF2MUkr06oyCyRdmKaSVY21+8BKPZL2H25lpLRSznsqlPFJSR9udf+gc74j6Y2jKGtG\n3Ssx2djjBNndnoiI7SNiW+Ap4KjmgyqM+s84IuZGxOeHOWV9YNQJ0qzbOEH2jl8BW6aW0x8knUkx\nK2UzSXtLukbSjamlOQVWraV5m6QbaVrhRdLhkr6aXm8i6ZK0zuQtknYFPg88L7Vev5DO+4ik6yX9\ntnktSkknSLpd0q+B5zMCSUdg69FGAAACp0lEQVSmOLdI+v6gVvFekuanePul8/slfaGp7H8awC3p\nRSrWyrw5nbPV6H+8NhY5QfaAtETWvsDv0q6tgK9FxIsoFmr4OLBXWhRiPnBsWpD1m8DrgR2BZ5eE\n/wrwi4jYjmI+80KKhR/uTK3Xj0jaO5U5C9ge2FHSKyXtSDE9cXuKVWR2buHrXBwRO6fybgWOaDo2\nI5XxOuDr6TscQbH6zc4p/pGSZg6KeRRwalrIYyeKudpmI+rqqYbGuk3TFX9FMcd7U+BPEXFt2r8L\nsA3wmzSlbwJwDfACigUS7gBIC1AMtdzYq4C3Q7FaEPBwWn2m2d5puym9n0KRMNcDLomIx1MZrcyT\n31bSpym68VMoppEOuCAiGsAdkhan77A38JKm65NTU9nNCzJcA5ygYl3Liwe+s9lInCC72xOpVbRK\nSoKPNe+iWBvykEHnrfa5NSTgcxHxjUFlVFne/zvAgRFxi6TDKebDDxg8LzZS2e+LiOZEOrDWZnFS\nxDmS5lG0PC+X9O6I+GmFutkY4y5277sWeLmkLWHVCjpbU6z0M0PS89J5h5R8/ifA0emz/SpW6/47\nRetwwJXAO5uubU5LK8j8EjhQ0rpp1Z7Xt1Df9YB7VSwJ99ZBxw6S1JfqvAXwh1T20el8JG2tQYvj\nStoCWBwRXwEuBV7SQj3M3ILsdRFxX2qJnStpYtr98Yi4XcUK3pdJepyii77eECE+AMyRdATFQqtH\nR8Q1kn6ThtH8KF2HfCFwTWrBPgq8LSJulHQ+xbOCllEsTzeS/0uxwvp96f/NdfozcB3wDOCoiPiH\npG9RXJu8UUXh9wEHDor5JuBQScspniPz2RbqYebVfMzMyriLbWZWwgnSzKyEE6SZWQknSDOzEk6Q\nZmYlnCDNzEo4QZqZlXCCNDMr8b932XI3feqrcQAAAABJRU5ErkJggg==\n",
            "text/plain": [
              "<Figure size 360x360 with 2 Axes>"
            ]
          },
          "metadata": {
            "tags": []
          }
        }
      ]
    },
    {
      "cell_type": "code",
      "metadata": {
        "id": "W6eWcfwSJXy3",
        "colab_type": "code",
        "outputId": "0575168c-605c-4633-b3b6-274296ef5db6",
        "colab": {
          "base_uri": "https://localhost:8080/",
          "height": 204
        }
      },
      "source": [
        "# Manually print confusion matrix\n",
        "print('  ', end='  ')\n",
        "print('\\033[1m'+'0    ', end='')\n",
        "for j in labels[1:]:\n",
        "    print(str(j), end='   ')\n",
        "print('\\033[0m')\n",
        "for idx, i in enumerate(M):\n",
        "    print('\\033[1m'+str(labels[idx])+'\\033[0m', end=' ')\n",
        "    for j in i:\n",
        "        print('%3d' % (j), end=' ')\n",
        "    print()"
      ],
      "execution_count": 0,
      "outputs": [
        {
          "output_type": "stream",
          "text": [
            "    \u001b[1m0    1   2   3   4   5   6   7   8   9   \u001b[0m\n",
            "\u001b[1m0\u001b[0m 1987   3   1   1   1   1   3   1   0   2 \n",
            "\u001b[1m1\u001b[0m   0 1995   3   0   1   0   0   1   0   0 \n",
            "\u001b[1m2\u001b[0m   8   2 1964  10   0   2   1   9   3   1 \n",
            "\u001b[1m3\u001b[0m   3   4  13 1955   0   9   1   6   8   1 \n",
            "\u001b[1m4\u001b[0m   1   6   0   0 1958   1   5   2   0  27 \n",
            "\u001b[1m5\u001b[0m   3   3   1  19   1 1960   6   0   5   2 \n",
            "\u001b[1m6\u001b[0m   9   5   1   0   1   5 1977   0   2   0 \n",
            "\u001b[1m7\u001b[0m   1  10   1   0   6   0   0 1969   0  13 \n",
            "\u001b[1m8\u001b[0m   9  12   4  13   5  10   6   2 1926  13 \n",
            "\u001b[1m9\u001b[0m   5   3   0   3  12   1   0  24   4 1948 \n"
          ],
          "name": "stdout"
        }
      ]
    },
    {
      "cell_type": "code",
      "metadata": {
        "id": "GIHsngbNJe-8",
        "colab_type": "code",
        "outputId": "09294a03-107a-420b-8f72-965ca0849dbf",
        "colab": {
          "base_uri": "https://localhost:8080/",
          "height": 357
        }
      },
      "source": [
        "print('predicted: ', y_predicted[0:5])\n",
        "print('test: ', y_test[0:5])\n",
        "acc = accuracy_score(y_test, y_predicted)\n",
        "print(acc*100.0)\n",
        "report = classification_report(y_test, y_predicted)\n",
        "print(report)"
      ],
      "execution_count": 0,
      "outputs": [
        {
          "output_type": "stream",
          "text": [
            "predicted:  [1 3 6 0 9]\n",
            "test:  [1, 3, 6, 0, 9]\n",
            "91.515\n",
            "              precision    recall  f1-score   support\n",
            "\n",
            "           0       0.95      0.95      0.95      2000\n",
            "           1       0.95      0.96      0.95      2000\n",
            "           2       0.92      0.91      0.91      2000\n",
            "           3       0.90      0.89      0.90      2000\n",
            "           4       0.91      0.92      0.91      2000\n",
            "           5       0.91      0.91      0.91      2000\n",
            "           6       0.93      0.94      0.94      2000\n",
            "           7       0.92      0.93      0.93      2000\n",
            "           8       0.86      0.86      0.86      2000\n",
            "           9       0.89      0.89      0.89      2000\n",
            "\n",
            "    accuracy                           0.92     20000\n",
            "   macro avg       0.92      0.92      0.92     20000\n",
            "weighted avg       0.92      0.92      0.92     20000\n",
            "\n"
          ],
          "name": "stdout"
        }
      ]
    },
    {
      "cell_type": "code",
      "metadata": {
        "id": "0SCWJ4AeLPeC",
        "colab_type": "code",
        "colab": {}
      },
      "source": [
        "np.save('./DT_Matrix', M, allow_pickle=False)  # Save confusion matrix .npz and .csv \n",
        "np.savetxt(\"./DT_Matrix.csv\", M, delimiter=\",\")"
      ],
      "execution_count": 0,
      "outputs": []
    },
    {
      "cell_type": "markdown",
      "metadata": {
        "id": "DFSOnH1EK0U5",
        "colab_type": "text"
      },
      "source": [
        "## Pixel Importance Visualisation"
      ]
    },
    {
      "cell_type": "code",
      "metadata": {
        "id": "2gSqAtXGE6lA",
        "colab_type": "code",
        "colab": {}
      },
      "source": [
        "visualize_tree(clf,['pixel '+str((i,j)) for i in range(56) for j in range(56)], ['0','1','2','3','4','5','6','7','8','9'])"
      ],
      "execution_count": 0,
      "outputs": []
    },
    {
      "cell_type": "code",
      "metadata": {
        "id": "R4UBvWVCE6fE",
        "colab_type": "code",
        "outputId": "4c44662b-3955-46da-d71f-8f6cd1c42dc5",
        "colab": {
          "base_uri": "https://localhost:8080/",
          "height": 34
        }
      },
      "source": [
        "len([(i,j) for i in range(56) for j in range(56)])"
      ],
      "execution_count": 0,
      "outputs": [
        {
          "output_type": "execute_result",
          "data": {
            "text/plain": [
              "3136"
            ]
          },
          "metadata": {
            "tags": []
          },
          "execution_count": 45
        }
      ]
    },
    {
      "cell_type": "code",
      "metadata": {
        "id": "kLNXjv1cE6XU",
        "colab_type": "code",
        "outputId": "81c074d6-008c-48f4-e84c-b8c254813e6f",
        "colab": {
          "base_uri": "https://localhost:8080/",
          "height": 1105
        }
      },
      "source": [
        "print('feature (pixel) importances:', '\\n')  # Interpretability of decision tree\n",
        "pd.Series(clf.feature_importances_, index=['pixel '+str((i,j)) for i in range(56) for j in range(56)]).sort_values(ascending=False)"
      ],
      "execution_count": 0,
      "outputs": [
        {
          "output_type": "stream",
          "text": [
            "feature (pixel) importances: \n",
            "\n"
          ],
          "name": "stdout"
        },
        {
          "output_type": "execute_result",
          "data": {
            "text/plain": [
              "pixel (24, 16)    0.055072\n",
              "pixel (10, 15)    0.054781\n",
              "pixel (43, 41)    0.052373\n",
              "pixel (45, 12)    0.051723\n",
              "pixel (6, 29)     0.051247\n",
              "pixel (23, 47)    0.051071\n",
              "pixel (38, 22)    0.039216\n",
              "pixel (36, 14)    0.037051\n",
              "pixel (17, 40)    0.035436\n",
              "pixel (25, 29)    0.023956\n",
              "pixel (20, 36)    0.022219\n",
              "pixel (29, 31)    0.014434\n",
              "pixel (37, 22)    0.011676\n",
              "pixel (46, 12)    0.011298\n",
              "pixel (28, 26)    0.010911\n",
              "pixel (20, 23)    0.009975\n",
              "pixel (39, 19)    0.009815\n",
              "pixel (24, 24)    0.009592\n",
              "pixel (18, 39)    0.009359\n",
              "pixel (26, 23)    0.008722\n",
              "pixel (10, 45)    0.006710\n",
              "pixel (12, 19)    0.006423\n",
              "pixel (49, 28)    0.006388\n",
              "pixel (42, 10)    0.006113\n",
              "pixel (55, 26)    0.005832\n",
              "pixel (7, 27)     0.005343\n",
              "pixel (18, 15)    0.005310\n",
              "pixel (24, 37)    0.005184\n",
              "pixel (5, 34)     0.004660\n",
              "pixel (37, 24)    0.004455\n",
              "                    ...   \n",
              "pixel (14, 9)     0.000000\n",
              "pixel (40, 51)    0.000000\n",
              "pixel (40, 53)    0.000000\n",
              "pixel (40, 54)    0.000000\n",
              "pixel (40, 55)    0.000000\n",
              "pixel (41, 0)     0.000000\n",
              "pixel (41, 1)     0.000000\n",
              "pixel (41, 4)     0.000000\n",
              "pixel (41, 5)     0.000000\n",
              "pixel (41, 6)     0.000000\n",
              "pixel (41, 16)    0.000000\n",
              "pixel (41, 22)    0.000000\n",
              "pixel (41, 34)    0.000000\n",
              "pixel (14, 10)    0.000000\n",
              "pixel (14, 8)     0.000000\n",
              "pixel (41, 52)    0.000000\n",
              "pixel (14, 7)     0.000000\n",
              "pixel (14, 6)     0.000000\n",
              "pixel (14, 5)     0.000000\n",
              "pixel (41, 37)    0.000000\n",
              "pixel (14, 3)     0.000000\n",
              "pixel (14, 1)     0.000000\n",
              "pixel (14, 0)     0.000000\n",
              "pixel (41, 40)    0.000000\n",
              "pixel (41, 44)    0.000000\n",
              "pixel (41, 45)    0.000000\n",
              "pixel (13, 45)    0.000000\n",
              "pixel (41, 50)    0.000000\n",
              "pixel (41, 51)    0.000000\n",
              "pixel (0, 0)      0.000000\n",
              "Length: 3136, dtype: float64"
            ]
          },
          "metadata": {
            "tags": []
          },
          "execution_count": 46
        }
      ]
    },
    {
      "cell_type": "code",
      "metadata": {
        "id": "RyfptykoMU9y",
        "colab_type": "code",
        "colab": {}
      },
      "source": [
        "# Plot it\n",
        "importance = pd.Series(clf.feature_importances_, index=['pixel '+str((i,j)) for i in range(56) for j in range(56)])"
      ],
      "execution_count": 0,
      "outputs": []
    },
    {
      "cell_type": "code",
      "metadata": {
        "id": "GAyWqM4POX4O",
        "colab_type": "code",
        "outputId": "25c507d4-5ea3-4121-a871-c7d65e610830",
        "colab": {
          "base_uri": "https://localhost:8080/",
          "height": 432
        }
      },
      "source": [
        "plt.figure(figsize=(7,7))\n",
        "image_importance = (importance.values).reshape((56, 56))\n",
        "plt.imshow(image_importance, cmap='gray')\n",
        "plt.show()"
      ],
      "execution_count": 0,
      "outputs": [
        {
          "output_type": "display_data",
          "data": {
            "image/png": "iVBORw0KGgoAAAANSUhEUgAAAaIAAAGfCAYAAAAd79YcAAAABHNCSVQICAgIfAhkiAAAAAlwSFlz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\nXe36ZFNZVgAAAABJRU5ErkJggg==\n",
            "text/plain": [
              "<Figure size 504x504 with 1 Axes>"
            ]
          },
          "metadata": {
            "tags": []
          }
        }
      ]
    },
    {
      "cell_type": "markdown",
      "metadata": {
        "id": "mj_gSvgtK2ZO",
        "colab_type": "text"
      },
      "source": [
        "## Random forests"
      ]
    },
    {
      "cell_type": "markdown",
      "metadata": {
        "id": "lNjDdCD1MWVr",
        "colab_type": "text"
      },
      "source": [
        "### 100 + gini"
      ]
    },
    {
      "cell_type": "code",
      "metadata": {
        "id": "6Kx8JQL5KbZk",
        "colab_type": "code",
        "outputId": "a4e22639-279f-4a52-c962-fb914f586db2",
        "colab": {
          "base_uri": "https://localhost:8080/",
          "height": 170
        }
      },
      "source": [
        "%%time\n",
        "clf = RandomForestClassifier(n_estimators=100, criterion='gini')\n",
        "clf.fit(x_train_full, y_train_full)"
      ],
      "execution_count": 0,
      "outputs": [
        {
          "output_type": "stream",
          "text": [
            "CPU times: user 11min 56s, sys: 195 ms, total: 11min 56s\n",
            "Wall time: 11min 56s\n"
          ],
          "name": "stdout"
        },
        {
          "output_type": "execute_result",
          "data": {
            "text/plain": [
              "RandomForestClassifier(bootstrap=True, class_weight=None, criterion='gini',\n",
              "                       max_depth=None, max_features='auto', max_leaf_nodes=None,\n",
              "                       min_impurity_decrease=0.0, min_impurity_split=None,\n",
              "                       min_samples_leaf=1, min_samples_split=2,\n",
              "                       min_weight_fraction_leaf=0.0, n_estimators=100,\n",
              "                       n_jobs=None, oob_score=False, random_state=None,\n",
              "                       verbose=0, warm_start=False)"
            ]
          },
          "metadata": {
            "tags": []
          },
          "execution_count": 75
        }
      ]
    },
    {
      "cell_type": "code",
      "metadata": {
        "id": "11tMw9r0KbPs",
        "colab_type": "code",
        "outputId": "bb040eff-eb9e-4353-b0e6-fa636aa0b2f2",
        "colab": {
          "base_uri": "https://localhost:8080/",
          "height": 510
        }
      },
      "source": [
        "acc = accuracy_score(y_test_full, y_predicted)\n",
        "print('accuracy: ', acc*100.0)\n",
        "report = classification_report(y_test_full, y_predicted)\n",
        "print(report)\n",
        "\n",
        "M = confusion_matrix(y_test_full, y_predicted)\n",
        "# Manually print confusion matrix\n",
        "print('  ', end='  ')\n",
        "print('\\033[1m'+'0    ', end='')\n",
        "for j in labels[1:]:\n",
        "    print(str(j), end='   ')\n",
        "print('\\033[0m')\n",
        "for idx, i in enumerate(Mconfusion):\n",
        "    print('\\033[1m'+str(labels[idx])+'\\033[0m', end=' ')\n",
        "    for j in i:\n",
        "        print('%3d' % (j), end=' ')\n",
        "    print()"
      ],
      "execution_count": 0,
      "outputs": [
        {
          "output_type": "stream",
          "text": [
            "accuracy:  97.475\n",
            "              precision    recall  f1-score   support\n",
            "\n",
            "           0       0.98      0.98      0.98      2000\n",
            "           1       0.98      0.99      0.99      2000\n",
            "           2       0.97      0.98      0.98      2000\n",
            "           3       0.97      0.97      0.97      2000\n",
            "           4       0.96      0.98      0.97      2000\n",
            "           5       0.98      0.97      0.98      2000\n",
            "           6       0.99      0.98      0.98      2000\n",
            "           7       0.98      0.97      0.98      2000\n",
            "           8       0.96      0.96      0.96      2000\n",
            "           9       0.96      0.97      0.96      2000\n",
            "\n",
            "    accuracy                           0.97     20000\n",
            "   macro avg       0.97      0.97      0.97     20000\n",
            "weighted avg       0.97      0.97      0.97     20000\n",
            "\n",
            "    \u001b[1m0    1   2   3   4   5   6   7   8   9   \u001b[0m\n",
            "\u001b[1m0\u001b[0m 1987   3   1   1   1   1   3   1   0   2 \n",
            "\u001b[1m1\u001b[0m   0 1995   3   0   1   0   0   1   0   0 \n",
            "\u001b[1m2\u001b[0m   8   2 1964  10   0   2   1   9   3   1 \n",
            "\u001b[1m3\u001b[0m   3   4  13 1955   0   9   1   6   8   1 \n",
            "\u001b[1m4\u001b[0m   1   6   0   0 1958   1   5   2   0  27 \n",
            "\u001b[1m5\u001b[0m   3   3   1  19   1 1960   6   0   5   2 \n",
            "\u001b[1m6\u001b[0m   9   5   1   0   1   5 1977   0   2   0 \n",
            "\u001b[1m7\u001b[0m   1  10   1   0   6   0   0 1969   0  13 \n",
            "\u001b[1m8\u001b[0m   9  12   4  13   5  10   6   2 1926  13 \n",
            "\u001b[1m9\u001b[0m   5   3   0   3  12   1   0  24   4 1948 \n"
          ],
          "name": "stdout"
        }
      ]
    },
    {
      "cell_type": "code",
      "metadata": {
        "id": "ZUsut68hTc0H",
        "colab_type": "code",
        "colab": {}
      },
      "source": [
        "np.save('./RF_100gini_Matrix', M, allow_pickle=False)  # Save confusion matrix .npz and .csv \n",
        "np.savetxt(\"./RF_100gini_Matrix.csv\", M, delimiter=\",\")"
      ],
      "execution_count": 0,
      "outputs": []
    },
    {
      "cell_type": "markdown",
      "metadata": {
        "id": "7sK9kDEuTJN1",
        "colab_type": "text"
      },
      "source": [
        "### 100 + entropy"
      ]
    },
    {
      "cell_type": "code",
      "metadata": {
        "id": "H0RgveRgTEj6",
        "colab_type": "code",
        "outputId": "badc7cf1-2aa2-4fb5-bcb6-12a19e8f890d",
        "colab": {
          "base_uri": "https://localhost:8080/",
          "height": 51
        }
      },
      "source": [
        "%%time\n",
        "clf = RandomForestClassifier(n_estimators=100, criterion='entropy')\n",
        "clf.fit(x_train_full, y_train_full)"
      ],
      "execution_count": 0,
      "outputs": [
        {
          "output_type": "stream",
          "text": [
            "CPU times: user 10min, sys: 131 ms, total: 10min\n",
            "Wall time: 10min\n"
          ],
          "name": "stdout"
        }
      ]
    },
    {
      "cell_type": "code",
      "metadata": {
        "id": "rAFeEyVCTbVk",
        "colab_type": "code",
        "outputId": "b4583d7a-e1ad-4859-8b5e-5e35104fbacb",
        "colab": {
          "base_uri": "https://localhost:8080/",
          "height": 510
        }
      },
      "source": [
        "acc = accuracy_score(y_test_full, y_predicted)\n",
        "print('accuracy: ', acc*100.0)\n",
        "report = classification_report(y_test_full, y_predicted)\n",
        "print(report)\n",
        "\n",
        "M = confusion_matrix(y_test_full, y_predicted)\n",
        "# Manually print confusion matrix\n",
        "print('  ', end='  ')\n",
        "print('\\033[1m'+'0    ', end='')\n",
        "for j in labels[1:]:\n",
        "    print(str(j), end='   ')\n",
        "print('\\033[0m')\n",
        "for idx, i in enumerate(Mconfusion):\n",
        "    print('\\033[1m'+str(labels[idx])+'\\033[0m', end=' ')\n",
        "    for j in i:\n",
        "        print('%3d' % (j), end=' ')\n",
        "    print()"
      ],
      "execution_count": 0,
      "outputs": [
        {
          "output_type": "stream",
          "text": [
            "accuracy:  97.475\n",
            "              precision    recall  f1-score   support\n",
            "\n",
            "           0       0.98      0.98      0.98      2000\n",
            "           1       0.98      0.99      0.99      2000\n",
            "           2       0.97      0.98      0.98      2000\n",
            "           3       0.97      0.97      0.97      2000\n",
            "           4       0.96      0.98      0.97      2000\n",
            "           5       0.98      0.97      0.98      2000\n",
            "           6       0.99      0.98      0.98      2000\n",
            "           7       0.98      0.97      0.98      2000\n",
            "           8       0.96      0.96      0.96      2000\n",
            "           9       0.96      0.97      0.96      2000\n",
            "\n",
            "    accuracy                           0.97     20000\n",
            "   macro avg       0.97      0.97      0.97     20000\n",
            "weighted avg       0.97      0.97      0.97     20000\n",
            "\n",
            "    \u001b[1m0    1   2   3   4   5   6   7   8   9   \u001b[0m\n",
            "\u001b[1m0\u001b[0m 1987   3   1   1   1   1   3   1   0   2 \n",
            "\u001b[1m1\u001b[0m   0 1995   3   0   1   0   0   1   0   0 \n",
            "\u001b[1m2\u001b[0m   8   2 1964  10   0   2   1   9   3   1 \n",
            "\u001b[1m3\u001b[0m   3   4  13 1955   0   9   1   6   8   1 \n",
            "\u001b[1m4\u001b[0m   1   6   0   0 1958   1   5   2   0  27 \n",
            "\u001b[1m5\u001b[0m   3   3   1  19   1 1960   6   0   5   2 \n",
            "\u001b[1m6\u001b[0m   9   5   1   0   1   5 1977   0   2   0 \n",
            "\u001b[1m7\u001b[0m   1  10   1   0   6   0   0 1969   0  13 \n",
            "\u001b[1m8\u001b[0m   9  12   4  13   5  10   6   2 1926  13 \n",
            "\u001b[1m9\u001b[0m   5   3   0   3  12   1   0  24   4 1948 \n"
          ],
          "name": "stdout"
        }
      ]
    },
    {
      "cell_type": "code",
      "metadata": {
        "id": "wkcNGG1vTnk3",
        "colab_type": "code",
        "colab": {}
      },
      "source": [
        "np.save('./RF_100entropy_Matrix', M, allow_pickle=False)  # Save confusion matrix .npz and .csv \n",
        "np.savetxt(\"./RF_100entropy_Matrix.csv\", M, delimiter=\",\")"
      ],
      "execution_count": 0,
      "outputs": []
    },
    {
      "cell_type": "markdown",
      "metadata": {
        "id": "LCLHBslWAyrS",
        "colab_type": "text"
      },
      "source": [
        "# Deep Neural Network"
      ]
    },
    {
      "cell_type": "markdown",
      "metadata": {
        "id": "ownka5qiK6IA",
        "colab_type": "text"
      },
      "source": [
        "## Architecture"
      ]
    },
    {
      "cell_type": "code",
      "metadata": {
        "id": "R1iM1uhx3XC5",
        "colab_type": "code",
        "colab": {}
      },
      "source": [
        "BOX_SIZE = 56                        \n",
        "image_shape = (BOX_SIZE, BOX_SIZE, 1)  \n",
        "labels = ['0', '1', '2', '3', '4', '5', '6', '7', '8', '9']\n",
        "number_of_classes = len(labels)        "
      ],
      "execution_count": 0,
      "outputs": []
    },
    {
      "cell_type": "code",
      "metadata": {
        "id": "s_tWHo0W3W-6",
        "colab_type": "code",
        "outputId": "f521bcd9-919b-47b3-fcda-19466d092e43",
        "colab": {
          "base_uri": "https://localhost:8080/",
          "height": 139
        }
      },
      "source": [
        "x_input = Input(shape=image_shape)  \n",
        "\n",
        "x = Conv2D(filters=32, kernel_size=(3,3), strides=(1,1), activation='relu', padding='valid')(x_input)\n",
        "x = Conv2D(filters=32, kernel_size=(3,3), strides=(1,1), activation='relu', padding='valid')(x) \n",
        "x = BatchNormalization()(x)\n",
        "x = MaxPool2D(pool_size=(2,2), padding='valid')(x)                                                      \n",
        "x = Conv2D(filters=48, kernel_size=(3,3), strides=(1,1), activation='relu', padding='valid')(x)        \n",
        "x = Conv2D(filters=48, kernel_size=(3,3), strides=(1,1), activation='relu', padding='valid')(x) \n",
        "x = BatchNormalization()(x)\n",
        "x = MaxPool2D(pool_size=(2,2), padding='valid')(x)                                                      \n",
        "x = Conv2D(filters=64, kernel_size=(3,3), strides=(1,1), activation='relu', padding='valid')(x)        \n",
        "x = Conv2D(filters=64, kernel_size=(3,3), strides=(1,1), activation='relu', padding='valid')(x) \n",
        "x = BatchNormalization()(x)\n",
        "x = MaxPool2D(pool_size=(3, 3), padding='valid')(x)                                                    \n",
        "x = Flatten()(x)                                                                                       \n",
        "\n",
        "x = Dense(units=768, activation='relu')(x)         \n",
        "x = Dropout(rate=0.25)(x)                          \n",
        "x = Dense(units=256, name='next_to_last')(x)                           \n",
        "x = Dropout(rate=0.25)(x)                          \n",
        "\n",
        "y_output = Dense(units=number_of_classes, activation='softmax')(x)  "
      ],
      "execution_count": 0,
      "outputs": [
        {
          "output_type": "stream",
          "text": [
            "WARNING:tensorflow:From /usr/local/lib/python3.6/dist-packages/tensorflow/python/framework/op_def_library.py:263: colocate_with (from tensorflow.python.framework.ops) is deprecated and will be removed in a future version.\n",
            "Instructions for updating:\n",
            "Colocations handled automatically by placer.\n",
            "WARNING:tensorflow:From /usr/local/lib/python3.6/dist-packages/keras/backend/tensorflow_backend.py:3445: calling dropout (from tensorflow.python.ops.nn_ops) with keep_prob is deprecated and will be removed in a future version.\n",
            "Instructions for updating:\n",
            "Please use `rate` instead of `keep_prob`. Rate should be set to `rate = 1 - keep_prob`.\n"
          ],
          "name": "stdout"
        }
      ]
    },
    {
      "cell_type": "code",
      "metadata": {
        "id": "QogcEfLg3W6W",
        "colab_type": "code",
        "colab": {}
      },
      "source": [
        "recognizer = Model(inputs=x_input, outputs=y_output, name='recognizer')"
      ],
      "execution_count": 0,
      "outputs": []
    },
    {
      "cell_type": "code",
      "metadata": {
        "id": "s4MicEWv3W2C",
        "colab_type": "code",
        "outputId": "88758825-d3d6-441b-c801-2655f6a3483f",
        "colab": {
          "base_uri": "https://localhost:8080/",
          "height": 782
        }
      },
      "source": [
        "recognizer.summary()"
      ],
      "execution_count": 0,
      "outputs": [
        {
          "output_type": "stream",
          "text": [
            "_________________________________________________________________\n",
            "Layer (type)                 Output Shape              Param #   \n",
            "=================================================================\n",
            "input_1 (InputLayer)         (None, 56, 56, 1)         0         \n",
            "_________________________________________________________________\n",
            "conv2d_1 (Conv2D)            (None, 54, 54, 32)        320       \n",
            "_________________________________________________________________\n",
            "conv2d_2 (Conv2D)            (None, 52, 52, 32)        9248      \n",
            "_________________________________________________________________\n",
            "batch_normalization_1 (Batch (None, 52, 52, 32)        128       \n",
            "_________________________________________________________________\n",
            "max_pooling2d_1 (MaxPooling2 (None, 26, 26, 32)        0         \n",
            "_________________________________________________________________\n",
            "conv2d_3 (Conv2D)            (None, 24, 24, 48)        13872     \n",
            "_________________________________________________________________\n",
            "conv2d_4 (Conv2D)            (None, 22, 22, 48)        20784     \n",
            "_________________________________________________________________\n",
            "batch_normalization_2 (Batch (None, 22, 22, 48)        192       \n",
            "_________________________________________________________________\n",
            "max_pooling2d_2 (MaxPooling2 (None, 11, 11, 48)        0         \n",
            "_________________________________________________________________\n",
            "conv2d_5 (Conv2D)            (None, 9, 9, 64)          27712     \n",
            "_________________________________________________________________\n",
            "conv2d_6 (Conv2D)            (None, 7, 7, 64)          36928     \n",
            "_________________________________________________________________\n",
            "batch_normalization_3 (Batch (None, 7, 7, 64)          256       \n",
            "_________________________________________________________________\n",
            "max_pooling2d_3 (MaxPooling2 (None, 2, 2, 64)          0         \n",
            "_________________________________________________________________\n",
            "flatten_1 (Flatten)          (None, 256)               0         \n",
            "_________________________________________________________________\n",
            "dense_1 (Dense)              (None, 768)               197376    \n",
            "_________________________________________________________________\n",
            "dropout_1 (Dropout)          (None, 768)               0         \n",
            "_________________________________________________________________\n",
            "next_to_last (Dense)         (None, 256)               196864    \n",
            "_________________________________________________________________\n",
            "dropout_2 (Dropout)          (None, 256)               0         \n",
            "_________________________________________________________________\n",
            "dense_2 (Dense)              (None, 10)                2570      \n",
            "=================================================================\n",
            "Total params: 506,250\n",
            "Trainable params: 505,962\n",
            "Non-trainable params: 288\n",
            "_________________________________________________________________\n"
          ],
          "name": "stdout"
        }
      ]
    },
    {
      "cell_type": "code",
      "metadata": {
        "id": "Fd1y849V3Wwg",
        "colab_type": "code",
        "colab": {}
      },
      "source": [
        "recognizer.compile(optimizer=Adam(lr=1e-3), loss=categorical_crossentropy, metrics=['accuracy'])   # beta_1=0.9, beta_2=0.999"
      ],
      "execution_count": 0,
      "outputs": []
    },
    {
      "cell_type": "code",
      "metadata": {
        "id": "3AeNro0a3Wr4",
        "colab_type": "code",
        "colab": {}
      },
      "source": [
        "reduce = ReduceLROnPlateau(monitor='val_loss', factor=0.5, patience=1, verbose=1, mode='min', #add min_delta\n",
        "                           cooldown=1, min_le=1e-8)\n",
        "\n",
        "estop = EarlyStopping(monitor='val_loss', min_delta=0, patience=4, verbose=1, mode='min')\n",
        "\n",
        "excel = CSVLogger(filename='./CNN.csv', separator=',', append=False)\n",
        "\n",
        "checkp = ModelCheckpoint('./CNN_weights.h5', monitor='val_loss', verbose=1, save_best_only=True, save_weights_only=True, mode='auto', period=1)"
      ],
      "execution_count": 0,
      "outputs": []
    },
    {
      "cell_type": "markdown",
      "metadata": {
        "id": "WE2sD5EWK-rG",
        "colab_type": "text"
      },
      "source": [
        "## Training"
      ]
    },
    {
      "cell_type": "code",
      "metadata": {
        "id": "q0UPLP2vf9wG",
        "colab_type": "code",
        "colab": {}
      },
      "source": [
        "class SequenceGenerator(Sequence):\n",
        "  # infodisk - [(path, label, writer)]\n",
        "  # batch_size - size of batch\n",
        "  \n",
        "    def __init__(self, xs, ys, batch_size):\n",
        "      self.xs = np.array(xs)\n",
        "      self.ys = np.array(ys)\n",
        "      self.batch_size = batch_size\n",
        "    \n",
        "    def __len__(self):\n",
        "      return int(np.ceil(len(self.xs)/float(self.batch_size)))\n",
        "  \n",
        "    def __getitem__(self, index):\n",
        "      _xs = self.xs[index*self.batch_size: (index+1)*self.batch_size]\n",
        "      _ys = self.ys[index*self.batch_size: (index+1)*self.batch_size]\n",
        "    \n",
        "      return np.array([(x.reshape(BOX_SIZE, BOX_SIZE, 1))/255.0 for x in _xs]), to_categorical(_ys, number_of_classes)\n",
        "  \n",
        "    def on_epoch_end(self):\n",
        "      self.xs, self.ys = shuffle(self.xs, self.ys)"
      ],
      "execution_count": 0,
      "outputs": []
    },
    {
      "cell_type": "code",
      "metadata": {
        "id": "aWUQYwu_gLQv",
        "colab_type": "code",
        "outputId": "d75b1488-d9ff-4e3c-9c43-5305c89af013",
        "colab": {
          "base_uri": "https://localhost:8080/",
          "height": 51
        }
      },
      "source": [
        "test = SequenceGenerator(x_train, y_train, 50)\n",
        "x, y = test.__getitem__(0)\n",
        "print(x.shape)\n",
        "print(y.shape)"
      ],
      "execution_count": 0,
      "outputs": [
        {
          "output_type": "stream",
          "text": [
            "(50, 56, 56, 1)\n",
            "(50, 10)\n"
          ],
          "name": "stdout"
        }
      ]
    },
    {
      "cell_type": "code",
      "metadata": {
        "id": "ik_uZavUjHD8",
        "colab_type": "code",
        "outputId": "60e7b1c5-2c82-4b7c-9cdb-03c3051e99ea",
        "colab": {
          "base_uri": "https://localhost:8080/",
          "height": 34
        }
      },
      "source": [
        "np.array(x_train).shape"
      ],
      "execution_count": 0,
      "outputs": [
        {
          "output_type": "execute_result",
          "data": {
            "text/plain": [
              "(120000, 56, 56)"
            ]
          },
          "metadata": {
            "tags": []
          },
          "execution_count": 32
        }
      ]
    },
    {
      "cell_type": "code",
      "metadata": {
        "id": "XNjdHiUZhTEU",
        "colab_type": "code",
        "colab": {}
      },
      "source": [
        "train_generator = SequenceGenerator(x_train[:100_000], y_train[:100_000], 1000)\n",
        "validation_generator = SequenceGenerator(x_train[100_000:], y_train[100_000:], 1000)"
      ],
      "execution_count": 0,
      "outputs": []
    },
    {
      "cell_type": "code",
      "metadata": {
        "id": "mU_GMd3Q3WlE",
        "colab_type": "code",
        "outputId": "71107de6-9700-407f-c862-fe8a84d97f3e",
        "colab": {
          "base_uri": "https://localhost:8080/",
          "height": 1227
        }
      },
      "source": [
        "history = recognizer.fit_generator(generator=train_generator, epochs=15, verbose=1,\n",
        "                                   use_multiprocessing=False, workers=2, validation_data=validation_generator,\n",
        "                                   callbacks=[reduce, estop, excel, checkp])"
      ],
      "execution_count": 0,
      "outputs": [
        {
          "output_type": "stream",
          "text": [
            "WARNING:tensorflow:From /usr/local/lib/python3.6/dist-packages/tensorflow/python/ops/math_ops.py:3066: to_int32 (from tensorflow.python.ops.math_ops) is deprecated and will be removed in a future version.\n",
            "Instructions for updating:\n",
            "Use tf.cast instead.\n",
            "Epoch 1/15\n",
            "100/100 [==============================] - 28s 276ms/step - loss: 0.2886 - acc: 0.9242 - val_loss: 0.1035 - val_acc: 0.9684\n",
            "\n",
            "Epoch 00001: val_loss improved from inf to 0.10350, saving model to ./CNN_weights.h5\n",
            "Epoch 2/15\n",
            "100/100 [==============================] - 21s 213ms/step - loss: 0.0460 - acc: 0.9863 - val_loss: 0.0497 - val_acc: 0.9848\n",
            "\n",
            "Epoch 00002: val_loss improved from 0.10350 to 0.04972, saving model to ./CNN_weights.h5\n",
            "Epoch 3/15\n",
            "100/100 [==============================] - 22s 218ms/step - loss: 0.0337 - acc: 0.9900 - val_loss: 0.0400 - val_acc: 0.9882\n",
            "\n",
            "Epoch 00003: val_loss improved from 0.04972 to 0.04004, saving model to ./CNN_weights.h5\n",
            "Epoch 4/15\n",
            "100/100 [==============================] - 22s 221ms/step - loss: 0.0275 - acc: 0.9918 - val_loss: 0.0453 - val_acc: 0.9863\n",
            "\n",
            "Epoch 00004: ReduceLROnPlateau reducing learning rate to 0.0005000000237487257.\n",
            "\n",
            "Epoch 00004: val_loss did not improve from 0.04004\n",
            "Epoch 5/15\n",
            "100/100 [==============================] - 23s 226ms/step - loss: 0.0173 - acc: 0.9948 - val_loss: 0.0276 - val_acc: 0.9917\n",
            "\n",
            "Epoch 00005: val_loss improved from 0.04004 to 0.02757, saving model to ./CNN_weights.h5\n",
            "Epoch 6/15\n",
            "100/100 [==============================] - 23s 228ms/step - loss: 0.0132 - acc: 0.9960 - val_loss: 0.0308 - val_acc: 0.9915\n",
            "\n",
            "Epoch 00006: ReduceLROnPlateau reducing learning rate to 0.0002500000118743628.\n",
            "\n",
            "Epoch 00006: val_loss did not improve from 0.02757\n",
            "Epoch 7/15\n",
            "100/100 [==============================] - 22s 224ms/step - loss: 0.0093 - acc: 0.9973 - val_loss: 0.0214 - val_acc: 0.9935\n",
            "\n",
            "Epoch 00007: val_loss improved from 0.02757 to 0.02135, saving model to ./CNN_weights.h5\n",
            "Epoch 8/15\n",
            "100/100 [==============================] - 22s 225ms/step - loss: 0.0085 - acc: 0.9973 - val_loss: 0.0215 - val_acc: 0.9938\n",
            "\n",
            "Epoch 00008: ReduceLROnPlateau reducing learning rate to 0.0001250000059371814.\n",
            "\n",
            "Epoch 00008: val_loss did not improve from 0.02135\n",
            "Epoch 9/15\n",
            "100/100 [==============================] - 23s 227ms/step - loss: 0.0062 - acc: 0.9984 - val_loss: 0.0207 - val_acc: 0.9938\n",
            "\n",
            "Epoch 00009: val_loss improved from 0.02135 to 0.02073, saving model to ./CNN_weights.h5\n",
            "Epoch 10/15\n",
            "100/100 [==============================] - 23s 226ms/step - loss: 0.0057 - acc: 0.9985 - val_loss: 0.0227 - val_acc: 0.9939\n",
            "\n",
            "Epoch 00010: ReduceLROnPlateau reducing learning rate to 6.25000029685907e-05.\n",
            "\n",
            "Epoch 00010: val_loss did not improve from 0.02073\n",
            "Epoch 11/15\n",
            "100/100 [==============================] - 23s 225ms/step - loss: 0.0052 - acc: 0.9988 - val_loss: 0.0212 - val_acc: 0.9940\n",
            "\n",
            "Epoch 00011: ReduceLROnPlateau reducing learning rate to 3.125000148429535e-05.\n",
            "\n",
            "Epoch 00011: val_loss did not improve from 0.02073\n",
            "Epoch 12/15\n",
            "100/100 [==============================] - 23s 226ms/step - loss: 0.0046 - acc: 0.9989 - val_loss: 0.0214 - val_acc: 0.9941\n",
            "\n",
            "Epoch 00012: ReduceLROnPlateau reducing learning rate to 1.5625000742147677e-05.\n",
            "\n",
            "Epoch 00012: val_loss did not improve from 0.02073\n",
            "Epoch 13/15\n",
            "100/100 [==============================] - 23s 226ms/step - loss: 0.0045 - acc: 0.9989 - val_loss: 0.0216 - val_acc: 0.9938\n",
            "\n",
            "Epoch 00013: ReduceLROnPlateau reducing learning rate to 7.812500371073838e-06.\n",
            "\n",
            "Epoch 00013: val_loss did not improve from 0.02073\n",
            "Epoch 00013: early stopping\n"
          ],
          "name": "stdout"
        }
      ]
    },
    {
      "cell_type": "code",
      "metadata": {
        "id": "uA7yxHvonx4a",
        "colab_type": "code",
        "outputId": "c72d53d9-ef5c-4250-f08e-740414de6d9a",
        "colab": {
          "base_uri": "https://localhost:8080/",
          "height": 51
        }
      },
      "source": [
        "recognizer.evaluate(x=(np.array(x_test)/255.0).reshape(len(x_test), BOX_SIZE, BOX_SIZE, 1), y=to_categorical(np.array(y_test), number_of_classes), batch_size=256, verbose=1)"
      ],
      "execution_count": 0,
      "outputs": [
        {
          "output_type": "stream",
          "text": [
            "20000/20000 [==============================] - 2s 92us/step\n"
          ],
          "name": "stdout"
        },
        {
          "output_type": "execute_result",
          "data": {
            "text/plain": [
              "[0.022843417364917695, 0.99415]"
            ]
          },
          "metadata": {
            "tags": []
          },
          "execution_count": 35
        }
      ]
    },
    {
      "cell_type": "code",
      "metadata": {
        "id": "NdRLlsCZoIFi",
        "colab_type": "code",
        "colab": {}
      },
      "source": [
        "recognizer.save_weights('./CNN_weights.h5') \n",
        "recognizer.save('./CNN_model.h5') "
      ],
      "execution_count": 0,
      "outputs": []
    },
    {
      "cell_type": "markdown",
      "metadata": {
        "id": "gwCy6gtNLB3p",
        "colab_type": "text"
      },
      "source": [
        "## Evaluation"
      ]
    },
    {
      "cell_type": "code",
      "metadata": {
        "id": "xDViU7k4oUtd",
        "colab_type": "code",
        "outputId": "468f30f9-dd19-4a65-ba62-c1879f63704f",
        "colab": {
          "base_uri": "https://localhost:8080/",
          "height": 295
        }
      },
      "source": [
        "epochs = history.epoch\n",
        "loss = history.history['loss']\n",
        "val_loss = history.history['val_loss']\n",
        "\n",
        "plt.title('Loss/Val loss curve')\n",
        "plt.xlabel('epochs')\n",
        "plt.ylabel('loss')\n",
        "plt.plot(epochs, loss, color='red', label='training')\n",
        "plt.plot(epochs, val_loss, color='orange', label='validation')\n",
        "plt.legend()\n",
        "plt.show()"
      ],
      "execution_count": 0,
      "outputs": [
        {
          "output_type": "display_data",
          "data": {
            "image/png": "iVBORw0KGgoAAAANSUhEUgAAAYsAAAEWCAYAAACXGLsWAAAABHNCSVQICAgIfAhkiAAAAAlwSFlz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\nwkJERJJSWIiISFIKCxERSUphISIiSf1/dgCtGjVdMyIAAAAASUVORK5CYII=\n",
            "text/plain": [
              "<Figure size 432x288 with 1 Axes>"
            ]
          },
          "metadata": {
            "tags": []
          }
        }
      ]
    },
    {
      "cell_type": "code",
      "metadata": {
        "id": "g8_iwADnoYHL",
        "colab_type": "code",
        "outputId": "175a41c1-0c62-43eb-b3a5-20699b3eb9a0",
        "colab": {
          "base_uri": "https://localhost:8080/",
          "height": 295
        }
      },
      "source": [
        "acc = history.history['acc']\n",
        "val_acc = history.history['val_acc']\n",
        "\n",
        "plt.title('Acc/Val acc curve')\n",
        "plt.xlabel('epochs')\n",
        "plt.ylabel('accuracy')\n",
        "plt.plot(epochs, acc, color='red', label='training')\n",
        "plt.plot(epochs, val_acc, color='orange', label='validation')\n",
        "plt.legend()\n",
        "plt.show()"
      ],
      "execution_count": 0,
      "outputs": [
        {
          "output_type": "display_data",
          "data": {
            "image/png": "iVBORw0KGgoAAAANSUhEUgAAAYsAAAEWCAYAAACXGLsWAAAABHNCSVQICAgIfAhkiAAAAAlwSFlz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\ngg==\n",
            "text/plain": [
              "<Figure size 432x288 with 1 Axes>"
            ]
          },
          "metadata": {
            "tags": []
          }
        }
      ]
    },
    {
      "cell_type": "code",
      "metadata": {
        "id": "1YkLNYx7odDL",
        "colab_type": "code",
        "outputId": "6e58455a-b492-4aab-f113-1b6017b00146",
        "colab": {
          "base_uri": "https://localhost:8080/",
          "height": 357
        }
      },
      "source": [
        "from sklearn.metrics import accuracy_score\n",
        "from sklearn.metrics import classification_report\n",
        "\n",
        "y_predicted = np.argmax(recognizer.predict((np.array(x_test)/255.0).reshape(len(x_test), BOX_SIZE, BOX_SIZE, 1)), axis=1)\n",
        "print('predicted: ', y_predicted[0:5])\n",
        "print('test: ', y_test[0:5])\n",
        "acc = accuracy_score(y_test, y_predicted)\n",
        "print(acc*100.0)\n",
        "report = classification_report(y_test, y_predicted)\n",
        "print(report)"
      ],
      "execution_count": 0,
      "outputs": [
        {
          "output_type": "stream",
          "text": [
            "predicted:  [1 3 6 0 9]\n",
            "test:  [1, 3, 6, 0, 9]\n",
            "99.41499999999999\n",
            "              precision    recall  f1-score   support\n",
            "\n",
            "           0       1.00      1.00      1.00      2000\n",
            "           1       0.99      1.00      1.00      2000\n",
            "           2       0.99      0.99      0.99      2000\n",
            "           3       1.00      0.99      0.99      2000\n",
            "           4       0.99      0.99      0.99      2000\n",
            "           5       0.99      0.99      0.99      2000\n",
            "           6       1.00      1.00      1.00      2000\n",
            "           7       0.99      0.99      0.99      2000\n",
            "           8       0.99      0.99      0.99      2000\n",
            "           9       0.99      0.99      0.99      2000\n",
            "\n",
            "    accuracy                           0.99     20000\n",
            "   macro avg       0.99      0.99      0.99     20000\n",
            "weighted avg       0.99      0.99      0.99     20000\n",
            "\n"
          ],
          "name": "stdout"
        }
      ]
    },
    {
      "cell_type": "code",
      "metadata": {
        "id": "BChzMP9apOt7",
        "colab_type": "code",
        "outputId": "72d08c07-c1b0-442f-dc89-06bfd8c9bdd0",
        "colab": {
          "base_uri": "https://localhost:8080/",
          "height": 238
        }
      },
      "source": [
        "from sklearn.metrics import confusion_matrix\n",
        "\n",
        "M = confusion_matrix(y_test, y_predicted)\n",
        "display(M)\n",
        "recall = np.diag(M) / np.sum(M, axis = 1)\n",
        "print(recall)\n",
        "precision = np.diag(M) / np.sum(M, axis = 0)\n",
        "print(precision)"
      ],
      "execution_count": 0,
      "outputs": [
        {
          "output_type": "display_data",
          "data": {
            "text/plain": [
              "array([[1991,    1,    1,    0,    0,    1,    3,    0,    2,    1],\n",
              "       [   0, 1994,    4,    0,    0,    0,    0,    2,    0,    0],\n",
              "       [   2,    1, 1987,    1,    1,    0,    0,    6,    2,    0],\n",
              "       [   0,    0,    7, 1984,    0,    4,    0,    3,    2,    0],\n",
              "       [   0,    1,    0,    0, 1988,    0,    2,    2,    1,    6],\n",
              "       [   0,    0,    1,    3,    2, 1990,    1,    0,    3,    0],\n",
              "       [   2,    2,    1,    0,    0,    1, 1992,    0,    2,    0],\n",
              "       [   1,    6,    2,    0,    2,    1,    0, 1987,    0,    1],\n",
              "       [   2,    0,    4,    0,    0,    4,    0,    0, 1985,    5],\n",
              "       [   3,    0,    0,    0,    7,    0,    0,    4,    1, 1985]])"
            ]
          },
          "metadata": {
            "tags": []
          }
        },
        {
          "output_type": "stream",
          "text": [
            "[0.9955 0.997  0.9935 0.992  0.994  0.995  0.996  0.9935 0.9925 0.9925]\n",
            "[0.9950025  0.99451372 0.99003488 0.99798793 0.994      0.99450275\n",
            " 0.996997   0.99151697 0.99349349 0.99349349]\n"
          ],
          "name": "stdout"
        }
      ]
    },
    {
      "cell_type": "code",
      "metadata": {
        "id": "gNyzAcsvpSYY",
        "colab_type": "code",
        "outputId": "7268b524-146e-4789-a0b6-aea73f995a2e",
        "colab": {
          "base_uri": "https://localhost:8080/",
          "height": 350
        }
      },
      "source": [
        "import seaborn as sns\n",
        "\n",
        "fig, ax = plt.subplots(figsize=(5,5))\n",
        "sns.heatmap(M, annot=False, ax = ax)\n",
        "\n",
        "# By definition a confusion matrix C is such that Cij is equal to the number of observations known to be in group i but predicted to be in group j.\n",
        "ax.set_xlabel('Predicted labels')\n",
        "ax.set_ylabel('True labels')\n",
        "ax.set_title('Confusion Matrix');\n",
        "ax.xaxis.set_ticklabels(labels)\n",
        "ax.yaxis.set_ticklabels(labels)\n",
        "\n",
        "fig.savefig('confusion_matrix.png')\n",
        "plt.show()"
      ],
      "execution_count": 0,
      "outputs": [
        {
          "output_type": "display_data",
          "data": {
            "image/png": "iVBORw0KGgoAAAANSUhEUgAAAUgAAAFNCAYAAABi2faAAAAABHNCSVQICAgIfAhkiAAAAAlwSFlz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\nIM3McjhAmpnlcIA0M8vx/wGpL8qx+Fbz/gAAAABJRU5ErkJggg==\n",
            "text/plain": [
              "<Figure size 360x360 with 2 Axes>"
            ]
          },
          "metadata": {
            "tags": []
          }
        }
      ]
    },
    {
      "cell_type": "code",
      "metadata": {
        "id": "dGuTML2pp0ua",
        "colab_type": "code",
        "outputId": "50360b05-4f80-4e04-920d-18b693438e75",
        "colab": {
          "base_uri": "https://localhost:8080/",
          "height": 204
        }
      },
      "source": [
        "# Manually print confusion matrix\n",
        "print('  ', end='  ')\n",
        "print('0    ', end='')\n",
        "for j in labels[1:]:\n",
        "    print(str(j), end='   ')\n",
        "print()\n",
        "for idx, i in enumerate(M):\n",
        "    print(str(labels[idx]), end=' ')\n",
        "    for j in i:\n",
        "        print('%3d' % (j), end=' ')\n",
        "    print()"
      ],
      "execution_count": 0,
      "outputs": [
        {
          "output_type": "stream",
          "text": [
            "    0    1   2   3   4   5   6   7   8   9   \n",
            "0 1991   1   1   0   0   1   3   0   2   1 \n",
            "1   0 1994   4   0   0   0   0   2   0   0 \n",
            "2   2   1 1987   1   1   0   0   6   2   0 \n",
            "3   0   0   7 1984   0   4   0   3   2   0 \n",
            "4   0   1   0   0 1988   0   2   2   1   6 \n",
            "5   0   0   1   3   2 1990   1   0   3   0 \n",
            "6   2   2   1   0   0   1 1992   0   2   0 \n",
            "7   1   6   2   0   2   1   0 1987   0   1 \n",
            "8   2   0   4   0   0   4   0   0 1985   5 \n",
            "9   3   0   0   0   7   0   0   4   1 1985 \n"
          ],
          "name": "stdout"
        }
      ]
    },
    {
      "cell_type": "code",
      "metadata": {
        "id": "i8Dq-b2Fq2La",
        "colab_type": "code",
        "outputId": "c855f52d-f1ee-4e08-f945-d3726de58113",
        "colab": {
          "base_uri": "https://localhost:8080/",
          "height": 2877
        }
      },
      "source": [
        "# Visualise missclassified examples \n",
        "indexes = y_test!=y_predicted\n",
        "n = sum(indexes)  # 126\n",
        "x_test_wrong = np.array(x_test)[indexes]\n",
        "y_test_wrong = np.array(y_test)[indexes]\n",
        "y_predicted_wrong = np.array(y_predicted)[indexes]\n",
        "for i in range(10):\n",
        "  print('true label: ', y_test_wrong[i])\n",
        "  print('predicted label: ', y_predicted_wrong[i])\n",
        "  plt.imshow(x_test_wrong[i], cmap='gray')\n",
        "  plt.show()"
      ],
      "execution_count": 0,
      "outputs": [
        {
          "output_type": "stream",
          "text": [
            "true label:  5\n",
            "predicted label:  4\n"
          ],
          "name": "stdout"
        },
        {
          "output_type": "display_data",
          "data": {
            "image/png": "iVBORw0KGgoAAAANSUhEUgAAAP4AAAD8CAYAAABXXhlaAAAABHNCSVQICAgIfAhkiAAAAAlwSFlz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\nfCEyRI4vRIbUSuO3A+tm1my8nfUhh/c4PMjbi0pCy9bwnZDS4GWW1bYLp8W